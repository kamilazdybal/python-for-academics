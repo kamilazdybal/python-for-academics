{
 "cells": [
  {
   "cell_type": "markdown",
   "id": "c33a3ec5",
   "metadata": {},
   "source": [
    "# `Python for academics` : Documenting your research\n",
    "\n",
    "by **Kamila Zdybał**\n",
    "\n",
    "[`https://kamilazdybal.github.io`](https://kamilazdybal.github.io)"
   ]
  },
  {
   "cell_type": "markdown",
   "id": "5cf42e0c",
   "metadata": {},
   "source": [
    "In this notebook, we explore various ways in which you can automatically document your code and research results."
   ]
  },
  {
   "cell_type": "markdown",
   "id": "aeb2aba2",
   "metadata": {},
   "source": [
    "<a id=top-page></a>\n",
    "***\n",
    "\n",
    "## Table of contents\n",
    "\n",
    "- [**Generate README files automatically**](#README)\n",
    "    - [Exercise 1](#README-ex-1)\n",
    "    - [Exercise 2](#README-ex-2)\n",
    "    - [Exercise 3](#README-ex-3)\n",
    "- [**Organize your results into LaTeX tables**](#latex-tables)\n",
    "    - [Exercise 1](array-to-latex-ex-1)"
   ]
  },
  {
   "cell_type": "markdown",
   "id": "dbf4edef",
   "metadata": {},
   "source": [
    "<a id=README></a>\n",
    "***\n",
    "\n",
    "## Generate README files automatically\n",
    "\n",
    "[**Go to the top ↑**](#top-page)"
   ]
  },
  {
   "cell_type": "markdown",
   "id": "860abd95",
   "metadata": {},
   "source": [
    "<a id=README-ex-1></a>\n",
    "***\n",
    "### Exercise 1\n",
    "\n",
    "[**Go to the top ↑**](#top-page)\n",
    "\n",
    "<a href=\"https://youtu.be/KnbVBXsbyxg\">\n",
    "  <img src=\"https://img.shields.io/badge/youtube-firebrick?style=for-the-badge&logo=youtube&logoColor=white\" alt=\"YouTube Badge\"/>\n",
    "</a>\n",
    "\n",
    "We want to accomplish:\n",
    "\n",
    "<img src=\"../figures/README-01.png\" style=\"width:800px\">\n",
    "\n",
    "For this, we need to generate the following `markdown` code:\n",
    "\n",
    "```markdown\n",
    "# Available code\n",
    "\n",
    "- [Jupyter notebook: `process-files.ipynb`](process-files.ipynb)\n",
    "\n",
    "- [Jupyter notebook: `document-research.ipynb`](document-research.ipynb)\n",
    "\n",
    "- [Jupyter notebook: `automate-your-life-with-list-comprehensions.ipynb`](automate-your-life-with-list-comprehensions.ipynb)\n",
    "```"
   ]
  },
  {
   "cell_type": "code",
   "execution_count": 1,
   "id": "19023488",
   "metadata": {},
   "outputs": [],
   "source": [
    "from os import listdir\n",
    "from os.path import isfile"
   ]
  },
  {
   "cell_type": "code",
   "execution_count": 2,
   "id": "69d71941",
   "metadata": {},
   "outputs": [],
   "source": [
    "directory = './'"
   ]
  },
  {
   "cell_type": "code",
   "execution_count": 3,
   "id": "f1461ab0",
   "metadata": {},
   "outputs": [],
   "source": [
    "files = [i for i in listdir(directory) if isfile(directory + i)]"
   ]
  },
  {
   "cell_type": "code",
   "execution_count": 4,
   "id": "ea5d4a4c",
   "metadata": {},
   "outputs": [],
   "source": [
    "README_file = open(directory + 'README.md', 'w')"
   ]
  },
  {
   "cell_type": "code",
   "execution_count": 5,
   "id": "18a6bbae",
   "metadata": {},
   "outputs": [
    {
     "data": {
      "text/plain": [
       "18"
      ]
     },
     "execution_count": 5,
     "metadata": {},
     "output_type": "execute_result"
    }
   ],
   "source": [
    "README_file.write('# Available code\\n\\n')"
   ]
  },
  {
   "cell_type": "code",
   "execution_count": 6,
   "id": "f1d18f8d",
   "metadata": {},
   "outputs": [
    {
     "name": "stdout",
     "output_type": "stream",
     "text": [
      "\n",
      "README.md file generated in:\n",
      "./\n",
      "\n"
     ]
    }
   ],
   "source": [
    "for file in files:\n",
    "    \n",
    "    file_list = file.split('.')\n",
    "\n",
    "    if file_list[-1] == 'ipynb':\n",
    "        \n",
    "        README_file.write('- [Jupyter notebook: `' + file + '`](' + file + ')\\n\\n')\n",
    "\n",
    "README_file.close()\n",
    "\n",
    "print('\\nREADME.md file generated in:\\n' + directory + '\\n')"
   ]
  },
  {
   "cell_type": "markdown",
   "id": "e298e8b6",
   "metadata": {},
   "source": [
    "<a id=README-ex-2></a>\n",
    "***\n",
    "### Exercise 2\n",
    "\n",
    "[**Go to the top ↑**](#top-page)\n",
    "\n",
    "<a href=\"https://youtu.be/9jCQA3psQGI\">\n",
    "  <img src=\"https://img.shields.io/badge/youtube-firebrick?style=for-the-badge&logo=youtube&logoColor=white\" alt=\"YouTube Badge\"/>\n",
    "</a>\n",
    "\n",
    "We want to accomplish:\n",
    "\n",
    "<img src=\"../figures/README-02.png\" style=\"width:800px\">\n",
    "\n",
    "For this, we need to generate the following `markdown` code:\n",
    "\n",
    "```markdown\n",
    "# Available code\n",
    "\n",
    "### `Python for academics` : Processing files\n",
    "\n",
    "- [Jupyter notebook: `process-files.ipynb`](process-files.ipynb)\n",
    "\n",
    "> In this notebook, we explore various ways in which Python can help us preprocess files that store your research results.\n",
    "\n",
    "### `Python for academics` : Documenting your research\n",
    "\n",
    "- [Jupyter notebook: `document-research.ipynb`](document-research.ipynb)\n",
    "\n",
    "> In this notebook, we explore various ways in which you can automatically document your code and research results.\n",
    "\n",
    "### `Python for academics` : Automate your life with list comprehensions\n",
    "\n",
    "- [Jupyter notebook: `list-comprehensions.ipynb`](list-comprehensions.ipynb)\n",
    "\n",
    "> In this notebook, we use list comprehensions to quickly generate large pieces of text and `tex` code. \n",
    "```"
   ]
  },
  {
   "cell_type": "code",
   "execution_count": 7,
   "id": "72e7049a",
   "metadata": {},
   "outputs": [],
   "source": [
    "from os import listdir\n",
    "from os.path import isfile\n",
    "import nbformat"
   ]
  },
  {
   "cell_type": "code",
   "execution_count": 8,
   "id": "6aef5955",
   "metadata": {},
   "outputs": [],
   "source": [
    "directory = './'"
   ]
  },
  {
   "cell_type": "code",
   "execution_count": 9,
   "id": "8d792317",
   "metadata": {},
   "outputs": [],
   "source": [
    "files = [i for i in listdir(directory) if isfile(directory + i)]"
   ]
  },
  {
   "cell_type": "code",
   "execution_count": 10,
   "id": "710d4baa",
   "metadata": {},
   "outputs": [],
   "source": [
    "README_file = open(directory + 'README.md', 'w')"
   ]
  },
  {
   "cell_type": "code",
   "execution_count": 11,
   "id": "5e7e8a46",
   "metadata": {},
   "outputs": [
    {
     "data": {
      "text/plain": [
       "18"
      ]
     },
     "execution_count": 11,
     "metadata": {},
     "output_type": "execute_result"
    }
   ],
   "source": [
    "README_file.write('# Available code\\n\\n')"
   ]
  },
  {
   "cell_type": "code",
   "execution_count": 12,
   "id": "5c1566dd",
   "metadata": {},
   "outputs": [
    {
     "name": "stdout",
     "output_type": "stream",
     "text": [
      "\n",
      "README.md file generated in:\n",
      "./\n",
      "\n"
     ]
    }
   ],
   "source": [
    "for file in files:\n",
    "    \n",
    "    file_list = file.split('.')\n",
    "\n",
    "    if file_list[-1] == 'ipynb':\n",
    "        \n",
    "        notebook = nbformat.read(directory + file, as_version=4)\n",
    "        \n",
    "        README_file.write('##' + notebook['cells'][0]['source'].split('\\n\\n')[0] + '\\n\\n')\n",
    " \n",
    "        README_file.write('- [Jupyter notebook: `' + file + '`](' + file + ')\\n\\n')\n",
    "    \n",
    "        README_file.write('> ' + notebook['cells'][1]['source'] + '\\n\\n')\n",
    "\n",
    "README_file.close()\n",
    "\n",
    "print('\\nREADME.md file generated in:\\n' + directory + '\\n')"
   ]
  },
  {
   "cell_type": "markdown",
   "id": "5993cc98",
   "metadata": {},
   "source": [
    "<a id=latex-tables></a>\n",
    "***\n",
    "\n",
    "## Organize your results into `LaTeX` tables\n",
    "\n",
    "[**Go to the top ↑**](#top-page)"
   ]
  },
  {
   "cell_type": "markdown",
   "id": "60241c5d",
   "metadata": {},
   "source": [
    "<a id=array-to-latex-ex-1></a>\n",
    "***\n",
    "### Exercise 1\n",
    "\n",
    "[**Go to the top ↑**](#top-page)\n",
    "\n",
    "<a href=\"https://youtu.be/-kU4h05jlFA\">\n",
    "  <img src=\"https://img.shields.io/badge/youtube-firebrick?style=for-the-badge&logo=youtube&logoColor=white\" alt=\"YouTube Badge\"/>\n",
    "</a>\n",
    "\n",
    "We want to accomplish:\n",
    "\n",
    "<img src=\"../figures/numerical-table-01.png\" style=\"width:800px\">\n",
    "\n",
    "For this, we need to generate the following `tex` code:\n",
    "\n",
    "```tex\n",
    "\\begin{tabular}{lllllll}\n",
    "\\toprule\n",
    "{} &  $R_{1}$ &  $R_{2}$ &  $R_{3}$ &  $R_{4}$ &  $R_{5}$ &  $R_{6}$ \\\\\n",
    "\\midrule\n",
    "$x^{2}$ &    0.364 &    0.693 &    0.285 &    0.392 &    0.410 &    0.634 \\\\\n",
    "$x^{3}$ &    0.014 &    0.244 &    0.185 &    0.821 &    0.433 &    0.143 \\\\\n",
    "$x^{4}$ &    0.521 &    0.326 &    0.226 &    0.024 &    0.606 &    0.659 \\\\\n",
    "$x^{5}$ &    0.560 &    0.536 &    0.965 &    0.439 &    0.534 &    0.550 \\\\\n",
    "\\bottomrule\n",
    "\\end{tabular}\n",
    "```"
   ]
  },
  {
   "cell_type": "code",
   "execution_count": 13,
   "id": "a009b79f",
   "metadata": {},
   "outputs": [],
   "source": [
    "import numpy as np\n",
    "import pandas as pd"
   ]
  },
  {
   "cell_type": "code",
   "execution_count": 14,
   "id": "4e8ca283",
   "metadata": {},
   "outputs": [],
   "source": [
    "results = np.random.random((4,6))"
   ]
  },
  {
   "cell_type": "code",
   "execution_count": 15,
   "id": "ea32b5fd",
   "metadata": {},
   "outputs": [],
   "source": [
    "df = pd.DataFrame(results)"
   ]
  },
  {
   "cell_type": "code",
   "execution_count": 16,
   "id": "2c0bd5d7",
   "metadata": {},
   "outputs": [
    {
     "data": {
      "text/html": [
       "<div>\n",
       "<style scoped>\n",
       "    .dataframe tbody tr th:only-of-type {\n",
       "        vertical-align: middle;\n",
       "    }\n",
       "\n",
       "    .dataframe tbody tr th {\n",
       "        vertical-align: top;\n",
       "    }\n",
       "\n",
       "    .dataframe thead th {\n",
       "        text-align: right;\n",
       "    }\n",
       "</style>\n",
       "<table border=\"1\" class=\"dataframe\">\n",
       "  <thead>\n",
       "    <tr style=\"text-align: right;\">\n",
       "      <th></th>\n",
       "      <th>0</th>\n",
       "      <th>1</th>\n",
       "      <th>2</th>\n",
       "      <th>3</th>\n",
       "      <th>4</th>\n",
       "      <th>5</th>\n",
       "    </tr>\n",
       "  </thead>\n",
       "  <tbody>\n",
       "    <tr>\n",
       "      <th>0</th>\n",
       "      <td>0.283106</td>\n",
       "      <td>0.104793</td>\n",
       "      <td>0.191366</td>\n",
       "      <td>0.214066</td>\n",
       "      <td>0.251016</td>\n",
       "      <td>0.698554</td>\n",
       "    </tr>\n",
       "    <tr>\n",
       "      <th>1</th>\n",
       "      <td>0.959257</td>\n",
       "      <td>0.821779</td>\n",
       "      <td>0.413021</td>\n",
       "      <td>0.248586</td>\n",
       "      <td>0.134565</td>\n",
       "      <td>0.944594</td>\n",
       "    </tr>\n",
       "    <tr>\n",
       "      <th>2</th>\n",
       "      <td>0.263538</td>\n",
       "      <td>0.283364</td>\n",
       "      <td>0.286356</td>\n",
       "      <td>0.357961</td>\n",
       "      <td>0.267424</td>\n",
       "      <td>0.360225</td>\n",
       "    </tr>\n",
       "    <tr>\n",
       "      <th>3</th>\n",
       "      <td>0.918067</td>\n",
       "      <td>0.211009</td>\n",
       "      <td>0.420377</td>\n",
       "      <td>0.058353</td>\n",
       "      <td>0.076384</td>\n",
       "      <td>0.198408</td>\n",
       "    </tr>\n",
       "  </tbody>\n",
       "</table>\n",
       "</div>"
      ],
      "text/plain": [
       "          0         1         2         3         4         5\n",
       "0  0.283106  0.104793  0.191366  0.214066  0.251016  0.698554\n",
       "1  0.959257  0.821779  0.413021  0.248586  0.134565  0.944594\n",
       "2  0.263538  0.283364  0.286356  0.357961  0.267424  0.360225\n",
       "3  0.918067  0.211009  0.420377  0.058353  0.076384  0.198408"
      ]
     },
     "execution_count": 16,
     "metadata": {},
     "output_type": "execute_result"
    }
   ],
   "source": [
    "df"
   ]
  },
  {
   "cell_type": "code",
   "execution_count": 17,
   "id": "8b204cd3",
   "metadata": {},
   "outputs": [
    {
     "name": "stdout",
     "output_type": "stream",
     "text": [
      "\\begin{tabular}{rrrrrr}\n",
      "\\toprule\n",
      "0.283106 & 0.104793 & 0.191366 & 0.214066 & 0.251016 & 0.698554 \\\\\n",
      "0.959257 & 0.821779 & 0.413021 & 0.248586 & 0.134565 & 0.944594 \\\\\n",
      "0.263538 & 0.283364 & 0.286356 & 0.357961 & 0.267424 & 0.360225 \\\\\n",
      "0.918067 & 0.211009 & 0.420377 & 0.058353 & 0.076384 & 0.198408 \\\\\n",
      "\\bottomrule\n",
      "\\end{tabular}\n",
      "\n"
     ]
    }
   ],
   "source": [
    "print(df.to_latex(header=False, index=False))"
   ]
  },
  {
   "cell_type": "code",
   "execution_count": 18,
   "id": "f44af411",
   "metadata": {},
   "outputs": [],
   "source": [
    "n_rows, n_columns = np.shape(results)"
   ]
  },
  {
   "cell_type": "code",
   "execution_count": 19,
   "id": "62956b0c",
   "metadata": {},
   "outputs": [],
   "source": [
    "columns = ['$R_{' + str(i+1) + '}$' for i in range(0,n_columns)]"
   ]
  },
  {
   "cell_type": "code",
   "execution_count": 20,
   "id": "e3256b8f",
   "metadata": {},
   "outputs": [],
   "source": [
    "index = ['$x^{' + str(i+2) + '}$' for i in range(0,n_rows)]"
   ]
  },
  {
   "cell_type": "code",
   "execution_count": 21,
   "id": "9383a2d0",
   "metadata": {},
   "outputs": [],
   "source": [
    "df = pd.DataFrame(results, columns=columns, index=index)"
   ]
  },
  {
   "cell_type": "code",
   "execution_count": 22,
   "id": "4d6a7a5b",
   "metadata": {},
   "outputs": [
    {
     "data": {
      "text/html": [
       "<div>\n",
       "<style scoped>\n",
       "    .dataframe tbody tr th:only-of-type {\n",
       "        vertical-align: middle;\n",
       "    }\n",
       "\n",
       "    .dataframe tbody tr th {\n",
       "        vertical-align: top;\n",
       "    }\n",
       "\n",
       "    .dataframe thead th {\n",
       "        text-align: right;\n",
       "    }\n",
       "</style>\n",
       "<table border=\"1\" class=\"dataframe\">\n",
       "  <thead>\n",
       "    <tr style=\"text-align: right;\">\n",
       "      <th></th>\n",
       "      <th>$R_{1}$</th>\n",
       "      <th>$R_{2}$</th>\n",
       "      <th>$R_{3}$</th>\n",
       "      <th>$R_{4}$</th>\n",
       "      <th>$R_{5}$</th>\n",
       "      <th>$R_{6}$</th>\n",
       "    </tr>\n",
       "  </thead>\n",
       "  <tbody>\n",
       "    <tr>\n",
       "      <th>$x^{2}$</th>\n",
       "      <td>0.283106</td>\n",
       "      <td>0.104793</td>\n",
       "      <td>0.191366</td>\n",
       "      <td>0.214066</td>\n",
       "      <td>0.251016</td>\n",
       "      <td>0.698554</td>\n",
       "    </tr>\n",
       "    <tr>\n",
       "      <th>$x^{3}$</th>\n",
       "      <td>0.959257</td>\n",
       "      <td>0.821779</td>\n",
       "      <td>0.413021</td>\n",
       "      <td>0.248586</td>\n",
       "      <td>0.134565</td>\n",
       "      <td>0.944594</td>\n",
       "    </tr>\n",
       "    <tr>\n",
       "      <th>$x^{4}$</th>\n",
       "      <td>0.263538</td>\n",
       "      <td>0.283364</td>\n",
       "      <td>0.286356</td>\n",
       "      <td>0.357961</td>\n",
       "      <td>0.267424</td>\n",
       "      <td>0.360225</td>\n",
       "    </tr>\n",
       "    <tr>\n",
       "      <th>$x^{5}$</th>\n",
       "      <td>0.918067</td>\n",
       "      <td>0.211009</td>\n",
       "      <td>0.420377</td>\n",
       "      <td>0.058353</td>\n",
       "      <td>0.076384</td>\n",
       "      <td>0.198408</td>\n",
       "    </tr>\n",
       "  </tbody>\n",
       "</table>\n",
       "</div>"
      ],
      "text/plain": [
       "          $R_{1}$   $R_{2}$   $R_{3}$   $R_{4}$   $R_{5}$   $R_{6}$\n",
       "$x^{2}$  0.283106  0.104793  0.191366  0.214066  0.251016  0.698554\n",
       "$x^{3}$  0.959257  0.821779  0.413021  0.248586  0.134565  0.944594\n",
       "$x^{4}$  0.263538  0.283364  0.286356  0.357961  0.267424  0.360225\n",
       "$x^{5}$  0.918067  0.211009  0.420377  0.058353  0.076384  0.198408"
      ]
     },
     "execution_count": 22,
     "metadata": {},
     "output_type": "execute_result"
    }
   ],
   "source": [
    "df"
   ]
  },
  {
   "cell_type": "code",
   "execution_count": 23,
   "id": "f20e56ea",
   "metadata": {},
   "outputs": [
    {
     "name": "stdout",
     "output_type": "stream",
     "text": [
      "\\begin{tabular}{lllllll}\n",
      "\\toprule\n",
      "{} &  $R_{1}$ &  $R_{2}$ &  $R_{3}$ &  $R_{4}$ &  $R_{5}$ &  $R_{6}$ \\\\\n",
      "\\midrule\n",
      "$x^{2}$ &    0.283 &    0.105 &    0.191 &    0.214 &    0.251 &    0.699 \\\\\n",
      "$x^{3}$ &    0.959 &    0.822 &    0.413 &    0.249 &    0.135 &    0.945 \\\\\n",
      "$x^{4}$ &    0.264 &    0.283 &    0.286 &    0.358 &    0.267 &    0.360 \\\\\n",
      "$x^{5}$ &    0.918 &    0.211 &    0.420 &    0.058 &    0.076 &    0.198 \\\\\n",
      "\\bottomrule\n",
      "\\end{tabular}\n",
      "\n"
     ]
    }
   ],
   "source": [
    "print(df.to_latex(header=True, index=True, escape=False, float_format='%.3f', column_format='l'*(n_columns+1)))"
   ]
  },
  {
   "cell_type": "markdown",
   "id": "e4b2f46f",
   "metadata": {},
   "source": [
    "***"
   ]
  }
 ],
 "metadata": {
  "kernelspec": {
   "display_name": "Python 3 (ipykernel)",
   "language": "python",
   "name": "python3"
  },
  "language_info": {
   "codemirror_mode": {
    "name": "ipython",
    "version": 3
   },
   "file_extension": ".py",
   "mimetype": "text/x-python",
   "name": "python",
   "nbconvert_exporter": "python",
   "pygments_lexer": "ipython3",
   "version": "3.10.12"
  }
 },
 "nbformat": 4,
 "nbformat_minor": 5
}
