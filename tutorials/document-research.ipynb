{
 "cells": [
  {
   "cell_type": "markdown",
   "id": "ddb01801",
   "metadata": {},
   "source": [
    "<a id=top-page></a>\n",
    "\n",
    "# [`Python for academics` : Documenting your research](https://www.youtube.com/playlist?list=PL7gWbAt3_3KEuRQfwFeI_RH3EZr87nslf)\n",
    "by **Kamila Zdybał**\n",
    "\n",
    "[`https://kamilazdybal.github.io`](https://kamilazdybal.github.io)\n",
    "\n",
    "***\n",
    "\n",
    "## Table of contents\n",
    "\n",
    "- [**Generate README files automatically**](#README)\n",
    "    - [Exercise 1](#README-ex-1)\n",
    "    - [Exercise 2](#README-ex-2)\n",
    "    - [Exercise 3](#README-ex-3)\n",
    "    \n",
    "***"
   ]
  },
  {
   "cell_type": "code",
   "execution_count": null,
   "id": "f803798f",
   "metadata": {},
   "outputs": [],
   "source": [
    "import numpy as np"
   ]
  },
  {
   "cell_type": "markdown",
   "id": "969ae4e6",
   "metadata": {},
   "source": [
    "<a id=README></a>\n",
    "***\n",
    "\n",
    "## Generate README files automatically\n",
    "\n",
    "[**Go to the top ↑**](#top-page)"
   ]
  },
  {
   "cell_type": "markdown",
   "id": "dacf57b2",
   "metadata": {},
   "source": [
    "<a id=README-ex-1></a>\n",
    "***\n",
    "### Exercise 1\n",
    "\n",
    "[**Go to the top ↑**](#top-page)\n",
    "\n",
    "<a href=\"https://youtu.be/KnbVBXsbyxg\">\n",
    "  <img src=\"https://img.shields.io/badge/youtube-firebrick?style=for-the-badge&logo=youtube&logoColor=white\" alt=\"YouTube Badge\"/>\n",
    "</a>\n",
    "\n",
    "We want to accomplish:\n",
    "\n",
    "![Screenshot](README-01.png)\n",
    "\n",
    "For this, we need to generate the following `markdown` code:\n",
    "\n",
    "```markdown\n",
    "# Available code\n",
    "\n",
    "- [Jupyter notebook: `process-files.ipynb`](process-files.ipynb)\n",
    "\n",
    "- [Jupyter notebook: `document-research.ipynb`](document-research.ipynb)\n",
    "\n",
    "- [Jupyter notebook: `automate-your-life-with-list-comprehensions.ipynb`](automate-your-life-with-list-comprehensions.ipynb)\n",
    "```"
   ]
  },
  {
   "cell_type": "code",
   "execution_count": 1,
   "id": "9179a075",
   "metadata": {},
   "outputs": [],
   "source": [
    "from os import listdir\n",
    "from os.path import isfile"
   ]
  },
  {
   "cell_type": "code",
   "execution_count": 2,
   "id": "ccb43a99",
   "metadata": {},
   "outputs": [],
   "source": [
    "directory = './'"
   ]
  },
  {
   "cell_type": "code",
   "execution_count": 3,
   "id": "4049b199",
   "metadata": {},
   "outputs": [],
   "source": [
    "files = [i for i in listdir(directory) if isfile(directory + i)]"
   ]
  },
  {
   "cell_type": "code",
   "execution_count": 5,
   "id": "e1dc31db",
   "metadata": {},
   "outputs": [],
   "source": [
    "README_file = open(directory + 'README.md', 'w')"
   ]
  },
  {
   "cell_type": "code",
   "execution_count": 6,
   "id": "3f084f82",
   "metadata": {},
   "outputs": [
    {
     "data": {
      "text/plain": [
       "18"
      ]
     },
     "execution_count": 6,
     "metadata": {},
     "output_type": "execute_result"
    }
   ],
   "source": [
    "README_file.write('# Available code\\n\\n')"
   ]
  },
  {
   "cell_type": "code",
   "execution_count": 8,
   "id": "fbe42b9f",
   "metadata": {},
   "outputs": [
    {
     "name": "stdout",
     "output_type": "stream",
     "text": [
      "\n",
      "README.md file generated in:\n",
      "./\n",
      "\n"
     ]
    }
   ],
   "source": [
    "for file in files:\n",
    "    \n",
    "    file_list = file.split('.')\n",
    "\n",
    "    if file_list[-1] == 'ipynb':\n",
    "        \n",
    "        README_file.write('- [Jupyter notebook: `' + file + '`](' + file + ')\\n\\n')\n",
    "        \n",
    "README_file.close()\n",
    "\n",
    "print('\\nREADME.md file generated in:\\n' + directory + '\\n')"
   ]
  },
  {
   "cell_type": "code",
   "execution_count": null,
   "id": "8f0e4342",
   "metadata": {},
   "outputs": [],
   "source": []
  },
  {
   "cell_type": "code",
   "execution_count": null,
   "id": "f33b6caa",
   "metadata": {},
   "outputs": [],
   "source": []
  },
  {
   "cell_type": "code",
   "execution_count": null,
   "id": "5e188fe7",
   "metadata": {},
   "outputs": [],
   "source": []
  },
  {
   "cell_type": "code",
   "execution_count": null,
   "id": "d19dbf27",
   "metadata": {},
   "outputs": [],
   "source": []
  },
  {
   "cell_type": "code",
   "execution_count": null,
   "id": "48f8ce7a",
   "metadata": {},
   "outputs": [],
   "source": []
  },
  {
   "cell_type": "code",
   "execution_count": null,
   "id": "a806d625",
   "metadata": {},
   "outputs": [],
   "source": []
  },
  {
   "cell_type": "code",
   "execution_count": null,
   "id": "975a7fc7",
   "metadata": {},
   "outputs": [],
   "source": []
  },
  {
   "cell_type": "code",
   "execution_count": null,
   "id": "ea1eb917",
   "metadata": {},
   "outputs": [],
   "source": []
  },
  {
   "cell_type": "code",
   "execution_count": null,
   "id": "d84740af",
   "metadata": {},
   "outputs": [],
   "source": []
  },
  {
   "cell_type": "code",
   "execution_count": null,
   "id": "e2db3e44",
   "metadata": {},
   "outputs": [],
   "source": []
  },
  {
   "cell_type": "markdown",
   "id": "cfc6951a",
   "metadata": {},
   "source": [
    "***"
   ]
  }
 ],
 "metadata": {
  "kernelspec": {
   "display_name": "Python 3",
   "language": "python",
   "name": "python3"
  },
  "language_info": {
   "codemirror_mode": {
    "name": "ipython",
    "version": 3
   },
   "file_extension": ".py",
   "mimetype": "text/x-python",
   "name": "python",
   "nbconvert_exporter": "python",
   "pygments_lexer": "ipython3",
   "version": "3.7.6"
  }
 },
 "nbformat": 4,
 "nbformat_minor": 5
}
