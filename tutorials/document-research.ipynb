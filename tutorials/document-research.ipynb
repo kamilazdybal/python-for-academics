{
 "cells": [
  {
   "cell_type": "markdown",
   "id": "be42f498",
   "metadata": {},
   "source": [
    "# `Python for academics` : Documenting your research\n",
    "\n",
    "by **Kamila Zdybał**\n",
    "\n",
    "[`https://kamilazdybal.github.io`](https://kamilazdybal.github.io)"
   ]
  },
  {
   "cell_type": "markdown",
   "id": "1cec33ec",
   "metadata": {},
   "source": [
    "In this notebook, we explore various ways in which you can automatically document your code and research results."
   ]
  },
  {
   "cell_type": "markdown",
   "id": "6f64abc5",
   "metadata": {},
   "source": [
    "<a id=top-page></a>\n",
    "***\n",
    "\n",
    "## Table of contents\n",
    "\n",
    "- [**Generate README files automatically**](#README)\n",
    "    - [Exercise 1](#README-ex-1)\n",
    "    - [Exercise 2](#README-ex-2)\n",
    "    - [Exercise 3](#README-ex-3)\n",
    "    \n",
    "***"
   ]
  },
  {
   "cell_type": "code",
   "execution_count": 1,
   "id": "e262998d",
   "metadata": {},
   "outputs": [],
   "source": [
    "import numpy as np"
   ]
  },
  {
   "cell_type": "markdown",
   "id": "d410eddf",
   "metadata": {},
   "source": [
    "<a id=README></a>\n",
    "***\n",
    "\n",
    "## Generate README files automatically\n",
    "\n",
    "[**Go to the top ↑**](#top-page)"
   ]
  },
  {
   "cell_type": "markdown",
   "id": "679ec837",
   "metadata": {},
   "source": [
    "<a id=README-ex-1></a>\n",
    "***\n",
    "### Exercise 1\n",
    "\n",
    "[**Go to the top ↑**](#top-page)\n",
    "\n",
    "<a href=\"https://youtu.be/KnbVBXsbyxg\">\n",
    "  <img src=\"https://img.shields.io/badge/youtube-firebrick?style=for-the-badge&logo=youtube&logoColor=white\" alt=\"YouTube Badge\"/>\n",
    "</a>\n",
    "\n",
    "We want to accomplish:\n",
    "\n",
    "![Screenshot](README-01.png)\n",
    "\n",
    "For this, we need to generate the following `markdown` code:\n",
    "\n",
    "```markdown\n",
    "# Available code\n",
    "\n",
    "- [Jupyter notebook: `process-files.ipynb`](process-files.ipynb)\n",
    "\n",
    "- [Jupyter notebook: `document-research.ipynb`](document-research.ipynb)\n",
    "\n",
    "- [Jupyter notebook: `automate-your-life-with-list-comprehensions.ipynb`](automate-your-life-with-list-comprehensions.ipynb)\n",
    "```"
   ]
  },
  {
   "cell_type": "code",
   "execution_count": 2,
   "id": "aacbc199",
   "metadata": {},
   "outputs": [],
   "source": [
    "from os import listdir\n",
    "from os.path import isfile"
   ]
  },
  {
   "cell_type": "code",
   "execution_count": 3,
   "id": "3a289886",
   "metadata": {},
   "outputs": [],
   "source": [
    "directory = './'"
   ]
  },
  {
   "cell_type": "code",
   "execution_count": 4,
   "id": "995086bd",
   "metadata": {},
   "outputs": [],
   "source": [
    "files = [i for i in listdir(directory) if isfile(directory + i)]"
   ]
  },
  {
   "cell_type": "code",
   "execution_count": 5,
   "id": "dc08c766",
   "metadata": {},
   "outputs": [],
   "source": [
    "README_file = open(directory + 'README.md', 'w')"
   ]
  },
  {
   "cell_type": "code",
   "execution_count": 6,
   "id": "a1736ab8",
   "metadata": {},
   "outputs": [
    {
     "data": {
      "text/plain": [
       "18"
      ]
     },
     "execution_count": 6,
     "metadata": {},
     "output_type": "execute_result"
    }
   ],
   "source": [
    "README_file.write('# Available code\\n\\n')"
   ]
  },
  {
   "cell_type": "code",
   "execution_count": 7,
   "id": "9c01e851",
   "metadata": {},
   "outputs": [
    {
     "name": "stdout",
     "output_type": "stream",
     "text": [
      "\n",
      "README.md file generated in:\n",
      "./\n",
      "\n"
     ]
    }
   ],
   "source": [
    "for file in files:\n",
    "    \n",
    "    file_list = file.split('.')\n",
    "\n",
    "    if file_list[-1] == 'ipynb':\n",
    "        \n",
    "        README_file.write('- [Jupyter notebook: `' + file + '`](' + file + ')\\n\\n')\n",
    "\n",
    "README_file.close()\n",
    "\n",
    "print('\\nREADME.md file generated in:\\n' + directory + '\\n')"
   ]
  },
  {
   "cell_type": "markdown",
   "id": "fec536e6",
   "metadata": {},
   "source": [
    "<a id=README-ex-2></a>\n",
    "***\n",
    "### Exercise 2\n",
    "\n",
    "[**Go to the top ↑**](#top-page)\n",
    "\n",
    "<a href=\"\">\n",
    "  <img src=\"https://img.shields.io/badge/youtube-firebrick?style=for-the-badge&logo=youtube&logoColor=white\" alt=\"YouTube Badge\"/>\n",
    "</a>\n",
    "\n",
    "We want to accomplish:\n",
    "\n",
    "![Screenshot](README-02.png)\n",
    "\n",
    "For this, we need to generate the following `markdown` code:\n",
    "\n",
    "```markdown\n",
    "# Available code\n",
    "\n",
    "### `Python for academics` : Processing files\n",
    "\n",
    "- [Jupyter notebook: `process-files.ipynb`](process-files.ipynb)\n",
    "\n",
    "> In this notebook, we explore various ways in which Python can help us preprocess files that store your research results.\n",
    "\n",
    "### `Python for academics` : Documenting your research\n",
    "\n",
    "- [Jupyter notebook: `document-research.ipynb`](document-research.ipynb)\n",
    "\n",
    "> In this notebook, we explore various ways in which you can automatically document your code and research results.\n",
    "\n",
    "### `Python for academics` : Automate your life with list comprehensions\n",
    "\n",
    "- [Jupyter notebook: `list-comprehensions.ipynb`](list-comprehensions.ipynb)\n",
    "\n",
    "> In this notebook, we use list comprehensions to quickly generate large pieces of text and `tex` code. \n",
    "```"
   ]
  },
  {
   "cell_type": "code",
   "execution_count": 8,
   "id": "c99142b8",
   "metadata": {},
   "outputs": [],
   "source": [
    "from os import listdir\n",
    "from os.path import isfile\n",
    "import nbformat"
   ]
  },
  {
   "cell_type": "code",
   "execution_count": 9,
   "id": "8954b66e",
   "metadata": {},
   "outputs": [],
   "source": [
    "directory = './'"
   ]
  },
  {
   "cell_type": "code",
   "execution_count": 10,
   "id": "e8b3a828",
   "metadata": {},
   "outputs": [],
   "source": [
    "files = [i for i in listdir(directory) if isfile(directory + i)]"
   ]
  },
  {
   "cell_type": "code",
   "execution_count": 11,
   "id": "8926a992",
   "metadata": {},
   "outputs": [],
   "source": [
    "README_file = open(directory + 'README.md', 'w')"
   ]
  },
  {
   "cell_type": "code",
   "execution_count": 12,
   "id": "1d368617",
   "metadata": {},
   "outputs": [
    {
     "data": {
      "text/plain": [
       "18"
      ]
     },
     "execution_count": 12,
     "metadata": {},
     "output_type": "execute_result"
    }
   ],
   "source": [
    "README_file.write('# Available code\\n\\n')"
   ]
  },
  {
   "cell_type": "code",
   "execution_count": 13,
   "id": "2ea9e190",
   "metadata": {},
   "outputs": [
    {
     "name": "stdout",
     "output_type": "stream",
     "text": [
      "\n",
      "README.md file generated in:\n",
      "./\n",
      "\n"
     ]
    }
   ],
   "source": [
    "for file in files:\n",
    "    \n",
    "    file_list = file.split('.')\n",
    "\n",
    "    if file_list[-1] == 'ipynb':\n",
    "        \n",
    "        notebook = nbformat.read(file, as_version=4)\n",
    "\n",
    "        README_file.write('##' + notebook.cells[0]['source'].split('\\n\\n')[0] + '\\n\\n')\n",
    "\n",
    "        README_file.write('- [Jupyter notebook: `' + file + '`](' + file + ')\\n\\n')\n",
    "\n",
    "        README_file.write('> ' + notebook.cells[1]['source'] + '\\n\\n')\n",
    "\n",
    "README_file.close()\n",
    "\n",
    "print('\\nREADME.md file generated in:\\n' + directory + '\\n')"
   ]
  },
  {
   "cell_type": "markdown",
   "id": "7bafacf2",
   "metadata": {},
   "source": [
    "***"
   ]
  }
 ],
 "metadata": {
  "kernelspec": {
   "display_name": "Python 3",
   "language": "python",
   "name": "python3"
  },
  "language_info": {
   "codemirror_mode": {
    "name": "ipython",
    "version": 3
   },
   "file_extension": ".py",
   "mimetype": "text/x-python",
   "name": "python",
   "nbconvert_exporter": "python",
   "pygments_lexer": "ipython3",
   "version": "3.7.6"
  }
 },
 "nbformat": 4,
 "nbformat_minor": 5
}
