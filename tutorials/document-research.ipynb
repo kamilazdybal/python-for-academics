{
 "cells": [
  {
   "cell_type": "markdown",
   "id": "5ca09c33",
   "metadata": {},
   "source": [
    "# `Python for academics` : Documenting your research\n",
    "\n",
    "by **Kamila Zdybał**\n",
    "\n",
    "[`https://kamilazdybal.github.io`](https://kamilazdybal.github.io)"
   ]
  },
  {
   "cell_type": "markdown",
   "id": "1690cc00",
   "metadata": {},
   "source": [
    "In this notebook, we explore various ways in which you can automatically document your code and research results."
   ]
  },
  {
   "cell_type": "markdown",
   "id": "e6b9a33d",
   "metadata": {},
   "source": [
    "<a id=top-page></a>\n",
    "***\n",
    "\n",
    "## Table of contents\n",
    "\n",
    "- [**Generate README files automatically**](#README)\n",
    "    - [Exercise 1](#README-ex-1)\n",
    "    - [Exercise 2](#README-ex-2)\n",
    "    - [Exercise 3](#README-ex-3)\n",
    "- [**Organize your results into LaTeX tables**](#latex-tables)\n",
    "    - [Exercise 1](array-to-latex-ex-1)\n",
    "\n",
    "***"
   ]
  },
  {
   "cell_type": "code",
   "execution_count": null,
   "id": "1e459ffd",
   "metadata": {},
   "outputs": [],
   "source": [
    "import numpy as np"
   ]
  },
  {
   "cell_type": "markdown",
   "id": "92d31e3f",
   "metadata": {},
   "source": [
    "<a id=README></a>\n",
    "***\n",
    "\n",
    "## Generate README files automatically\n",
    "\n",
    "[**Go to the top ↑**](#top-page)"
   ]
  },
  {
   "cell_type": "markdown",
   "id": "eebac89a",
   "metadata": {},
   "source": [
    "<a id=README-ex-1></a>\n",
    "***\n",
    "### Exercise 1\n",
    "\n",
    "[**Go to the top ↑**](#top-page)\n",
    "\n",
    "<a href=\"https://youtu.be/KnbVBXsbyxg\">\n",
    "  <img src=\"https://img.shields.io/badge/youtube-firebrick?style=for-the-badge&logo=youtube&logoColor=white\" alt=\"YouTube Badge\"/>\n",
    "</a>\n",
    "\n",
    "We want to accomplish:\n",
    "\n",
    "![Screenshot](README-01.png)\n",
    "\n",
    "For this, we need to generate the following `markdown` code:\n",
    "\n",
    "```markdown\n",
    "# Available code\n",
    "\n",
    "- [Jupyter notebook: `process-files.ipynb`](process-files.ipynb)\n",
    "\n",
    "- [Jupyter notebook: `document-research.ipynb`](document-research.ipynb)\n",
    "\n",
    "- [Jupyter notebook: `automate-your-life-with-list-comprehensions.ipynb`](automate-your-life-with-list-comprehensions.ipynb)\n",
    "```"
   ]
  },
  {
   "cell_type": "code",
   "execution_count": null,
   "id": "f4a8d01f",
   "metadata": {},
   "outputs": [],
   "source": [
    "from os import listdir\n",
    "from os.path import isfile"
   ]
  },
  {
   "cell_type": "code",
   "execution_count": null,
   "id": "f5c61ff9",
   "metadata": {},
   "outputs": [],
   "source": [
    "directory = './'"
   ]
  },
  {
   "cell_type": "code",
   "execution_count": null,
   "id": "4d02d844",
   "metadata": {},
   "outputs": [],
   "source": [
    "files = [i for i in listdir(directory) if isfile(directory + i)]"
   ]
  },
  {
   "cell_type": "code",
   "execution_count": null,
   "id": "b0468e7f",
   "metadata": {},
   "outputs": [],
   "source": [
    "README_file = open(directory + 'README.md', 'w')"
   ]
  },
  {
   "cell_type": "code",
   "execution_count": null,
   "id": "563e1913",
   "metadata": {},
   "outputs": [],
   "source": [
    "README_file.write('# Available code\\n\\n')"
   ]
  },
  {
   "cell_type": "code",
   "execution_count": null,
   "id": "ced9e9e7",
   "metadata": {},
   "outputs": [],
   "source": [
    "for file in files:\n",
    "    \n",
    "    file_list = file.split('.')\n",
    "\n",
    "    if file_list[-1] == 'ipynb':\n",
    "        \n",
    "        README_file.write('- [Jupyter notebook: `' + file + '`](' + file + ')\\n\\n')\n",
    "\n",
    "README_file.close()\n",
    "\n",
    "print('\\nREADME.md file generated in:\\n' + directory + '\\n')"
   ]
  },
  {
   "cell_type": "markdown",
   "id": "74e8529e",
   "metadata": {},
   "source": [
    "<a id=README-ex-2></a>\n",
    "***\n",
    "### Exercise 2\n",
    "\n",
    "[**Go to the top ↑**](#top-page)\n",
    "\n",
    "<a href=\"https://youtu.be/9jCQA3psQGI\">\n",
    "  <img src=\"https://img.shields.io/badge/youtube-firebrick?style=for-the-badge&logo=youtube&logoColor=white\" alt=\"YouTube Badge\"/>\n",
    "</a>\n",
    "\n",
    "We want to accomplish:\n",
    "\n",
    "![Screenshot](README-02.png)\n",
    "\n",
    "For this, we need to generate the following `markdown` code:\n",
    "\n",
    "```markdown\n",
    "# Available code\n",
    "\n",
    "### `Python for academics` : Processing files\n",
    "\n",
    "- [Jupyter notebook: `process-files.ipynb`](process-files.ipynb)\n",
    "\n",
    "> In this notebook, we explore various ways in which Python can help us preprocess files that store your research results.\n",
    "\n",
    "### `Python for academics` : Documenting your research\n",
    "\n",
    "- [Jupyter notebook: `document-research.ipynb`](document-research.ipynb)\n",
    "\n",
    "> In this notebook, we explore various ways in which you can automatically document your code and research results.\n",
    "\n",
    "### `Python for academics` : Automate your life with list comprehensions\n",
    "\n",
    "- [Jupyter notebook: `list-comprehensions.ipynb`](list-comprehensions.ipynb)\n",
    "\n",
    "> In this notebook, we use list comprehensions to quickly generate large pieces of text and `tex` code. \n",
    "```"
   ]
  },
  {
   "cell_type": "code",
   "execution_count": null,
   "id": "ec6d4378",
   "metadata": {},
   "outputs": [],
   "source": [
    "from os import listdir\n",
    "from os.path import isfile\n",
    "import nbformat"
   ]
  },
  {
   "cell_type": "code",
   "execution_count": null,
   "id": "deac0ca6",
   "metadata": {},
   "outputs": [],
   "source": [
    "directory = './'"
   ]
  },
  {
   "cell_type": "code",
   "execution_count": null,
   "id": "7983dbea",
   "metadata": {},
   "outputs": [],
   "source": [
    "files = [i for i in listdir(directory) if isfile(directory + i)]"
   ]
  },
  {
   "cell_type": "code",
   "execution_count": null,
   "id": "bd663cb0",
   "metadata": {},
   "outputs": [],
   "source": [
    "README_file = open(directory + 'README.md', 'w')"
   ]
  },
  {
   "cell_type": "code",
   "execution_count": null,
   "id": "bbd86134",
   "metadata": {},
   "outputs": [],
   "source": [
    "README_file.write('# Available code\\n\\n')"
   ]
  },
  {
   "cell_type": "code",
   "execution_count": null,
   "id": "7f852778",
   "metadata": {},
   "outputs": [],
   "source": [
    "for file in files:\n",
    "    \n",
    "    file_list = file.split('.')\n",
    "\n",
    "    if file_list[-1] == 'ipynb':\n",
    "        \n",
    "        notebook = nbformat.read(directory + file, as_version=4)\n",
    "        \n",
    "        README_file.write('##' + notebook['cells'][0]['source'].split('\\n\\n')[0] + '\\n\\n')\n",
    " \n",
    "        README_file.write('- [Jupyter notebook: `' + file + '`](' + file + ')\\n\\n')\n",
    "    \n",
    "        README_file.write('> ' + notebook['cells'][1]['source'] + '\\n\\n')\n",
    "\n",
    "README_file.close()\n",
    "\n",
    "print('\\nREADME.md file generated in:\\n' + directory + '\\n')"
   ]
  },
  {
   "cell_type": "markdown",
   "id": "766b0a99",
   "metadata": {},
   "source": [
    "<a id=latex-tables></a>\n",
    "***\n",
    "\n",
    "## Organize your results into `LaTeX` tables\n",
    "\n",
    "[**Go to the top ↑**](#top-page)"
   ]
  },
  {
   "cell_type": "markdown",
   "id": "3e8356ed",
   "metadata": {},
   "source": [
    "<a id=array-to-latex-ex-1></a>\n",
    "***\n",
    "### Exercise 1\n",
    "\n",
    "[**Go to the top ↑**](#top-page)\n",
    "\n",
    "<a href=\"https://youtu.be/-kU4h05jlFA\">\n",
    "  <img src=\"https://img.shields.io/badge/youtube-firebrick?style=for-the-badge&logo=youtube&logoColor=white\" alt=\"YouTube Badge\"/>\n",
    "</a>\n",
    "\n",
    "We want to accomplish:\n",
    "\n",
    "![Screenshot](numerical-table-01.png)\n",
    "\n",
    "For this, we need to generate the following `tex` code:\n",
    "\n",
    "```tex\n",
    "\\begin{tabular}{lllllll}\n",
    "\\toprule\n",
    "{} &  $R_{1}$ &  $R_{2}$ &  $R_{3}$ &  $R_{4}$ &  $R_{5}$ &  $R_{6}$ \\\\\n",
    "\\midrule\n",
    "$x^{2}$ &    0.364 &    0.693 &    0.285 &    0.392 &    0.410 &    0.634 \\\\\n",
    "$x^{3}$ &    0.014 &    0.244 &    0.185 &    0.821 &    0.433 &    0.143 \\\\\n",
    "$x^{4}$ &    0.521 &    0.326 &    0.226 &    0.024 &    0.606 &    0.659 \\\\\n",
    "$x^{5}$ &    0.560 &    0.536 &    0.965 &    0.439 &    0.534 &    0.550 \\\\\n",
    "\\bottomrule\n",
    "\\end{tabular}\n",
    "```"
   ]
  },
  {
   "cell_type": "code",
   "execution_count": 1,
   "id": "384d0a33",
   "metadata": {},
   "outputs": [],
   "source": [
    "import numpy as np\n",
    "import pandas as pd"
   ]
  },
  {
   "cell_type": "code",
   "execution_count": 2,
   "id": "18e51266",
   "metadata": {},
   "outputs": [],
   "source": [
    "results = np.random.random((4,6))"
   ]
  },
  {
   "cell_type": "code",
   "execution_count": 4,
   "id": "5fa39e06",
   "metadata": {},
   "outputs": [],
   "source": [
    "df = pd.DataFrame(results)"
   ]
  },
  {
   "cell_type": "code",
   "execution_count": 5,
   "id": "884c8cf4",
   "metadata": {},
   "outputs": [
    {
     "data": {
      "text/html": [
       "<div>\n",
       "<style scoped>\n",
       "    .dataframe tbody tr th:only-of-type {\n",
       "        vertical-align: middle;\n",
       "    }\n",
       "\n",
       "    .dataframe tbody tr th {\n",
       "        vertical-align: top;\n",
       "    }\n",
       "\n",
       "    .dataframe thead th {\n",
       "        text-align: right;\n",
       "    }\n",
       "</style>\n",
       "<table border=\"1\" class=\"dataframe\">\n",
       "  <thead>\n",
       "    <tr style=\"text-align: right;\">\n",
       "      <th></th>\n",
       "      <th>0</th>\n",
       "      <th>1</th>\n",
       "      <th>2</th>\n",
       "      <th>3</th>\n",
       "      <th>4</th>\n",
       "      <th>5</th>\n",
       "    </tr>\n",
       "  </thead>\n",
       "  <tbody>\n",
       "    <tr>\n",
       "      <th>0</th>\n",
       "      <td>0.603966</td>\n",
       "      <td>0.010887</td>\n",
       "      <td>0.390868</td>\n",
       "      <td>0.949517</td>\n",
       "      <td>0.716464</td>\n",
       "      <td>0.859995</td>\n",
       "    </tr>\n",
       "    <tr>\n",
       "      <th>1</th>\n",
       "      <td>0.318186</td>\n",
       "      <td>0.951356</td>\n",
       "      <td>0.159907</td>\n",
       "      <td>0.451040</td>\n",
       "      <td>0.193383</td>\n",
       "      <td>0.117356</td>\n",
       "    </tr>\n",
       "    <tr>\n",
       "      <th>2</th>\n",
       "      <td>0.641199</td>\n",
       "      <td>0.404029</td>\n",
       "      <td>0.743866</td>\n",
       "      <td>0.272357</td>\n",
       "      <td>0.906966</td>\n",
       "      <td>0.076998</td>\n",
       "    </tr>\n",
       "    <tr>\n",
       "      <th>3</th>\n",
       "      <td>0.527328</td>\n",
       "      <td>0.218990</td>\n",
       "      <td>0.836747</td>\n",
       "      <td>0.543956</td>\n",
       "      <td>0.687131</td>\n",
       "      <td>0.987170</td>\n",
       "    </tr>\n",
       "  </tbody>\n",
       "</table>\n",
       "</div>"
      ],
      "text/plain": [
       "          0         1         2         3         4         5\n",
       "0  0.603966  0.010887  0.390868  0.949517  0.716464  0.859995\n",
       "1  0.318186  0.951356  0.159907  0.451040  0.193383  0.117356\n",
       "2  0.641199  0.404029  0.743866  0.272357  0.906966  0.076998\n",
       "3  0.527328  0.218990  0.836747  0.543956  0.687131  0.987170"
      ]
     },
     "execution_count": 5,
     "metadata": {},
     "output_type": "execute_result"
    }
   ],
   "source": [
    "df"
   ]
  },
  {
   "cell_type": "code",
   "execution_count": 9,
   "id": "9f82e4c1",
   "metadata": {},
   "outputs": [
    {
     "name": "stdout",
     "output_type": "stream",
     "text": [
      "\\begin{tabular}{rrrrrr}\n",
      "\\toprule\n",
      "0.603966 & 0.010887 & 0.390868 & 0.949517 & 0.716464 & 0.859995 \\\\\n",
      "0.318186 & 0.951356 & 0.159907 & 0.451040 & 0.193383 & 0.117356 \\\\\n",
      "0.641199 & 0.404029 & 0.743866 & 0.272357 & 0.906966 & 0.076998 \\\\\n",
      "0.527328 & 0.218990 & 0.836747 & 0.543956 & 0.687131 & 0.987170 \\\\\n",
      "\\bottomrule\n",
      "\\end{tabular}\n",
      "\n"
     ]
    }
   ],
   "source": [
    "print(df.to_latex(header=False, index=False))"
   ]
  },
  {
   "cell_type": "code",
   "execution_count": 10,
   "id": "93a056cf",
   "metadata": {},
   "outputs": [],
   "source": [
    "n_rows, n_columns = np.shape(results)"
   ]
  },
  {
   "cell_type": "code",
   "execution_count": 11,
   "id": "0c12bd13",
   "metadata": {},
   "outputs": [],
   "source": [
    "columns = ['$R_{' + str(i+1) + '}$' for i in range(0,n_columns)]"
   ]
  },
  {
   "cell_type": "code",
   "execution_count": 13,
   "id": "ed1dde15",
   "metadata": {},
   "outputs": [],
   "source": [
    "index = ['$x^{' + str(i+2) + '}$' for i in range(0,n_rows)]"
   ]
  },
  {
   "cell_type": "code",
   "execution_count": 16,
   "id": "00256457",
   "metadata": {},
   "outputs": [],
   "source": [
    "df = pd.DataFrame(results, columns=columns, index=index)"
   ]
  },
  {
   "cell_type": "code",
   "execution_count": 17,
   "id": "1f4a15cf",
   "metadata": {},
   "outputs": [
    {
     "data": {
      "text/html": [
       "<div>\n",
       "<style scoped>\n",
       "    .dataframe tbody tr th:only-of-type {\n",
       "        vertical-align: middle;\n",
       "    }\n",
       "\n",
       "    .dataframe tbody tr th {\n",
       "        vertical-align: top;\n",
       "    }\n",
       "\n",
       "    .dataframe thead th {\n",
       "        text-align: right;\n",
       "    }\n",
       "</style>\n",
       "<table border=\"1\" class=\"dataframe\">\n",
       "  <thead>\n",
       "    <tr style=\"text-align: right;\">\n",
       "      <th></th>\n",
       "      <th>$R_{1}$</th>\n",
       "      <th>$R_{2}$</th>\n",
       "      <th>$R_{3}$</th>\n",
       "      <th>$R_{4}$</th>\n",
       "      <th>$R_{5}$</th>\n",
       "      <th>$R_{6}$</th>\n",
       "    </tr>\n",
       "  </thead>\n",
       "  <tbody>\n",
       "    <tr>\n",
       "      <th>$x^{2}$</th>\n",
       "      <td>0.603966</td>\n",
       "      <td>0.010887</td>\n",
       "      <td>0.390868</td>\n",
       "      <td>0.949517</td>\n",
       "      <td>0.716464</td>\n",
       "      <td>0.859995</td>\n",
       "    </tr>\n",
       "    <tr>\n",
       "      <th>$x^{3}$</th>\n",
       "      <td>0.318186</td>\n",
       "      <td>0.951356</td>\n",
       "      <td>0.159907</td>\n",
       "      <td>0.451040</td>\n",
       "      <td>0.193383</td>\n",
       "      <td>0.117356</td>\n",
       "    </tr>\n",
       "    <tr>\n",
       "      <th>$x^{4}$</th>\n",
       "      <td>0.641199</td>\n",
       "      <td>0.404029</td>\n",
       "      <td>0.743866</td>\n",
       "      <td>0.272357</td>\n",
       "      <td>0.906966</td>\n",
       "      <td>0.076998</td>\n",
       "    </tr>\n",
       "    <tr>\n",
       "      <th>$x^{5}$</th>\n",
       "      <td>0.527328</td>\n",
       "      <td>0.218990</td>\n",
       "      <td>0.836747</td>\n",
       "      <td>0.543956</td>\n",
       "      <td>0.687131</td>\n",
       "      <td>0.987170</td>\n",
       "    </tr>\n",
       "  </tbody>\n",
       "</table>\n",
       "</div>"
      ],
      "text/plain": [
       "          $R_{1}$   $R_{2}$   $R_{3}$   $R_{4}$   $R_{5}$   $R_{6}$\n",
       "$x^{2}$  0.603966  0.010887  0.390868  0.949517  0.716464  0.859995\n",
       "$x^{3}$  0.318186  0.951356  0.159907  0.451040  0.193383  0.117356\n",
       "$x^{4}$  0.641199  0.404029  0.743866  0.272357  0.906966  0.076998\n",
       "$x^{5}$  0.527328  0.218990  0.836747  0.543956  0.687131  0.987170"
      ]
     },
     "execution_count": 17,
     "metadata": {},
     "output_type": "execute_result"
    }
   ],
   "source": [
    "df"
   ]
  },
  {
   "cell_type": "code",
   "execution_count": 21,
   "id": "db8198f2",
   "metadata": {},
   "outputs": [
    {
     "name": "stdout",
     "output_type": "stream",
     "text": [
      "\\begin{tabular}{lllllll}\n",
      "\\toprule\n",
      "{} &  $R_{1}$ &  $R_{2}$ &  $R_{3}$ &  $R_{4}$ &  $R_{5}$ &  $R_{6}$ \\\\\n",
      "\\midrule\n",
      "$x^{2}$ &    0.604 &    0.011 &    0.391 &    0.950 &    0.716 &    0.860 \\\\\n",
      "$x^{3}$ &    0.318 &    0.951 &    0.160 &    0.451 &    0.193 &    0.117 \\\\\n",
      "$x^{4}$ &    0.641 &    0.404 &    0.744 &    0.272 &    0.907 &    0.077 \\\\\n",
      "$x^{5}$ &    0.527 &    0.219 &    0.837 &    0.544 &    0.687 &    0.987 \\\\\n",
      "\\bottomrule\n",
      "\\end{tabular}\n",
      "\n"
     ]
    }
   ],
   "source": [
    "print(df.to_latex(header=True, index=True, escape=False, float_format='%.3f', column_format='l'*(n_columns+1)))"
   ]
  },
  {
   "cell_type": "markdown",
   "id": "e281f954",
   "metadata": {},
   "source": [
    "***"
   ]
  }
 ],
 "metadata": {
  "kernelspec": {
   "display_name": "Python 3",
   "language": "python",
   "name": "python3"
  },
  "language_info": {
   "codemirror_mode": {
    "name": "ipython",
    "version": 3
   },
   "file_extension": ".py",
   "mimetype": "text/x-python",
   "name": "python",
   "nbconvert_exporter": "python",
   "pygments_lexer": "ipython3",
   "version": "3.7.6"
  }
 },
 "nbformat": 4,
 "nbformat_minor": 5
}
