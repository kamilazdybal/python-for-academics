{
 "cells": [
  {
   "cell_type": "markdown",
   "id": "a3753e24",
   "metadata": {},
   "source": [
    "<a id=top-page></a>\n",
    "\n",
    "# [`Python for academics` : Automate your life with list comprehensions]()\n",
    "by **Kamila Zdybał**\n",
    "\n",
    "[`https://kamilazdybal.github.io`](https://kamilazdybal.github.io)\n",
    "\n",
    "***\n",
    "\n",
    "## Table of contents\n",
    "\n",
    "- [**Generate large headers**](#large-headers)\n",
    "    - [Exercise 1](#large-headers-ex-1)\n",
    "    - [Exercise 2](#large-headers-ex-2)\n",
    "- [**Organize your results into LaTeX tables**](#latex-tables)\n",
    "\n",
    "***"
   ]
  },
  {
   "cell_type": "code",
   "execution_count": 1,
   "id": "61905e31",
   "metadata": {},
   "outputs": [],
   "source": [
    "import numpy as np"
   ]
  },
  {
   "cell_type": "markdown",
   "id": "3f92f771",
   "metadata": {},
   "source": [
    "<a id=large-headers></a>\n",
    "***\n",
    "\n",
    "## Generate headers\n",
    "\n",
    "[**Go to the top ↑**](#top-page)"
   ]
  },
  {
   "cell_type": "markdown",
   "id": "dd7df454",
   "metadata": {},
   "source": [
    "<a id=large-headers-ex-1></a>\n",
    "***\n",
    "### Exercise 1\n",
    "\n",
    "[**Go to the top ↑**](#top-page)\n",
    "\n",
    "<a href=\"https://youtu.be/2EPNJytD3dU\">\n",
    "  <img src=\"https://img.shields.io/badge/youtube-firebrick?style=for-the-badge&logo=youtube&logoColor=white\" alt=\"YouTube Badge\"/>\n",
    "</a>\n",
    "\n",
    "We want to accomplish:\n",
    "\n",
    "![Screenshot](generate-headers-example-01.png)\n",
    "\n",
    "For this, we need to generate the following `tex` code:\n",
    "\n",
    "> ``$A_{1}$ & $A_{2}$ & $A_{3}$ & $A_{4}$ & $A_{5}$ & $A_{6}$ & $A_{7}$ & $A_{8}$ & $A_{9}$ & $A_{10}$ & $A_{11}$ & $A_{12}$ & $A_{13}$ & $A_{14}$ & $A_{15}$ & $A_{16}$ & $A_{17}$ & $A_{18}$ & $A_{19}$ & $A_{20}$``"
   ]
  },
  {
   "cell_type": "code",
   "execution_count": 2,
   "id": "0ff9dac9",
   "metadata": {},
   "outputs": [
    {
     "data": {
      "text/plain": [
       "'$A_{1}$ & $A_{2}$ & $A_{3}$ & $A_{4}$ & $A_{5}$ & $A_{6}$ & $A_{7}$ & $A_{8}$ & $A_{9}$ & $A_{10}$ & $A_{11}$ & $A_{12}$ & $A_{13}$ & $A_{14}$ & $A_{15}$ & $A_{16}$ & $A_{17}$ & $A_{18}$ & $A_{19}$ & $A_{20}$'"
      ]
     },
     "execution_count": 2,
     "metadata": {},
     "output_type": "execute_result"
    }
   ],
   "source": [
    "' & '.join(['$A_{' + str(i) + '}$' for i in range(1,21)])"
   ]
  },
  {
   "cell_type": "code",
   "execution_count": 3,
   "id": "9bcd4ad2",
   "metadata": {},
   "outputs": [
    {
     "data": {
      "text/plain": [
       "'l|l|l|l|l|l|l|l|l|l|l|l|l|l|l|l|l|l|l|l|'"
      ]
     },
     "execution_count": 3,
     "metadata": {},
     "output_type": "execute_result"
    }
   ],
   "source": [
    "'l|'*20"
   ]
  },
  {
   "cell_type": "code",
   "execution_count": 4,
   "id": "0769c2f5",
   "metadata": {},
   "outputs": [
    {
     "data": {
      "text/plain": [
       "' & & & & & & & & & & & & & & & & & & &'"
      ]
     },
     "execution_count": 4,
     "metadata": {},
     "output_type": "execute_result"
    }
   ],
   "source": [
    "' &'*19"
   ]
  },
  {
   "cell_type": "markdown",
   "id": "ddb9a365",
   "metadata": {},
   "source": [
    "<a id=large-headers-ex-2></a>\n",
    "***\n",
    "### Exercise 2\n",
    "\n",
    "[**Go to the top ↑**](#top-page)\n",
    "\n",
    "<a href=\"https://youtu.be/tXkwV-zyqB8\">\n",
    "  <img src=\"https://img.shields.io/badge/youtube-firebrick?style=for-the-badge&logo=youtube&logoColor=white\" alt=\"YouTube Badge\"/>\n",
    "</a>\n",
    "\n",
    "We want to accomplish:\n",
    "\n",
    "<img src=\"generate-headers-example-02.png\" style=\"height:300px\">\n",
    "\n",
    "For this, we need to generate the following `tex` code:\n",
    "\n",
    "```tex\n",
    "$m_1$: Apple & \\\\ \\midrule \n",
    "$m_2$: Orange & \\\\ \\midrule \n",
    "$m_3$: Banana & \\\\ \\midrule \n",
    "$m_4$: Watermelon & \\\\ \\midrule \n",
    "$m_5$: Berries & \\\\ \\bottomrule\n",
    "```"
   ]
  },
  {
   "cell_type": "code",
   "execution_count": 5,
   "id": "024c49f3",
   "metadata": {},
   "outputs": [],
   "source": [
    "variable_names = ['Apple', 'Orange', 'Banana', 'Watermelon', 'Berries']"
   ]
  },
  {
   "cell_type": "code",
   "execution_count": 6,
   "id": "c974e1f0",
   "metadata": {},
   "outputs": [
    {
     "name": "stdout",
     "output_type": "stream",
     "text": [
      "$m_1$: Apple & \t \\\\ \\midrule \n",
      "$m_2$: Orange & \t \\\\ \\midrule \n",
      "$m_3$: Banana & \t \\\\ \\midrule \n",
      "$m_4$: Watermelon & \t \\\\ \\midrule \n",
      "$m_5$: Berries & \t \\\\ \\bottomrule\n"
     ]
    }
   ],
   "source": [
    "print(' & \\t \\\\\\\\ \\\\midrule \\n'.join(['$m_' + str(i+1) + '$: ' + variable_names[i] for i in range(0, len(variable_names))]) + ' & \\t \\\\\\\\ \\\\bottomrule' )"
   ]
  },
  {
   "cell_type": "markdown",
   "id": "67c58f56",
   "metadata": {},
   "source": [
    "***\n",
    "\n",
    "We want to accomplish:\n",
    "\n",
    "```tex\n",
    "Group 1: Apple\n",
    "Group 1: Orange\n",
    "Group 1: Banana\n",
    "Group 1: Watermelon\n",
    "Group 1: Berries\n",
    "Group 2: Apple\n",
    "Group 2: Orange\n",
    "Group 2: Banana\n",
    "Group 2: Watermelon\n",
    "Group 2: Berries\n",
    "Group 3: Apple\n",
    "Group 3: Orange\n",
    "Group 3: Banana\n",
    "Group 3: Watermelon\n",
    "Group 3: Berries\n",
    "Group 4: Apple\n",
    "Group 4: Orange\n",
    "Group 4: Banana\n",
    "Group 4: Watermelon\n",
    "Group 4: Berries\n",
    "Group 5: Apple\n",
    "Group 5: Orange\n",
    "Group 5: Banana\n",
    "Group 5: Watermelon\n",
    "Group 5: Berries\n",
    "```"
   ]
  },
  {
   "cell_type": "code",
   "execution_count": null,
   "id": "a50d9762",
   "metadata": {},
   "outputs": [],
   "source": [
    "variable_names = ['Apple', 'Orange', 'Banana', 'Watermelon', 'Berries']"
   ]
  },
  {
   "cell_type": "code",
   "execution_count": null,
   "id": "1a396d62",
   "metadata": {},
   "outputs": [],
   "source": [
    "print('\\n'.join(['\\item Group ' + str(i) + ': ' + j for i in range(1,len(variable_names)+1) for j in variable_names]))"
   ]
  },
  {
   "cell_type": "markdown",
   "id": "19704421",
   "metadata": {},
   "source": [
    "<a id=latex-tables></a>\n",
    "***\n",
    "\n",
    "## Organize your results into `LaTeX` tables\n",
    "\n",
    "[**Go to the top ↑**](#top-page)"
   ]
  },
  {
   "cell_type": "code",
   "execution_count": null,
   "id": "7557b038",
   "metadata": {},
   "outputs": [],
   "source": []
  },
  {
   "cell_type": "code",
   "execution_count": null,
   "id": "e8023bda",
   "metadata": {},
   "outputs": [],
   "source": []
  },
  {
   "cell_type": "code",
   "execution_count": null,
   "id": "3a498a8f",
   "metadata": {},
   "outputs": [],
   "source": []
  },
  {
   "cell_type": "code",
   "execution_count": null,
   "id": "1f487e94",
   "metadata": {},
   "outputs": [],
   "source": []
  },
  {
   "cell_type": "code",
   "execution_count": null,
   "id": "2d54afc0",
   "metadata": {},
   "outputs": [],
   "source": []
  },
  {
   "cell_type": "markdown",
   "id": "63ef75ef",
   "metadata": {},
   "source": [
    "***"
   ]
  }
 ],
 "metadata": {
  "kernelspec": {
   "display_name": "Python 3",
   "language": "python",
   "name": "python3"
  },
  "language_info": {
   "codemirror_mode": {
    "name": "ipython",
    "version": 3
   },
   "file_extension": ".py",
   "mimetype": "text/x-python",
   "name": "python",
   "nbconvert_exporter": "python",
   "pygments_lexer": "ipython3",
   "version": "3.7.6"
  }
 },
 "nbformat": 4,
 "nbformat_minor": 5
}
