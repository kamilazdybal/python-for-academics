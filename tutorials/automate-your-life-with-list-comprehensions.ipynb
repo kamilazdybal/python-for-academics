{
 "cells": [
  {
   "cell_type": "markdown",
   "id": "36c1ca17",
   "metadata": {},
   "source": [
    "<a id=top-page></a>\n",
    "\n",
    "# [`Python for academics` : Automate your life with list comprehensions]()\n",
    "by **Kamila Zdybał**\n",
    "\n",
    "[`https://kamilazdybal.github.io`](https://kamilazdybal.github.io)\n",
    "\n",
    "***\n",
    "\n",
    "## Table of contents\n",
    "\n",
    "- [**Generate large headers**](#large-headers)\n",
    "    - [Exercise 1](#large-headers-ex-1)\n",
    "- [**Organize your results into LaTeX tables**](#latex-tables)\n",
    "\n",
    "***"
   ]
  },
  {
   "cell_type": "code",
   "execution_count": null,
   "id": "cefc4a3f",
   "metadata": {},
   "outputs": [],
   "source": [
    "import numpy as np"
   ]
  },
  {
   "cell_type": "markdown",
   "id": "c3461d2c",
   "metadata": {},
   "source": [
    "<a id=large-headers></a>\n",
    "***\n",
    "\n",
    "## Generate headers\n",
    "\n",
    "[**Go to the top ↑**](#top-page)"
   ]
  },
  {
   "cell_type": "markdown",
   "id": "23b405df",
   "metadata": {},
   "source": [
    "<a id=large-headers-ex-1></a>\n",
    "***\n",
    "### Exercise 1\n",
    "\n",
    "[**Go to the top ↑**](#top-page)\n",
    "\n",
    "We want to accomplish:\n",
    "\n",
    "![Screenshot](generate-headers-example-01.png)\n",
    "\n",
    "For this, we need to generate the following `tex` code:\n",
    "\n",
    "> ``$A_{1}$ & $A_{2}$ & $A_{3}$ & $A_{4}$ & $A_{5}$ & $A_{6}$ & $A_{7}$ & $A_{8}$ & $A_{9}$ & $A_{10}$ & $A_{11}$ & $A_{12}$ & $A_{13}$ & $A_{14}$ & $A_{15}$ & $A_{16}$ & $A_{17}$ & $A_{18}$ & $A_{19}$ & $A_{20}$``"
   ]
  },
  {
   "cell_type": "code",
   "execution_count": 5,
   "id": "60324ae6",
   "metadata": {},
   "outputs": [
    {
     "data": {
      "text/plain": [
       "'$A_{1}$ & $A_{2}$ & $A_{3}$ & $A_{4}$ & $A_{5}$ & $A_{6}$ & $A_{7}$ & $A_{8}$ & $A_{9}$ & $A_{10}$ & $A_{11}$ & $A_{12}$ & $A_{13}$ & $A_{14}$ & $A_{15}$ & $A_{16}$ & $A_{17}$ & $A_{18}$ & $A_{19}$ & $A_{20}$'"
      ]
     },
     "execution_count": 5,
     "metadata": {},
     "output_type": "execute_result"
    }
   ],
   "source": [
    "' & '.join(['$A_{' + str(i) + '}$' for i in range(1,21)])"
   ]
  },
  {
   "cell_type": "code",
   "execution_count": 7,
   "id": "7ca2281e",
   "metadata": {},
   "outputs": [
    {
     "data": {
      "text/plain": [
       "'l|l|l|l|l|l|l|l|l|l|l|l|l|l|l|l|l|l|l|l|'"
      ]
     },
     "execution_count": 7,
     "metadata": {},
     "output_type": "execute_result"
    }
   ],
   "source": [
    "'l|'*20"
   ]
  },
  {
   "cell_type": "code",
   "execution_count": 8,
   "id": "9b0a42f2",
   "metadata": {},
   "outputs": [
    {
     "data": {
      "text/plain": [
       "' & & & & & & & & & & & & & & & & & & &'"
      ]
     },
     "execution_count": 8,
     "metadata": {},
     "output_type": "execute_result"
    }
   ],
   "source": [
    "' &'*19"
   ]
  },
  {
   "cell_type": "markdown",
   "id": "3fc90220",
   "metadata": {},
   "source": [
    "***\n",
    "\n",
    "We want to accomplish:\n",
    "\n",
    "```tex\n",
    "$A_1$ & \\\\ \n",
    "$A_2$ & \\\\ \n",
    "$A_3$ & \\\\ \n",
    "$A_4$ & \\\\ \n",
    "$A_5$ & \\\\ \n",
    "$A_6$ & \\\\ \n",
    "$A_7$ & \\\\ \n",
    "$A_8$ & \\\\ \n",
    "$A_9$ & \\\\ \n",
    "$A_10$ & \\\\\n",
    "```"
   ]
  },
  {
   "cell_type": "code",
   "execution_count": null,
   "id": "1e554789",
   "metadata": {},
   "outputs": [],
   "source": [
    "print(' & \\\\\\ \\n'.join(['$A_' + str(i) + '$' for i in range(1,11)]) + ' & \\\\\\ ')"
   ]
  },
  {
   "cell_type": "markdown",
   "id": "ce5c093a",
   "metadata": {},
   "source": [
    "***\n",
    "\n",
    "We want to accomplish:\n",
    "\n",
    "```tex\n",
    "$m_1$: Apple & \\\\ \n",
    "$m_2$: Orange & \\\\ \n",
    "$m_3$: Banana & \\\\ \n",
    "$m_4$: Watermelon & \\\\ \n",
    "$m_5$: Berries & \\\\ \n",
    "```"
   ]
  },
  {
   "cell_type": "code",
   "execution_count": null,
   "id": "aabd4248",
   "metadata": {},
   "outputs": [],
   "source": [
    "variable_names = ['Apple', 'Orange', 'Banana', 'Watermelon', 'Berries']"
   ]
  },
  {
   "cell_type": "code",
   "execution_count": null,
   "id": "00d126f8",
   "metadata": {},
   "outputs": [],
   "source": [
    "print(' & \\\\\\ \\n'.join(['$m_' + str(i) + '$: ' + variable_names[i-1] for i in range(1,len(variable_names)+1)]) + ' & \\\\\\ ')"
   ]
  },
  {
   "cell_type": "markdown",
   "id": "3190277d",
   "metadata": {},
   "source": [
    "***\n",
    "\n",
    "We want to accomplish:\n",
    "\n",
    "```tex\n",
    "Group 1: Apple\n",
    "Group 1: Orange\n",
    "Group 1: Banana\n",
    "Group 1: Watermelon\n",
    "Group 1: Berries\n",
    "Group 2: Apple\n",
    "Group 2: Orange\n",
    "Group 2: Banana\n",
    "Group 2: Watermelon\n",
    "Group 2: Berries\n",
    "Group 3: Apple\n",
    "Group 3: Orange\n",
    "Group 3: Banana\n",
    "Group 3: Watermelon\n",
    "Group 3: Berries\n",
    "Group 4: Apple\n",
    "Group 4: Orange\n",
    "Group 4: Banana\n",
    "Group 4: Watermelon\n",
    "Group 4: Berries\n",
    "Group 5: Apple\n",
    "Group 5: Orange\n",
    "Group 5: Banana\n",
    "Group 5: Watermelon\n",
    "Group 5: Berries\n",
    "```"
   ]
  },
  {
   "cell_type": "code",
   "execution_count": null,
   "id": "8f1b2ce3",
   "metadata": {},
   "outputs": [],
   "source": [
    "variable_names = ['Apple', 'Orange', 'Banana', 'Watermelon', 'Berries']"
   ]
  },
  {
   "cell_type": "code",
   "execution_count": null,
   "id": "7c3beb10",
   "metadata": {},
   "outputs": [],
   "source": [
    "print('\\n'.join(['Group ' + str(i) + ': ' + j for i in range(1,len(variable_names)+1) for j in variable_names]))"
   ]
  },
  {
   "cell_type": "markdown",
   "id": "0f3e1987",
   "metadata": {},
   "source": [
    "<a id=latex-tables></a>\n",
    "***\n",
    "\n",
    "## Organize your results into `LaTeX` tables\n",
    "\n",
    "[**Go to the top ↑**](#top-page)"
   ]
  },
  {
   "cell_type": "code",
   "execution_count": null,
   "id": "64093400",
   "metadata": {},
   "outputs": [],
   "source": []
  },
  {
   "cell_type": "code",
   "execution_count": null,
   "id": "a239c0d5",
   "metadata": {},
   "outputs": [],
   "source": []
  },
  {
   "cell_type": "code",
   "execution_count": null,
   "id": "d30f908f",
   "metadata": {},
   "outputs": [],
   "source": []
  },
  {
   "cell_type": "code",
   "execution_count": null,
   "id": "f43b6330",
   "metadata": {},
   "outputs": [],
   "source": []
  },
  {
   "cell_type": "code",
   "execution_count": null,
   "id": "51b92c57",
   "metadata": {},
   "outputs": [],
   "source": []
  },
  {
   "cell_type": "markdown",
   "id": "638f21db",
   "metadata": {},
   "source": [
    "***"
   ]
  }
 ],
 "metadata": {
  "kernelspec": {
   "display_name": "Python 3",
   "language": "python",
   "name": "python3"
  },
  "language_info": {
   "codemirror_mode": {
    "name": "ipython",
    "version": 3
   },
   "file_extension": ".py",
   "mimetype": "text/x-python",
   "name": "python",
   "nbconvert_exporter": "python",
   "pygments_lexer": "ipython3",
   "version": "3.7.6"
  }
 },
 "nbformat": 4,
 "nbformat_minor": 5
}
