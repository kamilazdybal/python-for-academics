{
 "cells": [
  {
   "cell_type": "markdown",
   "id": "9065fefb",
   "metadata": {},
   "source": [
    "<a id=top-page></a>\n",
    "\n",
    "# [`Python for academics` : Processing files](https://www.youtube.com/playlist?list=PL7gWbAt3_3KEuRQfwFeI_RH3EZr87nslf)\n",
    "by **Kamila Zdybał**\n",
    "\n",
    "[`https://kamilazdybal.github.io`](https://kamilazdybal.github.io)\n",
    "\n",
    "***\n",
    "\n",
    "## Table of contents\n",
    "\n",
    "- [**File naming**](#file-naming)\n",
    "    - [Exercise 1](#file-naming-ex-1)\n",
    "    - [Exercise 2](#file-naming-ex-2)\n",
    "    - [Exercise 3](#file-naming-ex-3)\n",
    "    \n",
    "***"
   ]
  },
  {
   "cell_type": "code",
   "execution_count": null,
   "id": "3419acca",
   "metadata": {},
   "outputs": [],
   "source": [
    "import numpy as np"
   ]
  },
  {
   "cell_type": "markdown",
   "id": "1df5acfa",
   "metadata": {},
   "source": [
    "<a id=large-headers></a>\n",
    "***\n",
    "\n",
    "## File naming\n",
    "\n",
    "[**Go to the top ↑**](#top-page)"
   ]
  },
  {
   "cell_type": "markdown",
   "id": "5cb545e2",
   "metadata": {},
   "source": [
    "<a id=file-naming-ex-1></a>\n",
    "***\n",
    "### Exercise 1\n",
    "\n",
    "[**Go to the top ↑**](#top-page)\n",
    "\n",
    "<a href=\"https://youtu.be/3Y2w_7N8CcI\">\n",
    "  <img src=\"https://img.shields.io/badge/youtube-firebrick?style=for-the-badge&logo=youtube&logoColor=white\" alt=\"YouTube Badge\"/>\n",
    "</a>\n",
    "\n",
    "We want to accomplish:\n",
    "\n",
    "``Hydrogen-run-001.csv`` $\\rightarrow$ ``Case-1-Hydrogen-run-001.csv``\n",
    "\n",
    "## Be careful! 🔥"
   ]
  },
  {
   "cell_type": "markdown",
   "id": "5f2be1c7",
   "metadata": {},
   "source": [
    "Generate 20 empty test files:"
   ]
  },
  {
   "cell_type": "code",
   "execution_count": null,
   "id": "c283c52d",
   "metadata": {},
   "outputs": [],
   "source": [
    "for i in range(0,20):\n",
    "    print('touch Hydrogen-run-' + str(i+1).zfill(3) + '.csv')"
   ]
  },
  {
   "cell_type": "code",
   "execution_count": null,
   "id": "8b607a17",
   "metadata": {},
   "outputs": [],
   "source": [
    "for i in range(0,20):\n",
    "    f = open('../data/Hydrogen-run-' + str(i+1).zfill(3) + '.csv', 'x')"
   ]
  },
  {
   "cell_type": "code",
   "execution_count": null,
   "id": "0447d3f7",
   "metadata": {},
   "outputs": [],
   "source": [
    "from os import listdir, rename\n",
    "from os.path import isfile"
   ]
  },
  {
   "cell_type": "code",
   "execution_count": null,
   "id": "9718f455",
   "metadata": {},
   "outputs": [],
   "source": [
    "directory = '../data/'"
   ]
  },
  {
   "cell_type": "code",
   "execution_count": null,
   "id": "d4c91262",
   "metadata": {},
   "outputs": [],
   "source": [
    "files = [i for i in listdir(directory) if isfile(directory + i)]"
   ]
  },
  {
   "cell_type": "code",
   "execution_count": null,
   "id": "1b8af0b5",
   "metadata": {},
   "outputs": [],
   "source": [
    "counter = 0\n",
    "\n",
    "for file in files:\n",
    "    \n",
    "    old_file_name = directory + file\n",
    "    new_file_name = directory + 'Case-1-' + file\n",
    "    \n",
    "    rename(old_file_name, new_file_name)\n",
    "    \n",
    "    print(old_file_name + '\\n' + new_file_name + '\\n')\n",
    "    \n",
    "    counter += 1\n",
    "    \n",
    "print('Renamed ' + str(counter) + ' files')"
   ]
  },
  {
   "cell_type": "code",
   "execution_count": null,
   "id": "9b1fa932",
   "metadata": {},
   "outputs": [],
   "source": [
    "files = [i for i in listdir(directory) if isfile(directory + i)]"
   ]
  },
  {
   "cell_type": "code",
   "execution_count": null,
   "id": "ed7e4249",
   "metadata": {},
   "outputs": [],
   "source": [
    "for file in files:\n",
    "    \n",
    "    old_file_name = directory + file\n",
    "    new_file_name = directory + file[7::]\n",
    "    \n",
    "    rename(old_file_name, new_file_name)"
   ]
  },
  {
   "cell_type": "markdown",
   "id": "233f0e5f",
   "metadata": {},
   "source": [
    "<a id=file-naming-ex-2></a>\n",
    "***\n",
    "### Exercise 2\n",
    "\n",
    "[**Go to the top ↑**](#top-page)\n",
    "\n",
    "<a href=\"https://youtu.be/cTBpI1QQjLA\">\n",
    "  <img src=\"https://img.shields.io/badge/youtube-firebrick?style=for-the-badge&logo=youtube&logoColor=white\" alt=\"YouTube Badge\"/>\n",
    "</a>\n",
    "\n",
    "We want to accomplish:\n",
    "\n",
    "``Case-1-dataset-Hydrogen-run-001.csv`` $\\rightarrow$ ``Case-1-Hydrogen-run-001.csv``\n",
    "\n",
    "## Be careful! 🔥"
   ]
  },
  {
   "cell_type": "markdown",
   "id": "778f02c2",
   "metadata": {},
   "source": [
    "Generate 20 empty test files:"
   ]
  },
  {
   "cell_type": "code",
   "execution_count": 1,
   "id": "7408467e",
   "metadata": {},
   "outputs": [],
   "source": [
    "for i in range(0,20):\n",
    "    f = open('../data/Case-1-dataset-Hydrogen-run-' + str(i+1).zfill(3) + '.csv', 'x')"
   ]
  },
  {
   "cell_type": "code",
   "execution_count": 2,
   "id": "1807d868",
   "metadata": {},
   "outputs": [],
   "source": [
    "import re\n",
    "from os import listdir, rename\n",
    "from os.path import isfile"
   ]
  },
  {
   "cell_type": "code",
   "execution_count": 3,
   "id": "4eed50ae",
   "metadata": {},
   "outputs": [],
   "source": [
    "directory = '../data/'"
   ]
  },
  {
   "cell_type": "code",
   "execution_count": 4,
   "id": "8fed4640",
   "metadata": {},
   "outputs": [],
   "source": [
    "phrase_to_remove = 'dataset-'"
   ]
  },
  {
   "cell_type": "code",
   "execution_count": 5,
   "id": "3210b9c3",
   "metadata": {},
   "outputs": [],
   "source": [
    "files = [i for i in listdir(directory) if isfile(directory + i)]"
   ]
  },
  {
   "cell_type": "code",
   "execution_count": 7,
   "id": "7b309264",
   "metadata": {},
   "outputs": [],
   "source": [
    "for file in files:\n",
    "    \n",
    "    res = re.search(phrase_to_remove, file)\n",
    "    \n",
    "    if res is not None:\n",
    "        \n",
    "        idx_start = res.start()\n",
    "        idx_end = res.end()\n",
    "        \n",
    "        old_file_name = directory + file\n",
    "        new_file_name = directory + file[0:idx_start] + file[idx_end::]\n",
    "        \n",
    "        rename(old_file_name, new_file_name)"
   ]
  },
  {
   "cell_type": "markdown",
   "id": "5d996062",
   "metadata": {},
   "source": [
    "<a id=file-naming-ex-3></a>\n",
    "***\n",
    "### Exercise 3\n",
    "\n",
    "[**Go to the top ↑**](#top-page)\n",
    "\n",
    "<a href=\"\">\n",
    "  <img src=\"https://img.shields.io/badge/youtube-firebrick?style=for-the-badge&logo=youtube&logoColor=white\" alt=\"YouTube Badge\"/>\n",
    "</a>"
   ]
  },
  {
   "cell_type": "code",
   "execution_count": null,
   "id": "6782cd65",
   "metadata": {},
   "outputs": [],
   "source": []
  },
  {
   "cell_type": "code",
   "execution_count": null,
   "id": "4e422b68",
   "metadata": {},
   "outputs": [],
   "source": []
  },
  {
   "cell_type": "code",
   "execution_count": null,
   "id": "88b1861a",
   "metadata": {},
   "outputs": [],
   "source": []
  },
  {
   "cell_type": "code",
   "execution_count": null,
   "id": "b25cdd34",
   "metadata": {},
   "outputs": [],
   "source": []
  },
  {
   "cell_type": "code",
   "execution_count": null,
   "id": "0cb290be",
   "metadata": {},
   "outputs": [],
   "source": []
  },
  {
   "cell_type": "code",
   "execution_count": null,
   "id": "963df299",
   "metadata": {},
   "outputs": [],
   "source": []
  },
  {
   "cell_type": "code",
   "execution_count": null,
   "id": "7d3d061e",
   "metadata": {},
   "outputs": [],
   "source": []
  },
  {
   "cell_type": "code",
   "execution_count": null,
   "id": "bbfb0344",
   "metadata": {},
   "outputs": [],
   "source": []
  },
  {
   "cell_type": "code",
   "execution_count": null,
   "id": "553958b8",
   "metadata": {},
   "outputs": [],
   "source": []
  },
  {
   "cell_type": "code",
   "execution_count": null,
   "id": "7e369ca0",
   "metadata": {},
   "outputs": [],
   "source": []
  },
  {
   "cell_type": "code",
   "execution_count": null,
   "id": "da720289",
   "metadata": {},
   "outputs": [],
   "source": []
  },
  {
   "cell_type": "code",
   "execution_count": null,
   "id": "ea42833b",
   "metadata": {},
   "outputs": [],
   "source": []
  },
  {
   "cell_type": "code",
   "execution_count": null,
   "id": "0935970e",
   "metadata": {},
   "outputs": [],
   "source": []
  },
  {
   "cell_type": "code",
   "execution_count": null,
   "id": "e65c3273",
   "metadata": {},
   "outputs": [],
   "source": []
  },
  {
   "cell_type": "code",
   "execution_count": null,
   "id": "b342a555",
   "metadata": {},
   "outputs": [],
   "source": []
  },
  {
   "cell_type": "code",
   "execution_count": null,
   "id": "93a52569",
   "metadata": {},
   "outputs": [],
   "source": []
  },
  {
   "cell_type": "code",
   "execution_count": null,
   "id": "ac8014b0",
   "metadata": {},
   "outputs": [],
   "source": []
  },
  {
   "cell_type": "code",
   "execution_count": null,
   "id": "22e06b34",
   "metadata": {},
   "outputs": [],
   "source": []
  },
  {
   "cell_type": "code",
   "execution_count": null,
   "id": "03c8c641",
   "metadata": {},
   "outputs": [],
   "source": []
  },
  {
   "cell_type": "markdown",
   "id": "068f903e",
   "metadata": {},
   "source": [
    "***"
   ]
  }
 ],
 "metadata": {
  "kernelspec": {
   "display_name": "Python 3",
   "language": "python",
   "name": "python3"
  },
  "language_info": {
   "codemirror_mode": {
    "name": "ipython",
    "version": 3
   },
   "file_extension": ".py",
   "mimetype": "text/x-python",
   "name": "python",
   "nbconvert_exporter": "python",
   "pygments_lexer": "ipython3",
   "version": "3.7.6"
  }
 },
 "nbformat": 4,
 "nbformat_minor": 5
}
