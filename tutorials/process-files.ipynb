{
 "cells": [
  {
   "cell_type": "markdown",
   "id": "221b010f",
   "metadata": {},
   "source": [
    "<a id=top-page></a>\n",
    "\n",
    "# [`Python for academics` : Processing files](https://www.youtube.com/playlist?list=PL7gWbAt3_3KEuRQfwFeI_RH3EZr87nslf)\n",
    "by **Kamila Zdybał**\n",
    "\n",
    "[`https://kamilazdybal.github.io`](https://kamilazdybal.github.io)\n",
    "\n",
    "***\n",
    "\n",
    "## Table of contents\n",
    "\n",
    "- [**File naming**](#file-naming)\n",
    "    - [Exercise 1](#file-naming-ex-1)\n",
    "    - [Exercise 2](#file-naming-ex-2)\n",
    "\n",
    "***"
   ]
  },
  {
   "cell_type": "code",
   "execution_count": 1,
   "id": "994f44c4",
   "metadata": {},
   "outputs": [],
   "source": [
    "import numpy as np"
   ]
  },
  {
   "cell_type": "markdown",
   "id": "ffdb229f",
   "metadata": {},
   "source": [
    "<a id=large-headers></a>\n",
    "***\n",
    "\n",
    "## File naming\n",
    "\n",
    "[**Go to the top ↑**](#top-page)"
   ]
  },
  {
   "cell_type": "markdown",
   "id": "fcdeccd0",
   "metadata": {},
   "source": [
    "<a id=file-naming-ex-1></a>\n",
    "***\n",
    "### Exercise 1\n",
    "\n",
    "[**Go to the top ↑**](#top-page)\n",
    "\n",
    "<a href=\"https://youtu.be/3Y2w_7N8CcI\">\n",
    "  <img src=\"https://img.shields.io/badge/youtube-firebrick?style=for-the-badge&logo=youtube&logoColor=white\" alt=\"YouTube Badge\"/>\n",
    "</a>\n",
    "\n",
    "We want to accomplish:\n",
    "\n",
    "``Hydrogen-run-001.csv`` $\\rightarrow$ ``Case-1-Hydrogen-run-001.csv``\n",
    "\n",
    "## Be careful! 🔥"
   ]
  },
  {
   "cell_type": "markdown",
   "id": "e7c575a9",
   "metadata": {},
   "source": [
    "Generate 20 empty test files:"
   ]
  },
  {
   "cell_type": "code",
   "execution_count": 2,
   "id": "76474797",
   "metadata": {},
   "outputs": [
    {
     "name": "stdout",
     "output_type": "stream",
     "text": [
      "touch Hydrogen-run-001.csv\n",
      "touch Hydrogen-run-002.csv\n",
      "touch Hydrogen-run-003.csv\n",
      "touch Hydrogen-run-004.csv\n",
      "touch Hydrogen-run-005.csv\n",
      "touch Hydrogen-run-006.csv\n",
      "touch Hydrogen-run-007.csv\n",
      "touch Hydrogen-run-008.csv\n",
      "touch Hydrogen-run-009.csv\n",
      "touch Hydrogen-run-010.csv\n",
      "touch Hydrogen-run-011.csv\n",
      "touch Hydrogen-run-012.csv\n",
      "touch Hydrogen-run-013.csv\n",
      "touch Hydrogen-run-014.csv\n",
      "touch Hydrogen-run-015.csv\n",
      "touch Hydrogen-run-016.csv\n",
      "touch Hydrogen-run-017.csv\n",
      "touch Hydrogen-run-018.csv\n",
      "touch Hydrogen-run-019.csv\n",
      "touch Hydrogen-run-020.csv\n"
     ]
    }
   ],
   "source": [
    "for i in range(0,20):\n",
    "    print('touch Hydrogen-run-' + str(i+1).zfill(3) + '.csv')"
   ]
  },
  {
   "cell_type": "code",
   "execution_count": 3,
   "id": "0eeb1719",
   "metadata": {},
   "outputs": [],
   "source": [
    "for i in range(0,20):\n",
    "    f = open('../data/Hydrogen-run-' + str(i+1).zfill(3) + '.csv', 'x')"
   ]
  },
  {
   "cell_type": "code",
   "execution_count": 4,
   "id": "33d2df6a",
   "metadata": {},
   "outputs": [],
   "source": [
    "from os import listdir, rename\n",
    "from os.path import isfile"
   ]
  },
  {
   "cell_type": "code",
   "execution_count": 5,
   "id": "f811d188",
   "metadata": {},
   "outputs": [],
   "source": [
    "directory = '../data/'"
   ]
  },
  {
   "cell_type": "code",
   "execution_count": 6,
   "id": "70122329",
   "metadata": {},
   "outputs": [],
   "source": [
    "files = [i for i in listdir(directory) if isfile(directory + i)]"
   ]
  },
  {
   "cell_type": "code",
   "execution_count": 7,
   "id": "6459b28d",
   "metadata": {},
   "outputs": [
    {
     "name": "stdout",
     "output_type": "stream",
     "text": [
      "../data/Hydrogen-run-018.csv\n",
      "../data/Case-1-Hydrogen-run-018.csv\n",
      "\n",
      "../data/Hydrogen-run-019.csv\n",
      "../data/Case-1-Hydrogen-run-019.csv\n",
      "\n",
      "../data/Hydrogen-run-009.csv\n",
      "../data/Case-1-Hydrogen-run-009.csv\n",
      "\n",
      "../data/Hydrogen-run-020.csv\n",
      "../data/Case-1-Hydrogen-run-020.csv\n",
      "\n",
      "../data/Hydrogen-run-008.csv\n",
      "../data/Case-1-Hydrogen-run-008.csv\n",
      "\n",
      "../data/Hydrogen-run-005.csv\n",
      "../data/Case-1-Hydrogen-run-005.csv\n",
      "\n",
      "../data/Hydrogen-run-011.csv\n",
      "../data/Case-1-Hydrogen-run-011.csv\n",
      "\n",
      "../data/Hydrogen-run-010.csv\n",
      "../data/Case-1-Hydrogen-run-010.csv\n",
      "\n",
      "../data/Hydrogen-run-004.csv\n",
      "../data/Case-1-Hydrogen-run-004.csv\n",
      "\n",
      "../data/Hydrogen-run-012.csv\n",
      "../data/Case-1-Hydrogen-run-012.csv\n",
      "\n",
      "../data/Hydrogen-run-006.csv\n",
      "../data/Case-1-Hydrogen-run-006.csv\n",
      "\n",
      "../data/Hydrogen-run-007.csv\n",
      "../data/Case-1-Hydrogen-run-007.csv\n",
      "\n",
      "../data/Hydrogen-run-013.csv\n",
      "../data/Case-1-Hydrogen-run-013.csv\n",
      "\n",
      "../data/Hydrogen-run-017.csv\n",
      "../data/Case-1-Hydrogen-run-017.csv\n",
      "\n",
      "../data/Hydrogen-run-003.csv\n",
      "../data/Case-1-Hydrogen-run-003.csv\n",
      "\n",
      "../data/Hydrogen-run-002.csv\n",
      "../data/Case-1-Hydrogen-run-002.csv\n",
      "\n",
      "../data/Hydrogen-run-016.csv\n",
      "../data/Case-1-Hydrogen-run-016.csv\n",
      "\n",
      "../data/Hydrogen-run-014.csv\n",
      "../data/Case-1-Hydrogen-run-014.csv\n",
      "\n",
      "../data/Hydrogen-run-015.csv\n",
      "../data/Case-1-Hydrogen-run-015.csv\n",
      "\n",
      "../data/Hydrogen-run-001.csv\n",
      "../data/Case-1-Hydrogen-run-001.csv\n",
      "\n",
      "Renamed 20 files\n"
     ]
    }
   ],
   "source": [
    "counter = 0\n",
    "\n",
    "for file in files:\n",
    "    \n",
    "    old_file_name = directory + file\n",
    "    new_file_name = directory + 'Case-1-' + file\n",
    "    \n",
    "    rename(old_file_name, new_file_name)\n",
    "    \n",
    "    print(old_file_name + '\\n' + new_file_name + '\\n')\n",
    "    \n",
    "    counter += 1\n",
    "    \n",
    "print('Renamed ' + str(counter) + ' files')"
   ]
  },
  {
   "cell_type": "code",
   "execution_count": 8,
   "id": "c7f096d9",
   "metadata": {},
   "outputs": [],
   "source": [
    "files = [i for i in listdir(directory) if isfile(directory + i)]"
   ]
  },
  {
   "cell_type": "code",
   "execution_count": 9,
   "id": "a82cf46a",
   "metadata": {},
   "outputs": [],
   "source": [
    "for file in files:\n",
    "    \n",
    "    old_file_name = directory + file\n",
    "    new_file_name = directory + file[7::]\n",
    "    \n",
    "    rename(old_file_name, new_file_name)"
   ]
  },
  {
   "cell_type": "markdown",
   "id": "95fc241f",
   "metadata": {},
   "source": [
    "<a id=file-naming-ex-2></a>\n",
    "***\n",
    "### Exercise 2\n",
    "\n",
    "[**Go to the top ↑**](#top-page)\n",
    "\n",
    "<a href=\"\">\n",
    "  <img src=\"https://img.shields.io/badge/youtube-firebrick?style=for-the-badge&logo=youtube&logoColor=white\" alt=\"YouTube Badge\"/>\n",
    "</a>\n",
    "\n",
    "We want to accomplish:\n",
    "\n",
    "``Case-1-dataset-Hydrogen-run-1.csv`` $\\rightarrow$ ``Case-1-Hydrogen-run-1.csv``\n",
    "\n",
    "## Be careful! 🔥"
   ]
  },
  {
   "cell_type": "code",
   "execution_count": null,
   "id": "5112373e",
   "metadata": {},
   "outputs": [],
   "source": [
    "import re"
   ]
  },
  {
   "cell_type": "code",
   "execution_count": null,
   "id": "1d3aa7db",
   "metadata": {},
   "outputs": [],
   "source": [
    "directory = '../data/'"
   ]
  },
  {
   "cell_type": "code",
   "execution_count": null,
   "id": "039d0f50",
   "metadata": {},
   "outputs": [],
   "source": [
    "files = [i for i in listdir(directory) if isfile(join(directory, i))]"
   ]
  },
  {
   "cell_type": "code",
   "execution_count": null,
   "id": "30557ea6",
   "metadata": {},
   "outputs": [],
   "source": [
    "phrase_to_remove = 'dataset-'"
   ]
  },
  {
   "cell_type": "code",
   "execution_count": null,
   "id": "5e870c31",
   "metadata": {},
   "outputs": [],
   "source": [
    "count_files = 0\n",
    "\n",
    "for file in files:\n",
    "\n",
    "    if file[0:4] == 'Case':\n",
    "        \n",
    "        res = re.search(phrase_to_remove, file)\n",
    "        \n",
    "        if res is not None:\n",
    "            \n",
    "            idx_start = res.start()\n",
    "            idx_end = res.end()\n",
    "\n",
    "            old_file_name = r'' + directory + file\n",
    "            new_file_name = r'' + directory + file[0:idx_start] + file[idx_end::]\n",
    "            \n",
    "            rename(old_file_name, new_file_name)\n",
    "            \n",
    "            print(old_file_name + '\\n' + new_file_name + '\\n')\n",
    "\n",
    "            count_files = count_files + 1\n",
    "\n",
    "print('- '*30)\n",
    "print('Renamed ' + str(count_files) + ' files.\\n')"
   ]
  },
  {
   "cell_type": "markdown",
   "id": "31674cd9",
   "metadata": {},
   "source": [
    "***"
   ]
  }
 ],
 "metadata": {
  "kernelspec": {
   "display_name": "Python 3",
   "language": "python",
   "name": "python3"
  },
  "language_info": {
   "codemirror_mode": {
    "name": "ipython",
    "version": 3
   },
   "file_extension": ".py",
   "mimetype": "text/x-python",
   "name": "python",
   "nbconvert_exporter": "python",
   "pygments_lexer": "ipython3",
   "version": "3.7.6"
  }
 },
 "nbformat": 4,
 "nbformat_minor": 5
}
