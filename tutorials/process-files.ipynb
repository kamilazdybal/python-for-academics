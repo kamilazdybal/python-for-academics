{
 "cells": [
  {
   "cell_type": "markdown",
   "id": "c080cd72",
   "metadata": {},
   "source": [
    "<a id=top-page></a>\n",
    "\n",
    "# [`Python for academics` : Processing files](https://www.youtube.com/playlist?list=PL7gWbAt3_3KEuRQfwFeI_RH3EZr87nslf)\n",
    "by **Kamila Zdybał**\n",
    "\n",
    "[`https://kamilazdybal.github.io`](https://kamilazdybal.github.io)\n",
    "\n",
    "***\n",
    "\n",
    "## Table of contents\n",
    "\n",
    "- [**File naming**](#file-naming)\n",
    "    - [Exercise 1](#file-naming-ex-1)\n",
    "    - [Exercise 2](#file-naming-ex-2)\n",
    "    - [Exercise 3](#file-naming-ex-3)\n",
    "    \n",
    "***"
   ]
  },
  {
   "cell_type": "code",
   "execution_count": null,
   "id": "67bfda42",
   "metadata": {},
   "outputs": [],
   "source": [
    "import numpy as np"
   ]
  },
  {
   "cell_type": "markdown",
   "id": "e941e72f",
   "metadata": {},
   "source": [
    "<a id=large-headers></a>\n",
    "***\n",
    "\n",
    "## File naming\n",
    "\n",
    "[**Go to the top ↑**](#top-page)"
   ]
  },
  {
   "cell_type": "markdown",
   "id": "6191789f",
   "metadata": {},
   "source": [
    "<a id=file-naming-ex-1></a>\n",
    "***\n",
    "### Exercise 1\n",
    "\n",
    "[**Go to the top ↑**](#top-page)\n",
    "\n",
    "<a href=\"https://youtu.be/3Y2w_7N8CcI\">\n",
    "  <img src=\"https://img.shields.io/badge/youtube-firebrick?style=for-the-badge&logo=youtube&logoColor=white\" alt=\"YouTube Badge\"/>\n",
    "</a>\n",
    "\n",
    "We want to accomplish:\n",
    "\n",
    "``Hydrogen-run-001.csv`` $\\rightarrow$ ``Case-1-Hydrogen-run-001.csv``\n",
    "\n",
    "## Be careful! 🔥"
   ]
  },
  {
   "cell_type": "markdown",
   "id": "6f54d1f8",
   "metadata": {},
   "source": [
    "Generate 20 empty test files:"
   ]
  },
  {
   "cell_type": "code",
   "execution_count": null,
   "id": "7bca960d",
   "metadata": {},
   "outputs": [],
   "source": [
    "for i in range(0,20):\n",
    "    print('touch Hydrogen-run-' + str(i+1).zfill(3) + '.csv')"
   ]
  },
  {
   "cell_type": "code",
   "execution_count": null,
   "id": "6358701e",
   "metadata": {},
   "outputs": [],
   "source": [
    "for i in range(0,20):\n",
    "    f = open('../data/Hydrogen-run-' + str(i+1).zfill(3) + '.csv', 'x')"
   ]
  },
  {
   "cell_type": "code",
   "execution_count": null,
   "id": "a6b8779f",
   "metadata": {},
   "outputs": [],
   "source": [
    "from os import listdir, rename\n",
    "from os.path import isfile"
   ]
  },
  {
   "cell_type": "code",
   "execution_count": null,
   "id": "6b92a494",
   "metadata": {},
   "outputs": [],
   "source": [
    "directory = '../data/'"
   ]
  },
  {
   "cell_type": "code",
   "execution_count": null,
   "id": "ff5d38b9",
   "metadata": {},
   "outputs": [],
   "source": [
    "files = [i for i in listdir(directory) if isfile(directory + i)]"
   ]
  },
  {
   "cell_type": "code",
   "execution_count": null,
   "id": "4843e6ce",
   "metadata": {},
   "outputs": [],
   "source": [
    "counter = 0\n",
    "\n",
    "for file in files:\n",
    "    \n",
    "    old_file_name = directory + file\n",
    "    new_file_name = directory + 'Case-1-' + file\n",
    "    \n",
    "    rename(old_file_name, new_file_name)\n",
    "    \n",
    "    print(old_file_name + '\\n' + new_file_name + '\\n')\n",
    "    \n",
    "    counter += 1\n",
    "    \n",
    "print('Renamed ' + str(counter) + ' files')"
   ]
  },
  {
   "cell_type": "code",
   "execution_count": null,
   "id": "16ae8c82",
   "metadata": {},
   "outputs": [],
   "source": [
    "files = [i for i in listdir(directory) if isfile(directory + i)]"
   ]
  },
  {
   "cell_type": "code",
   "execution_count": null,
   "id": "21acc2bd",
   "metadata": {},
   "outputs": [],
   "source": [
    "for file in files:\n",
    "    \n",
    "    old_file_name = directory + file\n",
    "    new_file_name = directory + file[7::]\n",
    "    \n",
    "    rename(old_file_name, new_file_name)"
   ]
  },
  {
   "cell_type": "markdown",
   "id": "d6978af4",
   "metadata": {},
   "source": [
    "<a id=file-naming-ex-2></a>\n",
    "***\n",
    "### Exercise 2\n",
    "\n",
    "[**Go to the top ↑**](#top-page)\n",
    "\n",
    "<a href=\"https://youtu.be/cTBpI1QQjLA\">\n",
    "  <img src=\"https://img.shields.io/badge/youtube-firebrick?style=for-the-badge&logo=youtube&logoColor=white\" alt=\"YouTube Badge\"/>\n",
    "</a>\n",
    "\n",
    "We want to accomplish:\n",
    "\n",
    "``Case-1-dataset-Hydrogen-run-001.csv`` $\\rightarrow$ ``Case-1-Hydrogen-run-001.csv``\n",
    "\n",
    "## Be careful! 🔥"
   ]
  },
  {
   "cell_type": "markdown",
   "id": "3769ebf8",
   "metadata": {},
   "source": [
    "Generate 20 empty test files:"
   ]
  },
  {
   "cell_type": "code",
   "execution_count": 1,
   "id": "c1a4762b",
   "metadata": {},
   "outputs": [],
   "source": [
    "for i in range(0,20):\n",
    "    f = open('../data/Case-1-dataset-Hydrogen-run-' + str(i+1).zfill(3) + '.csv', 'x')"
   ]
  },
  {
   "cell_type": "code",
   "execution_count": 2,
   "id": "b3b287c8",
   "metadata": {},
   "outputs": [],
   "source": [
    "import re\n",
    "from os import listdir, rename\n",
    "from os.path import isfile"
   ]
  },
  {
   "cell_type": "code",
   "execution_count": 3,
   "id": "2594dc15",
   "metadata": {},
   "outputs": [],
   "source": [
    "directory = '../data/'"
   ]
  },
  {
   "cell_type": "code",
   "execution_count": 4,
   "id": "28a20778",
   "metadata": {},
   "outputs": [],
   "source": [
    "phrase_to_remove = 'dataset-'"
   ]
  },
  {
   "cell_type": "code",
   "execution_count": 5,
   "id": "6a92be5f",
   "metadata": {},
   "outputs": [],
   "source": [
    "files = [i for i in listdir(directory) if isfile(directory + i)]"
   ]
  },
  {
   "cell_type": "code",
   "execution_count": 7,
   "id": "b3afccf9",
   "metadata": {},
   "outputs": [],
   "source": [
    "for file in files:\n",
    "    \n",
    "    res = re.search(phrase_to_remove, file)\n",
    "    \n",
    "    if res is not None:\n",
    "        \n",
    "        idx_start = res.start()\n",
    "        idx_end = res.end()\n",
    "        \n",
    "        old_file_name = directory + file\n",
    "        new_file_name = directory + file[0:idx_start] + file[idx_end::]\n",
    "        \n",
    "        rename(old_file_name, new_file_name)"
   ]
  },
  {
   "cell_type": "markdown",
   "id": "c19c136d",
   "metadata": {},
   "source": [
    "<a id=file-naming-ex-3></a>\n",
    "***\n",
    "### Exercise 3\n",
    "\n",
    "[**Go to the top ↑**](#top-page)\n",
    "\n",
    "<a href=\"\">\n",
    "  <img src=\"https://img.shields.io/badge/youtube-firebrick?style=for-the-badge&logo=youtube&logoColor=white\" alt=\"YouTube Badge\"/>\n",
    "</a>"
   ]
  },
  {
   "cell_type": "code",
   "execution_count": null,
   "id": "6b20a45e",
   "metadata": {},
   "outputs": [],
   "source": []
  },
  {
   "cell_type": "code",
   "execution_count": null,
   "id": "7fc49632",
   "metadata": {},
   "outputs": [],
   "source": []
  },
  {
   "cell_type": "code",
   "execution_count": null,
   "id": "879f2733",
   "metadata": {},
   "outputs": [],
   "source": []
  },
  {
   "cell_type": "code",
   "execution_count": null,
   "id": "25268bc7",
   "metadata": {},
   "outputs": [],
   "source": []
  },
  {
   "cell_type": "code",
   "execution_count": null,
   "id": "f7854311",
   "metadata": {},
   "outputs": [],
   "source": []
  },
  {
   "cell_type": "code",
   "execution_count": null,
   "id": "a23d3f38",
   "metadata": {},
   "outputs": [],
   "source": []
  },
  {
   "cell_type": "code",
   "execution_count": null,
   "id": "161cb53b",
   "metadata": {},
   "outputs": [],
   "source": []
  },
  {
   "cell_type": "code",
   "execution_count": null,
   "id": "1487b4de",
   "metadata": {},
   "outputs": [],
   "source": []
  },
  {
   "cell_type": "code",
   "execution_count": null,
   "id": "dc0106cb",
   "metadata": {},
   "outputs": [],
   "source": []
  },
  {
   "cell_type": "code",
   "execution_count": null,
   "id": "60aae245",
   "metadata": {},
   "outputs": [],
   "source": []
  },
  {
   "cell_type": "code",
   "execution_count": null,
   "id": "71eeb9a7",
   "metadata": {},
   "outputs": [],
   "source": []
  },
  {
   "cell_type": "code",
   "execution_count": null,
   "id": "0b341fbf",
   "metadata": {},
   "outputs": [],
   "source": []
  },
  {
   "cell_type": "code",
   "execution_count": null,
   "id": "69c06587",
   "metadata": {},
   "outputs": [],
   "source": []
  },
  {
   "cell_type": "code",
   "execution_count": null,
   "id": "220322ac",
   "metadata": {},
   "outputs": [],
   "source": []
  },
  {
   "cell_type": "code",
   "execution_count": null,
   "id": "671d5c18",
   "metadata": {},
   "outputs": [],
   "source": []
  },
  {
   "cell_type": "code",
   "execution_count": null,
   "id": "e4d46a61",
   "metadata": {},
   "outputs": [],
   "source": []
  },
  {
   "cell_type": "code",
   "execution_count": null,
   "id": "acaa6cf7",
   "metadata": {},
   "outputs": [],
   "source": []
  },
  {
   "cell_type": "code",
   "execution_count": null,
   "id": "d58aadfa",
   "metadata": {},
   "outputs": [],
   "source": []
  },
  {
   "cell_type": "code",
   "execution_count": null,
   "id": "58ee8810",
   "metadata": {},
   "outputs": [],
   "source": []
  },
  {
   "cell_type": "markdown",
   "id": "aead1b34",
   "metadata": {},
   "source": [
    "***"
   ]
  }
 ],
 "metadata": {
  "kernelspec": {
   "display_name": "Python 3",
   "language": "python",
   "name": "python3"
  },
  "language_info": {
   "codemirror_mode": {
    "name": "ipython",
    "version": 3
   },
   "file_extension": ".py",
   "mimetype": "text/x-python",
   "name": "python",
   "nbconvert_exporter": "python",
   "pygments_lexer": "ipython3",
   "version": "3.7.6"
  }
 },
 "nbformat": 4,
 "nbformat_minor": 5
}
