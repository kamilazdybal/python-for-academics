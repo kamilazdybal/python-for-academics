{
 "cells": [
  {
   "cell_type": "markdown",
   "id": "ec126297",
   "metadata": {},
   "source": [
    "<a id=top-page></a>\n",
    "\n",
    "# [`Python for academics` : Process files]()\n",
    "by **Kamila Zdybał**\n",
    "\n",
    "[`https://kamilazdybal.github.io`](https://kamilazdybal.github.io)\n",
    "\n",
    "***\n",
    "\n",
    "## Table of contents\n",
    "\n",
    "- [**File naming**](#file-naming)\n",
    "    - [Exercise 1](#file-naming-ex-1)\n",
    "    - [Exercise 2](#file-naming-ex-2)\n",
    "\n",
    "***"
   ]
  },
  {
   "cell_type": "code",
   "execution_count": 2,
   "id": "aed7ca2f",
   "metadata": {},
   "outputs": [],
   "source": [
    "import re\n",
    "import numpy as np"
   ]
  },
  {
   "cell_type": "markdown",
   "id": "469144ca",
   "metadata": {},
   "source": [
    "<a id=large-headers></a>\n",
    "***\n",
    "\n",
    "## File naming\n",
    "\n",
    "[**Go to the top ↑**](#top-page)"
   ]
  },
  {
   "cell_type": "markdown",
   "id": "9f08d8c3",
   "metadata": {},
   "source": [
    "<a id=large-headers-ex-1></a>\n",
    "***\n",
    "### Exercise 1\n",
    "\n",
    "[**Go to the top ↑**](#top-page)\n",
    "\n",
    "<a href=\"\">\n",
    "  <img src=\"https://img.shields.io/badge/youtube-firebrick?style=for-the-badge&logo=youtube&logoColor=white\" alt=\"YouTube Badge\"/>\n",
    "</a>\n",
    "\n",
    "We want to accomplish:\n",
    "\n"
   ]
  },
  {
   "cell_type": "code",
   "execution_count": null,
   "id": "741c8df6",
   "metadata": {},
   "outputs": [],
   "source": []
  },
  {
   "cell_type": "code",
   "execution_count": null,
   "id": "4bfdc303",
   "metadata": {},
   "outputs": [],
   "source": []
  },
  {
   "cell_type": "code",
   "execution_count": null,
   "id": "02ab714c",
   "metadata": {},
   "outputs": [],
   "source": []
  },
  {
   "cell_type": "code",
   "execution_count": null,
   "id": "e0a376b0",
   "metadata": {},
   "outputs": [],
   "source": []
  },
  {
   "cell_type": "markdown",
   "id": "5659c1cc",
   "metadata": {},
   "source": [
    "<a id=large-headers-ex-1></a>\n",
    "***\n",
    "### Exercise 2\n",
    "\n",
    "[**Go to the top ↑**](#top-page)\n",
    "\n",
    "<a href=\"\">\n",
    "  <img src=\"https://img.shields.io/badge/youtube-firebrick?style=for-the-badge&logo=youtube&logoColor=white\" alt=\"YouTube Badge\"/>\n",
    "</a>\n",
    "\n",
    "We want to accomplish:\n",
    "\n"
   ]
  },
  {
   "cell_type": "code",
   "execution_count": 42,
   "id": "91c7b86f",
   "metadata": {},
   "outputs": [
    {
     "name": "stdout",
     "output_type": "stream",
     "text": [
      "./Case-1-dataset-Hydrogen-2D-LDM.md\n",
      "./Case-1-Hydrogen-2D-LDM.md\n",
      "\n",
      "\n",
      "------------------------------------------------------------\n",
      "Renamed 1 files.\n",
      "\n"
     ]
    }
   ],
   "source": [
    "from os import listdir\n",
    "from os import rename\n",
    "from os.path import isfile, isdir, join\n",
    "\n",
    "directory = '../data'\n",
    "\n",
    "count_files = 0\n",
    "\n",
    "files = [f for f in listdir(directory) if isfile(join(directory, f))]\n",
    "\n",
    "phrase_to_remove = 'dataset-'\n",
    "\n",
    "for file in files:\n",
    "\n",
    "    if file[0:4] == 'Case':\n",
    "        \n",
    "        res = re.search(phrase_to_remove, file)\n",
    "        idx_start = res.start()\n",
    "        idx_end = res.end()\n",
    "\n",
    "        old_file_name = r'' + directory + file\n",
    "        new_file_name = r'' + directory + file[0:idx_start] + file[idx_end::]\n",
    "        rename(old_file_name, new_file_name)\n",
    "        print(old_file_name)\n",
    "        print(new_file_name)\n",
    "        print()\n",
    "        \n",
    "        count_files = count_files + 1\n",
    "\n",
    "print('\\n' + '-'*60)\n",
    "print('Renamed ' + str(count_files) + ' files.\\n')"
   ]
  },
  {
   "cell_type": "code",
   "execution_count": null,
   "id": "b11d40f9",
   "metadata": {},
   "outputs": [],
   "source": []
  },
  {
   "cell_type": "code",
   "execution_count": null,
   "id": "a3ba1851",
   "metadata": {},
   "outputs": [],
   "source": []
  },
  {
   "cell_type": "code",
   "execution_count": null,
   "id": "9718a7e9",
   "metadata": {},
   "outputs": [],
   "source": []
  },
  {
   "cell_type": "markdown",
   "id": "5e328568",
   "metadata": {},
   "source": [
    "***"
   ]
  }
 ],
 "metadata": {
  "kernelspec": {
   "display_name": "Python 3",
   "language": "python",
   "name": "python3"
  },
  "language_info": {
   "codemirror_mode": {
    "name": "ipython",
    "version": 3
   },
   "file_extension": ".py",
   "mimetype": "text/x-python",
   "name": "python",
   "nbconvert_exporter": "python",
   "pygments_lexer": "ipython3",
   "version": "3.7.6"
  }
 },
 "nbformat": 4,
 "nbformat_minor": 5
}
