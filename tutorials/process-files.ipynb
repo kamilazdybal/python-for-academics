{
 "cells": [
  {
   "cell_type": "markdown",
   "id": "957ddf8e",
   "metadata": {},
   "source": [
    "# `Python for academics` : Processing files\n",
    "\n",
    "by **Kamila Zdybał**\n",
    "\n",
    "[`https://kamilazdybal.github.io`](https://kamilazdybal.github.io)"
   ]
  },
  {
   "cell_type": "markdown",
   "id": "75df42e3",
   "metadata": {},
   "source": [
    "In this notebook, we explore various ways in which Python can help us preprocess files that store your research results."
   ]
  },
  {
   "cell_type": "markdown",
   "id": "1eb04193",
   "metadata": {},
   "source": [
    "<a id=top-page></a>\n",
    "\n",
    "***\n",
    "\n",
    "## Table of contents\n",
    "\n",
    "- [**File naming**](#file-naming)\n",
    "    - [Exercise 1](#file-naming-ex-1)\n",
    "    - [Exercise 2](#file-naming-ex-2)\n",
    "    - [Exercise 3](#file-naming-ex-3)\n",
    "    \n",
    "***"
   ]
  },
  {
   "cell_type": "code",
   "execution_count": null,
   "id": "63e058b3",
   "metadata": {},
   "outputs": [],
   "source": [
    "import numpy as np"
   ]
  },
  {
   "cell_type": "markdown",
   "id": "54fccd9f",
   "metadata": {},
   "source": [
    "<a id=large-headers></a>\n",
    "***\n",
    "\n",
    "## File naming\n",
    "\n",
    "[**Go to the top ↑**](#top-page)"
   ]
  },
  {
   "cell_type": "markdown",
   "id": "fb138b02",
   "metadata": {},
   "source": [
    "<a id=file-naming-ex-1></a>\n",
    "***\n",
    "### Exercise 1\n",
    "\n",
    "[**Go to the top ↑**](#top-page)\n",
    "\n",
    "<a href=\"https://youtu.be/3Y2w_7N8CcI\">\n",
    "  <img src=\"https://img.shields.io/badge/youtube-firebrick?style=for-the-badge&logo=youtube&logoColor=white\" alt=\"YouTube Badge\"/>\n",
    "</a>\n",
    "\n",
    "We want to accomplish:\n",
    "\n",
    "``Hydrogen-run-001.csv`` $\\rightarrow$ ``Case-1-Hydrogen-run-001.csv``\n",
    "\n",
    "## Be careful! 🔥"
   ]
  },
  {
   "cell_type": "markdown",
   "id": "8a201938",
   "metadata": {},
   "source": [
    "Generate 20 empty test files:"
   ]
  },
  {
   "cell_type": "code",
   "execution_count": null,
   "id": "11e6e8f0",
   "metadata": {},
   "outputs": [],
   "source": [
    "for i in range(0,20):\n",
    "    print('touch Hydrogen-run-' + str(i+1).zfill(3) + '.csv')"
   ]
  },
  {
   "cell_type": "code",
   "execution_count": null,
   "id": "c2d6ea2d",
   "metadata": {},
   "outputs": [],
   "source": [
    "for i in range(0,20):\n",
    "    f = open('../data/Hydrogen-run-' + str(i+1).zfill(3) + '.csv', 'x')"
   ]
  },
  {
   "cell_type": "code",
   "execution_count": null,
   "id": "8cea4ffa",
   "metadata": {},
   "outputs": [],
   "source": [
    "from os import listdir, rename\n",
    "from os.path import isfile"
   ]
  },
  {
   "cell_type": "code",
   "execution_count": null,
   "id": "f93829d9",
   "metadata": {},
   "outputs": [],
   "source": [
    "directory = '../data/'"
   ]
  },
  {
   "cell_type": "code",
   "execution_count": null,
   "id": "918a9ecc",
   "metadata": {},
   "outputs": [],
   "source": [
    "files = [i for i in listdir(directory) if isfile(directory + i)]"
   ]
  },
  {
   "cell_type": "code",
   "execution_count": null,
   "id": "e5413682",
   "metadata": {},
   "outputs": [],
   "source": [
    "counter = 0\n",
    "\n",
    "for file in files:\n",
    "    \n",
    "    old_file_name = directory + file\n",
    "    new_file_name = directory + 'Case-1-' + file\n",
    "    \n",
    "    rename(old_file_name, new_file_name)\n",
    "    \n",
    "    print(old_file_name + '\\n' + new_file_name + '\\n')\n",
    "    \n",
    "    counter += 1\n",
    "    \n",
    "print('Renamed ' + str(counter) + ' files')"
   ]
  },
  {
   "cell_type": "code",
   "execution_count": null,
   "id": "b5c4ef3b",
   "metadata": {},
   "outputs": [],
   "source": [
    "files = [i for i in listdir(directory) if isfile(directory + i)]"
   ]
  },
  {
   "cell_type": "code",
   "execution_count": null,
   "id": "867f8b32",
   "metadata": {},
   "outputs": [],
   "source": [
    "for file in files:\n",
    "    \n",
    "    old_file_name = directory + file\n",
    "    new_file_name = directory + file[7::]\n",
    "    \n",
    "    rename(old_file_name, new_file_name)"
   ]
  },
  {
   "cell_type": "markdown",
   "id": "37f9175e",
   "metadata": {},
   "source": [
    "<a id=file-naming-ex-2></a>\n",
    "***\n",
    "### Exercise 2\n",
    "\n",
    "[**Go to the top ↑**](#top-page)\n",
    "\n",
    "<a href=\"https://youtu.be/cTBpI1QQjLA\">\n",
    "  <img src=\"https://img.shields.io/badge/youtube-firebrick?style=for-the-badge&logo=youtube&logoColor=white\" alt=\"YouTube Badge\"/>\n",
    "</a>\n",
    "\n",
    "We want to accomplish:\n",
    "\n",
    "``Case-1-dataset-Hydrogen-run-001.csv`` $\\rightarrow$ ``Case-1-Hydrogen-run-001.csv``\n",
    "\n",
    "## Be careful! 🔥"
   ]
  },
  {
   "cell_type": "markdown",
   "id": "5f01e93c",
   "metadata": {},
   "source": [
    "Generate 20 empty test files:"
   ]
  },
  {
   "cell_type": "code",
   "execution_count": null,
   "id": "8f455d36",
   "metadata": {},
   "outputs": [],
   "source": [
    "for i in range(0,20):\n",
    "    f = open('../data/Case-1-dataset-Hydrogen-run-' + str(i+1).zfill(3) + '.csv', 'x')"
   ]
  },
  {
   "cell_type": "code",
   "execution_count": null,
   "id": "9fdae221",
   "metadata": {},
   "outputs": [],
   "source": [
    "import re\n",
    "from os import listdir, rename\n",
    "from os.path import isfile"
   ]
  },
  {
   "cell_type": "code",
   "execution_count": null,
   "id": "0d49a86a",
   "metadata": {},
   "outputs": [],
   "source": [
    "directory = '../data/'"
   ]
  },
  {
   "cell_type": "code",
   "execution_count": null,
   "id": "7241cc0c",
   "metadata": {},
   "outputs": [],
   "source": [
    "phrase_to_remove = 'dataset-'"
   ]
  },
  {
   "cell_type": "code",
   "execution_count": null,
   "id": "7910d9c8",
   "metadata": {},
   "outputs": [],
   "source": [
    "files = [i for i in listdir(directory) if isfile(directory + i)]"
   ]
  },
  {
   "cell_type": "code",
   "execution_count": null,
   "id": "0a401203",
   "metadata": {},
   "outputs": [],
   "source": [
    "for file in files:\n",
    "    \n",
    "    res = re.search(phrase_to_remove, file)\n",
    "    \n",
    "    if res is not None:\n",
    "        \n",
    "        idx_start = res.start()\n",
    "        idx_end = res.end()\n",
    "        \n",
    "        old_file_name = directory + file\n",
    "        new_file_name = directory + file[0:idx_start] + file[idx_end::]\n",
    "        \n",
    "        rename(old_file_name, new_file_name)"
   ]
  },
  {
   "cell_type": "markdown",
   "id": "ed2eb82f",
   "metadata": {},
   "source": [
    "<a id=file-naming-ex-3></a>\n",
    "***\n",
    "### Exercise 3\n",
    "\n",
    "[**Go to the top ↑**](#top-page)\n",
    "\n",
    "<a href=\"https://youtu.be/OAqH6gzgi6Y\">\n",
    "  <img src=\"https://img.shields.io/badge/youtube-firebrick?style=for-the-badge&logo=youtube&logoColor=white\" alt=\"YouTube Badge\"/>\n",
    "</a>\n",
    "\n",
    "We want to accomplish:\n",
    "\n",
    "``CASE-1-DATASET-HYDROGEN-RUN-001.csv`` $\\rightarrow$ ``Case-1-hydrogen-run-001.csv``\n",
    "\n",
    "## Be careful! 🔥"
   ]
  },
  {
   "cell_type": "code",
   "execution_count": 1,
   "id": "241a400e-4420-434c-aca8-c208980d892c",
   "metadata": {},
   "outputs": [],
   "source": [
    "for i in range(0,20):\n",
    "    f = open('../data/CASE-1-DATASET-HYDROGEN-RUN-' + str(i+1).zfill(3) + '.csv', 'x')"
   ]
  },
  {
   "cell_type": "code",
   "execution_count": 2,
   "id": "f7104373-852d-4aa4-890f-0def497faf1f",
   "metadata": {},
   "outputs": [],
   "source": [
    "from os import listdir, rename\n",
    "from os.path import isfile"
   ]
  },
  {
   "cell_type": "code",
   "execution_count": 3,
   "id": "a511f2a0-4090-4e6a-9752-70ee5e402a5a",
   "metadata": {},
   "outputs": [],
   "source": [
    "directory = '../data/'"
   ]
  },
  {
   "cell_type": "code",
   "execution_count": 4,
   "id": "c682ce54-2b21-4423-ae27-508e56415dc4",
   "metadata": {},
   "outputs": [],
   "source": [
    "files = [i for i in listdir(directory) if isfile(directory + i)]"
   ]
  },
  {
   "cell_type": "code",
   "execution_count": 5,
   "id": "944e1030",
   "metadata": {},
   "outputs": [
    {
     "data": {
      "text/plain": [
       "['CASE-1-DATASET-HYDROGEN-RUN-013.csv',\n",
       " 'CASE-1-DATASET-HYDROGEN-RUN-007.csv',\n",
       " 'CASE-1-DATASET-HYDROGEN-RUN-006.csv',\n",
       " 'CASE-1-DATASET-HYDROGEN-RUN-012.csv',\n",
       " 'CASE-1-DATASET-HYDROGEN-RUN-004.csv',\n",
       " 'CASE-1-DATASET-HYDROGEN-RUN-010.csv',\n",
       " 'CASE-1-DATASET-HYDROGEN-RUN-011.csv',\n",
       " 'CASE-1-DATASET-HYDROGEN-RUN-005.csv',\n",
       " 'CASE-1-DATASET-HYDROGEN-RUN-001.csv',\n",
       " 'CASE-1-DATASET-HYDROGEN-RUN-015.csv',\n",
       " 'CASE-1-DATASET-HYDROGEN-RUN-014.csv',\n",
       " 'CASE-1-DATASET-HYDROGEN-RUN-016.csv',\n",
       " 'CASE-1-DATASET-HYDROGEN-RUN-002.csv',\n",
       " 'CASE-1-DATASET-HYDROGEN-RUN-003.csv',\n",
       " 'CASE-1-DATASET-HYDROGEN-RUN-017.csv',\n",
       " 'CASE-1-DATASET-HYDROGEN-RUN-019.csv',\n",
       " 'CASE-1-DATASET-HYDROGEN-RUN-018.csv',\n",
       " 'CASE-1-DATASET-HYDROGEN-RUN-008.csv',\n",
       " 'CASE-1-DATASET-HYDROGEN-RUN-020.csv',\n",
       " 'CASE-1-DATASET-HYDROGEN-RUN-009.csv']"
      ]
     },
     "execution_count": 5,
     "metadata": {},
     "output_type": "execute_result"
    }
   ],
   "source": [
    "files"
   ]
  },
  {
   "cell_type": "code",
   "execution_count": 6,
   "id": "76f3cba7",
   "metadata": {},
   "outputs": [],
   "source": [
    "for file in files:\n",
    "\n",
    "    old_file_name = directory + file\n",
    "    new_file_name = directory + file[0].upper() + file[1::].lower()\n",
    "\n",
    "    rename(old_file_name, new_file_name)"
   ]
  },
  {
   "cell_type": "code",
   "execution_count": null,
   "id": "3853ec1c",
   "metadata": {},
   "outputs": [],
   "source": []
  },
  {
   "cell_type": "code",
   "execution_count": null,
   "id": "a870c67c",
   "metadata": {},
   "outputs": [],
   "source": []
  },
  {
   "cell_type": "code",
   "execution_count": null,
   "id": "04d7a035",
   "metadata": {},
   "outputs": [],
   "source": []
  },
  {
   "cell_type": "code",
   "execution_count": null,
   "id": "9f62c433",
   "metadata": {},
   "outputs": [],
   "source": []
  },
  {
   "cell_type": "code",
   "execution_count": null,
   "id": "a3d6c2e7",
   "metadata": {},
   "outputs": [],
   "source": []
  },
  {
   "cell_type": "code",
   "execution_count": null,
   "id": "31feda4d",
   "metadata": {},
   "outputs": [],
   "source": []
  },
  {
   "cell_type": "code",
   "execution_count": null,
   "id": "cbb7d8f1",
   "metadata": {},
   "outputs": [],
   "source": []
  },
  {
   "cell_type": "code",
   "execution_count": null,
   "id": "2574258f",
   "metadata": {},
   "outputs": [],
   "source": []
  },
  {
   "cell_type": "code",
   "execution_count": null,
   "id": "1dbbe1c5",
   "metadata": {},
   "outputs": [],
   "source": []
  },
  {
   "cell_type": "code",
   "execution_count": null,
   "id": "16170847",
   "metadata": {},
   "outputs": [],
   "source": []
  },
  {
   "cell_type": "code",
   "execution_count": null,
   "id": "41286420",
   "metadata": {},
   "outputs": [],
   "source": []
  },
  {
   "cell_type": "code",
   "execution_count": null,
   "id": "294e6a91",
   "metadata": {},
   "outputs": [],
   "source": []
  },
  {
   "cell_type": "code",
   "execution_count": null,
   "id": "ef80705d",
   "metadata": {},
   "outputs": [],
   "source": []
  },
  {
   "cell_type": "code",
   "execution_count": null,
   "id": "05025b1c",
   "metadata": {},
   "outputs": [],
   "source": []
  },
  {
   "cell_type": "code",
   "execution_count": null,
   "id": "f9c7ff5d",
   "metadata": {},
   "outputs": [],
   "source": []
  },
  {
   "cell_type": "code",
   "execution_count": null,
   "id": "e0f9a9ea",
   "metadata": {},
   "outputs": [],
   "source": []
  },
  {
   "cell_type": "code",
   "execution_count": null,
   "id": "95a17454",
   "metadata": {},
   "outputs": [],
   "source": []
  },
  {
   "cell_type": "markdown",
   "id": "225c8e9e",
   "metadata": {},
   "source": [
    "***"
   ]
  }
 ],
 "metadata": {
  "kernelspec": {
   "display_name": "Python 3 (ipykernel)",
   "language": "python",
   "name": "python3"
  },
  "language_info": {
   "codemirror_mode": {
    "name": "ipython",
    "version": 3
   },
   "file_extension": ".py",
   "mimetype": "text/x-python",
   "name": "python",
   "nbconvert_exporter": "python",
   "pygments_lexer": "ipython3",
   "version": "3.10.13"
  }
 },
 "nbformat": 4,
 "nbformat_minor": 5
}
