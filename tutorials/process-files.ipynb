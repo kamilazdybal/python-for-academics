{
 "cells": [
  {
   "cell_type": "markdown",
   "id": "b8e76860",
   "metadata": {},
   "source": [
    "<a id=top-page></a>\n",
    "\n",
    "# [`Python for academics` : Processing files](https://www.youtube.com/playlist?list=PL7gWbAt3_3KEuRQfwFeI_RH3EZr87nslf)\n",
    "by **Kamila Zdybał**\n",
    "\n",
    "[`https://kamilazdybal.github.io`](https://kamilazdybal.github.io)\n",
    "\n",
    "***\n",
    "\n",
    "## Table of contents\n",
    "\n",
    "- [**File naming**](#file-naming)\n",
    "    - [Exercise 1](#file-naming-ex-1)\n",
    "    - [Exercise 2](#file-naming-ex-2)\n",
    "\n",
    "***"
   ]
  },
  {
   "cell_type": "code",
   "execution_count": 2,
   "id": "4e8c1f49",
   "metadata": {},
   "outputs": [],
   "source": [
    "import re\n",
    "import numpy as np\n",
    "from os import listdir\n",
    "from os import rename\n",
    "from os.path import isfile, isdir, join"
   ]
  },
  {
   "cell_type": "markdown",
   "id": "fb8f48d0",
   "metadata": {},
   "source": [
    "<a id=large-headers></a>\n",
    "***\n",
    "\n",
    "## File naming\n",
    "\n",
    "[**Go to the top ↑**](#top-page)"
   ]
  },
  {
   "cell_type": "markdown",
   "id": "20bcf878",
   "metadata": {},
   "source": [
    "<a id=large-headers-ex-1></a>\n",
    "***\n",
    "### Exercise 1\n",
    "\n",
    "[**Go to the top ↑**](#top-page)\n",
    "\n",
    "<a href=\"\">\n",
    "  <img src=\"https://img.shields.io/badge/youtube-firebrick?style=for-the-badge&logo=youtube&logoColor=white\" alt=\"YouTube Badge\"/>\n",
    "</a>\n",
    "\n",
    "We want to accomplish:\n",
    "\n",
    "``Hydrogen-run-1.csv`` $\\rightarrow$ ``Case-1-Hydrogen-run-1.csv``\n",
    "\n",
    "## Be careful! 🔥"
   ]
  },
  {
   "cell_type": "markdown",
   "id": "579739e9",
   "metadata": {},
   "source": [
    "Generate 20 empty test files:"
   ]
  },
  {
   "cell_type": "code",
   "execution_count": 64,
   "id": "647950b4",
   "metadata": {},
   "outputs": [
    {
     "name": "stdout",
     "output_type": "stream",
     "text": [
      "touch Hydrogen-run-001.csv\n",
      "touch Hydrogen-run-002.csv\n",
      "touch Hydrogen-run-003.csv\n",
      "touch Hydrogen-run-004.csv\n",
      "touch Hydrogen-run-005.csv\n",
      "touch Hydrogen-run-006.csv\n",
      "touch Hydrogen-run-007.csv\n",
      "touch Hydrogen-run-008.csv\n",
      "touch Hydrogen-run-009.csv\n",
      "touch Hydrogen-run-010.csv\n",
      "touch Hydrogen-run-011.csv\n",
      "touch Hydrogen-run-012.csv\n",
      "touch Hydrogen-run-013.csv\n",
      "touch Hydrogen-run-014.csv\n",
      "touch Hydrogen-run-015.csv\n",
      "touch Hydrogen-run-016.csv\n",
      "touch Hydrogen-run-017.csv\n",
      "touch Hydrogen-run-018.csv\n",
      "touch Hydrogen-run-019.csv\n",
      "touch Hydrogen-run-020.csv\n"
     ]
    }
   ],
   "source": [
    "for i in range(0,20):\n",
    "    print('touch Hydrogen-run-' + str(i+1).zfill(3) + '.csv')"
   ]
  },
  {
   "cell_type": "code",
   "execution_count": 68,
   "id": "1bc33089",
   "metadata": {},
   "outputs": [],
   "source": [
    "for i in range(0,20):\n",
    "    f = open('../data/Hydrogen-run-' + str(i+1).zfill(3) + '.csv', 'x')"
   ]
  },
  {
   "cell_type": "code",
   "execution_count": 69,
   "id": "ee74bd14",
   "metadata": {},
   "outputs": [],
   "source": [
    "directory = '../data/'"
   ]
  },
  {
   "cell_type": "code",
   "execution_count": 70,
   "id": "9729facf",
   "metadata": {},
   "outputs": [],
   "source": [
    "files = [i for i in listdir(directory) if isfile(join(directory, i))]"
   ]
  },
  {
   "cell_type": "code",
   "execution_count": 71,
   "id": "9456f91b",
   "metadata": {},
   "outputs": [
    {
     "name": "stdout",
     "output_type": "stream",
     "text": [
      "../data/Hydrogen-run-018.csv\n",
      "../data/Case-1-Hydrogen-run-018.csv\n",
      "\n",
      "../data/Hydrogen-run-019.csv\n",
      "../data/Case-1-Hydrogen-run-019.csv\n",
      "\n",
      "../data/Hydrogen-run-009.csv\n",
      "../data/Case-1-Hydrogen-run-009.csv\n",
      "\n",
      "../data/Hydrogen-run-020.csv\n",
      "../data/Case-1-Hydrogen-run-020.csv\n",
      "\n",
      "../data/Hydrogen-run-008.csv\n",
      "../data/Case-1-Hydrogen-run-008.csv\n",
      "\n",
      "../data/Hydrogen-run-005.csv\n",
      "../data/Case-1-Hydrogen-run-005.csv\n",
      "\n",
      "../data/Hydrogen-run-011.csv\n",
      "../data/Case-1-Hydrogen-run-011.csv\n",
      "\n",
      "../data/Hydrogen-run-010.csv\n",
      "../data/Case-1-Hydrogen-run-010.csv\n",
      "\n",
      "../data/Hydrogen-run-004.csv\n",
      "../data/Case-1-Hydrogen-run-004.csv\n",
      "\n",
      "../data/Hydrogen-run-012.csv\n",
      "../data/Case-1-Hydrogen-run-012.csv\n",
      "\n",
      "../data/Hydrogen-run-006.csv\n",
      "../data/Case-1-Hydrogen-run-006.csv\n",
      "\n",
      "../data/Hydrogen-run-007.csv\n",
      "../data/Case-1-Hydrogen-run-007.csv\n",
      "\n",
      "../data/Hydrogen-run-013.csv\n",
      "../data/Case-1-Hydrogen-run-013.csv\n",
      "\n",
      "../data/Hydrogen-run-017.csv\n",
      "../data/Case-1-Hydrogen-run-017.csv\n",
      "\n",
      "../data/Hydrogen-run-003.csv\n",
      "../data/Case-1-Hydrogen-run-003.csv\n",
      "\n",
      "../data/Hydrogen-run-002.csv\n",
      "../data/Case-1-Hydrogen-run-002.csv\n",
      "\n",
      "../data/Hydrogen-run-016.csv\n",
      "../data/Case-1-Hydrogen-run-016.csv\n",
      "\n",
      "../data/Hydrogen-run-014.csv\n",
      "../data/Case-1-Hydrogen-run-014.csv\n",
      "\n",
      "../data/Hydrogen-run-015.csv\n",
      "../data/Case-1-Hydrogen-run-015.csv\n",
      "\n",
      "../data/Hydrogen-run-001.csv\n",
      "../data/Case-1-Hydrogen-run-001.csv\n",
      "\n",
      "- - - - - - - - - - - - - - - - - - - - - - - - - - - - - - \n",
      "Renamed 20 files.\n",
      "\n"
     ]
    }
   ],
   "source": [
    "count_files = 0\n",
    "\n",
    "for file in files:\n",
    "\n",
    "    old_file_name = r'' + directory + file\n",
    "    new_file_name = r'' + directory + 'Case-1-' + file\n",
    "    \n",
    "    rename(old_file_name, new_file_name)\n",
    "    \n",
    "    print(old_file_name + '\\n' +  new_file_name + '\\n')\n",
    "\n",
    "    count_files = count_files + 1\n",
    "\n",
    "print('- '*30)\n",
    "print('Renamed ' + str(count_files) + ' files.\\n')"
   ]
  },
  {
   "cell_type": "markdown",
   "id": "76f4397b",
   "metadata": {},
   "source": [
    "To undo this operation:"
   ]
  },
  {
   "cell_type": "code",
   "execution_count": 72,
   "id": "9110ef04",
   "metadata": {},
   "outputs": [],
   "source": [
    "files = [i for i in listdir(directory) if isfile(join(directory, i))]"
   ]
  },
  {
   "cell_type": "code",
   "execution_count": 73,
   "id": "0e9a11e3",
   "metadata": {},
   "outputs": [
    {
     "name": "stdout",
     "output_type": "stream",
     "text": [
      "../data/Case-1-Hydrogen-run-002.csv\n",
      "../data/Hydrogen-run-002.csv\n",
      "\n",
      "../data/Case-1-Hydrogen-run-016.csv\n",
      "../data/Hydrogen-run-016.csv\n",
      "\n",
      "../data/Case-1-Hydrogen-run-017.csv\n",
      "../data/Hydrogen-run-017.csv\n",
      "\n",
      "../data/Case-1-Hydrogen-run-003.csv\n",
      "../data/Hydrogen-run-003.csv\n",
      "\n",
      "../data/Case-1-Hydrogen-run-015.csv\n",
      "../data/Hydrogen-run-015.csv\n",
      "\n",
      "../data/Case-1-Hydrogen-run-001.csv\n",
      "../data/Hydrogen-run-001.csv\n",
      "\n",
      "../data/Case-1-Hydrogen-run-014.csv\n",
      "../data/Hydrogen-run-014.csv\n",
      "\n",
      "../data/Case-1-Hydrogen-run-010.csv\n",
      "../data/Hydrogen-run-010.csv\n",
      "\n",
      "../data/Case-1-Hydrogen-run-004.csv\n",
      "../data/Hydrogen-run-004.csv\n",
      "\n",
      "../data/Case-1-Hydrogen-run-005.csv\n",
      "../data/Hydrogen-run-005.csv\n",
      "\n",
      "../data/Case-1-Hydrogen-run-011.csv\n",
      "../data/Hydrogen-run-011.csv\n",
      "\n",
      "../data/Case-1-Hydrogen-run-007.csv\n",
      "../data/Hydrogen-run-007.csv\n",
      "\n",
      "../data/Case-1-Hydrogen-run-013.csv\n",
      "../data/Hydrogen-run-013.csv\n",
      "\n",
      "../data/Case-1-Hydrogen-run-012.csv\n",
      "../data/Hydrogen-run-012.csv\n",
      "\n",
      "../data/Case-1-Hydrogen-run-006.csv\n",
      "../data/Hydrogen-run-006.csv\n",
      "\n",
      "../data/Case-1-Hydrogen-run-008.csv\n",
      "../data/Hydrogen-run-008.csv\n",
      "\n",
      "../data/Case-1-Hydrogen-run-020.csv\n",
      "../data/Hydrogen-run-020.csv\n",
      "\n",
      "../data/Case-1-Hydrogen-run-009.csv\n",
      "../data/Hydrogen-run-009.csv\n",
      "\n",
      "../data/Case-1-Hydrogen-run-019.csv\n",
      "../data/Hydrogen-run-019.csv\n",
      "\n",
      "../data/Case-1-Hydrogen-run-018.csv\n",
      "../data/Hydrogen-run-018.csv\n",
      "\n",
      "- - - - - - - - - - - - - - - - - - - - - - - - - - - - - - \n",
      "Renamed 20 files.\n",
      "\n"
     ]
    }
   ],
   "source": [
    "count_files = 0\n",
    "\n",
    "for file in files:\n",
    "\n",
    "    old_file_name = r'' + directory + file\n",
    "    new_file_name = r'' + directory + file[7::]\n",
    "    \n",
    "    rename(old_file_name, new_file_name)\n",
    "    \n",
    "    print(old_file_name + '\\n' +  new_file_name + '\\n')\n",
    "\n",
    "    count_files = count_files + 1\n",
    "\n",
    "print('- '*30)\n",
    "print('Renamed ' + str(count_files) + ' files.\\n')"
   ]
  },
  {
   "cell_type": "markdown",
   "id": "5661a1f7",
   "metadata": {},
   "source": [
    "<a id=large-headers-ex-1></a>\n",
    "***\n",
    "### Exercise 2\n",
    "\n",
    "[**Go to the top ↑**](#top-page)\n",
    "\n",
    "<a href=\"\">\n",
    "  <img src=\"https://img.shields.io/badge/youtube-firebrick?style=for-the-badge&logo=youtube&logoColor=white\" alt=\"YouTube Badge\"/>\n",
    "</a>\n",
    "\n",
    "We want to accomplish:\n",
    "\n",
    "``Case-1-dataset-Hydrogen-run-1.csv`` $\\rightarrow$ ``Case-1-Hydrogen-run-1.csv``\n",
    "\n",
    "## Be careful! 🔥"
   ]
  },
  {
   "cell_type": "code",
   "execution_count": 43,
   "id": "634fca18",
   "metadata": {},
   "outputs": [],
   "source": [
    "directory = '../data/'"
   ]
  },
  {
   "cell_type": "code",
   "execution_count": 44,
   "id": "0389c59b",
   "metadata": {},
   "outputs": [],
   "source": [
    "files = [i for i in listdir(directory) if isfile(join(directory, i))]"
   ]
  },
  {
   "cell_type": "code",
   "execution_count": 45,
   "id": "e4dd33b7",
   "metadata": {},
   "outputs": [],
   "source": [
    "phrase_to_remove = 'dataset-'"
   ]
  },
  {
   "cell_type": "code",
   "execution_count": 46,
   "id": "9cf410f7",
   "metadata": {},
   "outputs": [
    {
     "name": "stdout",
     "output_type": "stream",
     "text": [
      "../data/Case-1-dataset-Hydrogen-run-1.csv\n",
      "../data/Case-1-Hydrogen-run-1.csv\n",
      "\n",
      "- - - - - - - - - - - - - - - - - - - - - - - - - - - - - - \n",
      "Renamed 1 files.\n",
      "\n"
     ]
    }
   ],
   "source": [
    "count_files = 0\n",
    "\n",
    "for file in files:\n",
    "\n",
    "    if file[0:4] == 'Case':\n",
    "        \n",
    "        res = re.search(phrase_to_remove, file)\n",
    "        \n",
    "        if res is not None:\n",
    "            \n",
    "            idx_start = res.start()\n",
    "            idx_end = res.end()\n",
    "\n",
    "            old_file_name = r'' + directory + file\n",
    "            new_file_name = r'' + directory + file[0:idx_start] + file[idx_end::]\n",
    "            \n",
    "            rename(old_file_name, new_file_name)\n",
    "            \n",
    "            print(old_file_name + '\\n' + new_file_name + '\\n')\n",
    "\n",
    "            count_files = count_files + 1\n",
    "\n",
    "print('- '*30)\n",
    "print('Renamed ' + str(count_files) + ' files.\\n')"
   ]
  },
  {
   "cell_type": "markdown",
   "id": "2e922c6d",
   "metadata": {},
   "source": [
    "***"
   ]
  }
 ],
 "metadata": {
  "kernelspec": {
   "display_name": "Python 3",
   "language": "python",
   "name": "python3"
  },
  "language_info": {
   "codemirror_mode": {
    "name": "ipython",
    "version": 3
   },
   "file_extension": ".py",
   "mimetype": "text/x-python",
   "name": "python",
   "nbconvert_exporter": "python",
   "pygments_lexer": "ipython3",
   "version": "3.7.6"
  }
 },
 "nbformat": 4,
 "nbformat_minor": 5
}
