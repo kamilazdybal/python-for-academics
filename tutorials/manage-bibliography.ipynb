{
 "cells": [
  {
   "cell_type": "markdown",
   "id": "c2c40fb6",
   "metadata": {},
   "source": [
    "# `Python for academics` : Managing your bibliography\n",
    "\n",
    "by **Kamila Zdybał**\n",
    "\n",
    "[`https://kamilazdybal.github.io`](https://kamilazdybal.github.io)"
   ]
  },
  {
   "cell_type": "markdown",
   "id": "8b7a2dc5",
   "metadata": {},
   "source": [
    "In this notebook, we explore various ways in which Python can help us manage bibliographic files, citations, and literature reviews."
   ]
  },
  {
   "cell_type": "markdown",
   "id": "e05f943d",
   "metadata": {},
   "source": [
    "<a id=top-page></a>\n",
    "***\n",
    "\n",
    "## Table of contents\n",
    "\n",
    "- [**Operations on `.bib` files**](#bib)\n",
    "    - [Exercise 1](#bib-ex-1)\n",
    "    - [Exercise 2](#bib-ex-2)\n",
    "    - [Exercise 3](#bib-ex-3)\n",
    "    - [Exercise 4](#bib-ex-4)\n",
    "    - [Exercise 5](#bib-ex-5)"
   ]
  },
  {
   "cell_type": "markdown",
   "id": "e3a97afb",
   "metadata": {},
   "source": [
    "<a id=bib></a>\n",
    "***\n",
    "\n",
    "## Operations on `.bib` files\n",
    "\n",
    "[**Go to the top ↑**](#top-page)"
   ]
  },
  {
   "cell_type": "markdown",
   "id": "df58fbc9",
   "metadata": {},
   "source": [
    "<a id=bib-ex-1></a>\n",
    "***\n",
    "### Exercise 1\n",
    "\n",
    "[**Go to the top ↑**](#top-page)\n",
    "\n",
    "<a href=\"https://youtu.be/6S-o_TRQMn4\">\n",
    "  <img src=\"https://img.shields.io/badge/youtube-firebrick?style=for-the-badge&logo=youtube&logoColor=white\" alt=\"YouTube Badge\"/>\n",
    "</a>\n",
    "\n",
    "We want to count how many bibliography items are included in the `.bib` file and get a detailed description of how many of each entry type we have.\n",
    "\n",
    "Given the `bibliography.bib` file, we want to accomplish:\n",
    "\n",
    "```\n",
    "Total bibliography items: 8\n",
    "- - - - - - - - - - - - - - - - - - - - \n",
    "           article: 4\n",
    "              book: 2\n",
    "           booklet: 0\n",
    "            inbook: 0\n",
    "      incollection: 0\n",
    "     inproceedings: 1\n",
    "            manual: 0\n",
    "     mastersthesis: 0\n",
    "              misc: 0\n",
    "         phdthesis: 1\n",
    "       proceedings: 0\n",
    "        techreport: 0\n",
    "       unpublished: 0\n",
    "- - - - - - - - - - - - - - - - - - - - \n",
    "```"
   ]
  },
  {
   "cell_type": "code",
   "execution_count": 1,
   "id": "3a5b1f74",
   "metadata": {},
   "outputs": [],
   "source": [
    "entry_types = ['article',\n",
    "               'book',\n",
    "               'booklet',\n",
    "               'inbook',\n",
    "               'incollection',\n",
    "               'inproceedings',\n",
    "               'manual',\n",
    "               'mastersthesis',\n",
    "               'misc',\n",
    "               'phdthesis',\n",
    "               'proceedings',\n",
    "               'techreport',\n",
    "               'unpublished']"
   ]
  },
  {
   "cell_type": "code",
   "execution_count": 2,
   "id": "0390560f",
   "metadata": {},
   "outputs": [],
   "source": [
    "import re"
   ]
  },
  {
   "cell_type": "code",
   "execution_count": 3,
   "id": "ff1dea0a",
   "metadata": {},
   "outputs": [],
   "source": [
    "directory = './'"
   ]
  },
  {
   "cell_type": "code",
   "execution_count": 4,
   "id": "e4610ccf",
   "metadata": {},
   "outputs": [],
   "source": [
    "filename = 'bibliography.bib'"
   ]
  },
  {
   "cell_type": "code",
   "execution_count": 5,
   "id": "4bfc8932",
   "metadata": {},
   "outputs": [],
   "source": [
    "file = open(directory + filename, 'r')"
   ]
  },
  {
   "cell_type": "code",
   "execution_count": 6,
   "id": "e6d052da",
   "metadata": {},
   "outputs": [],
   "source": [
    "file_content = file.read()"
   ]
  },
  {
   "cell_type": "code",
   "execution_count": 9,
   "id": "160d1619",
   "metadata": {},
   "outputs": [],
   "source": [
    "file_list = file_content.split('\\n')"
   ]
  },
  {
   "cell_type": "code",
   "execution_count": 14,
   "id": "381229e1",
   "metadata": {},
   "outputs": [],
   "source": [
    "count_entry_types = {}\n",
    "\n",
    "for i in entry_types:\n",
    "    count_entry_types[i] = 0\n",
    "    \n",
    "for item in file_list:\n",
    "    match = re.search(r'@(.*)\\{', item)\n",
    "    if match is not None:\n",
    "        \n",
    "        entry_type = match.group(1)\n",
    "        count_entry_types[entry_type] += 1"
   ]
  },
  {
   "cell_type": "code",
   "execution_count": 16,
   "id": "03afc06c",
   "metadata": {},
   "outputs": [],
   "source": [
    "n_items = sum(count_entry_types.values())"
   ]
  },
  {
   "cell_type": "code",
   "execution_count": 18,
   "id": "d33b6084",
   "metadata": {},
   "outputs": [],
   "source": [
    "file.close()"
   ]
  },
  {
   "cell_type": "code",
   "execution_count": 23,
   "id": "6fc5162e",
   "metadata": {},
   "outputs": [
    {
     "name": "stdout",
     "output_type": "stream",
     "text": [
      "Total bibliography items: 8\n",
      "- - - - - - - - - - - - - - - - - - - - \n",
      "           article: 4\n",
      "              book: 2\n",
      "           booklet: 0\n",
      "            inbook: 0\n",
      "      incollection: 0\n",
      "     inproceedings: 1\n",
      "            manual: 0\n",
      "     mastersthesis: 0\n",
      "              misc: 0\n",
      "         phdthesis: 1\n",
      "       proceedings: 0\n",
      "        techreport: 0\n",
      "       unpublished: 0\n",
      "- - - - - - - - - - - - - - - - - - - - \n"
     ]
    }
   ],
   "source": [
    "print('Total bibliography items: ' + str(n_items))\n",
    "print('- '*20)\n",
    "for entry_type, value in count_entry_types.items():\n",
    "    print('%20s%i' % (entry_type + ': ', value) )\n",
    "print('- '*20)"
   ]
  },
  {
   "cell_type": "markdown",
   "id": "23bd8a91",
   "metadata": {},
   "source": [
    "![Screenshot](../figures/managing-bibliography-exercise-1-regexp.png)\n",
    "\n",
    "![Screenshot](../figures/managing-bibliography-exercise-1-match.png)\n"
   ]
  },
  {
   "cell_type": "markdown",
   "id": "d1886e44",
   "metadata": {},
   "source": [
    "<a id=bib-ex-2></a>\n",
    "***\n",
    "### Exercise 2\n",
    "\n",
    "[**Go to the top ↑**](#top-page)\n",
    "\n",
    "<a href=\"\">\n",
    "  <img src=\"https://img.shields.io/badge/youtube-firebrick?style=for-the-badge&logo=youtube&logoColor=white\" alt=\"YouTube Badge\"/>\n",
    "</a>\n",
    "\n",
    "We want to list all tags to items from the `.bib` file.\n",
    "\n",
    "Given the `bibliography.bib` file, we want to accomplish:\n",
    "\n",
    "```text\n",
    "nilsson2007regression\n",
    "goodfellow2016deep\n",
    "lusch2018deep\n",
    "kobak2019art\n",
    "```"
   ]
  },
  {
   "cell_type": "code",
   "execution_count": null,
   "id": "e5bd7eef",
   "metadata": {},
   "outputs": [],
   "source": [
    "import re"
   ]
  },
  {
   "cell_type": "code",
   "execution_count": null,
   "id": "e4ab61e5",
   "metadata": {},
   "outputs": [],
   "source": [
    "directory = './'"
   ]
  },
  {
   "cell_type": "code",
   "execution_count": null,
   "id": "36579ef9",
   "metadata": {},
   "outputs": [],
   "source": [
    "filename = 'bibliography.bib'"
   ]
  },
  {
   "cell_type": "code",
   "execution_count": null,
   "id": "51eebb6b",
   "metadata": {},
   "outputs": [],
   "source": [
    "file = open(directory + filename, 'r+')\n",
    "file_content = file.read()\n",
    "file_list = file_content.split('\\n')"
   ]
  },
  {
   "cell_type": "code",
   "execution_count": null,
   "id": "9c3fbb31",
   "metadata": {},
   "outputs": [],
   "source": [
    "for item in file_list:\n",
    "    match = re.search(r'\\@.*?\\{(.*)\\,.*', item)\n",
    "    if match is not None:\n",
    "        tag = match.group(1)\n",
    "        print(tag)\n",
    "        \n",
    "file.close()"
   ]
  },
  {
   "cell_type": "markdown",
   "id": "884b2278",
   "metadata": {},
   "source": [
    "<a id=bib-ex-3></a>\n",
    "***\n",
    "### Exercise 3\n",
    "\n",
    "[**Go to the top ↑**](#top-page)\n",
    "\n",
    "<a href=\"\">\n",
    "  <img src=\"https://img.shields.io/badge/youtube-firebrick?style=for-the-badge&logo=youtube&logoColor=white\" alt=\"YouTube Badge\"/>\n",
    "</a>"
   ]
  },
  {
   "cell_type": "code",
   "execution_count": null,
   "id": "02574b6d",
   "metadata": {},
   "outputs": [],
   "source": [
    "import re"
   ]
  },
  {
   "cell_type": "code",
   "execution_count": null,
   "id": "d55c82a8",
   "metadata": {},
   "outputs": [],
   "source": [
    "directory = './'"
   ]
  },
  {
   "cell_type": "code",
   "execution_count": null,
   "id": "5008df38",
   "metadata": {},
   "outputs": [],
   "source": [
    "filename = 'bibliography.bib'"
   ]
  },
  {
   "cell_type": "code",
   "execution_count": null,
   "id": "413d0c5f",
   "metadata": {},
   "outputs": [],
   "source": [
    "file = open(directory + filename, 'r+')\n",
    "file_content = file.read()\n",
    "file_list = file_content.split('\\n')"
   ]
  },
  {
   "cell_type": "code",
   "execution_count": null,
   "id": "a71626aa",
   "metadata": {},
   "outputs": [],
   "source": [
    "tags_list = []\n",
    "\n",
    "for item in file_list:\n",
    "    match = re.search(r'\\@.*?\\{(.*)\\,.*', item)\n",
    "    if match is not None:\n",
    "        tag = match.group(1)\n",
    "        tags_list.append(tag)\n",
    "        \n",
    "file.close()"
   ]
  },
  {
   "cell_type": "code",
   "execution_count": null,
   "id": "fcb8bb3d",
   "metadata": {},
   "outputs": [],
   "source": [
    "if len(tags_list) != len(set(tags_list)):\n",
    "\n",
    "    duplicates = set([i for i in tags_list if tags_list.count(i) > 1])\n",
    "\n",
    "    print('Duplicate tags found: ' + str(len(duplicates)))\n",
    "    print('- '*20)\n",
    "    for item in sorted(duplicates):\n",
    "        print(item)\n",
    "    print('- '*20)\n",
    "\n",
    "else:\n",
    "\n",
    "    print('- '*20)\n",
    "    print('No duplicate tags found.')\n",
    "    print('- '*20)"
   ]
  },
  {
   "cell_type": "markdown",
   "id": "2d5e8174",
   "metadata": {},
   "source": [
    "<a id=bib-ex-4></a>\n",
    "***\n",
    "### Exercise 4\n",
    "\n",
    "[**Go to the top ↑**](#top-page)\n",
    "\n",
    "<a href=\"\">\n",
    "  <img src=\"https://img.shields.io/badge/youtube-firebrick?style=for-the-badge&logo=youtube&logoColor=white\" alt=\"YouTube Badge\"/>\n",
    "</a>\n",
    "\n",
    "We want to order items in the `.bib` file according to the year of publishing."
   ]
  },
  {
   "cell_type": "code",
   "execution_count": null,
   "id": "922f420f",
   "metadata": {},
   "outputs": [],
   "source": []
  },
  {
   "cell_type": "code",
   "execution_count": null,
   "id": "51381ed0",
   "metadata": {},
   "outputs": [],
   "source": []
  },
  {
   "cell_type": "code",
   "execution_count": null,
   "id": "d4fe10eb",
   "metadata": {},
   "outputs": [],
   "source": []
  },
  {
   "cell_type": "code",
   "execution_count": null,
   "id": "c7a4c707",
   "metadata": {},
   "outputs": [],
   "source": []
  },
  {
   "cell_type": "code",
   "execution_count": null,
   "id": "42a08baa",
   "metadata": {},
   "outputs": [],
   "source": []
  },
  {
   "cell_type": "code",
   "execution_count": null,
   "id": "1095c818",
   "metadata": {},
   "outputs": [],
   "source": []
  },
  {
   "cell_type": "code",
   "execution_count": null,
   "id": "b6a36833",
   "metadata": {},
   "outputs": [],
   "source": []
  },
  {
   "cell_type": "code",
   "execution_count": null,
   "id": "45009447",
   "metadata": {},
   "outputs": [],
   "source": []
  },
  {
   "cell_type": "code",
   "execution_count": null,
   "id": "d0ede615",
   "metadata": {},
   "outputs": [],
   "source": []
  },
  {
   "cell_type": "code",
   "execution_count": null,
   "id": "dddcb112",
   "metadata": {},
   "outputs": [],
   "source": []
  },
  {
   "cell_type": "code",
   "execution_count": null,
   "id": "712612f2",
   "metadata": {},
   "outputs": [],
   "source": []
  },
  {
   "cell_type": "code",
   "execution_count": null,
   "id": "b297e217",
   "metadata": {},
   "outputs": [],
   "source": []
  },
  {
   "cell_type": "code",
   "execution_count": null,
   "id": "4538b37e",
   "metadata": {},
   "outputs": [],
   "source": []
  },
  {
   "cell_type": "markdown",
   "id": "d4fe2ebd",
   "metadata": {},
   "source": [
    "<a id=bib-ex-5></a>\n",
    "***\n",
    "### Exercise 5\n",
    "\n",
    "[**Go to the top ↑**](#top-page)\n",
    "\n",
    "<a href=\"\">\n",
    "  <img src=\"https://img.shields.io/badge/youtube-firebrick?style=for-the-badge&logo=youtube&logoColor=white\" alt=\"YouTube Badge\"/>\n",
    "</a>"
   ]
  },
  {
   "cell_type": "code",
   "execution_count": null,
   "id": "ecfe8bc6",
   "metadata": {},
   "outputs": [],
   "source": []
  },
  {
   "cell_type": "code",
   "execution_count": null,
   "id": "df497da2",
   "metadata": {},
   "outputs": [],
   "source": []
  },
  {
   "cell_type": "code",
   "execution_count": null,
   "id": "1c9d8870",
   "metadata": {},
   "outputs": [],
   "source": []
  },
  {
   "cell_type": "code",
   "execution_count": null,
   "id": "aaf1bb23",
   "metadata": {},
   "outputs": [],
   "source": []
  },
  {
   "cell_type": "code",
   "execution_count": null,
   "id": "e8f2e571",
   "metadata": {},
   "outputs": [],
   "source": []
  },
  {
   "cell_type": "code",
   "execution_count": null,
   "id": "d970e88a",
   "metadata": {},
   "outputs": [],
   "source": []
  },
  {
   "cell_type": "code",
   "execution_count": null,
   "id": "6f5d891e",
   "metadata": {},
   "outputs": [],
   "source": []
  },
  {
   "cell_type": "code",
   "execution_count": null,
   "id": "051f6f24",
   "metadata": {},
   "outputs": [],
   "source": []
  },
  {
   "cell_type": "code",
   "execution_count": null,
   "id": "81b7a8bf",
   "metadata": {},
   "outputs": [],
   "source": []
  },
  {
   "cell_type": "code",
   "execution_count": null,
   "id": "51ee15f9",
   "metadata": {},
   "outputs": [],
   "source": []
  },
  {
   "cell_type": "code",
   "execution_count": null,
   "id": "9285483d",
   "metadata": {},
   "outputs": [],
   "source": []
  },
  {
   "cell_type": "code",
   "execution_count": null,
   "id": "5a9113ce",
   "metadata": {},
   "outputs": [],
   "source": []
  },
  {
   "cell_type": "code",
   "execution_count": null,
   "id": "88027882",
   "metadata": {},
   "outputs": [],
   "source": []
  },
  {
   "cell_type": "code",
   "execution_count": null,
   "id": "7d65e36b",
   "metadata": {},
   "outputs": [],
   "source": []
  },
  {
   "cell_type": "code",
   "execution_count": null,
   "id": "2815eb6e",
   "metadata": {},
   "outputs": [],
   "source": []
  },
  {
   "cell_type": "code",
   "execution_count": null,
   "id": "40cde4d0",
   "metadata": {},
   "outputs": [],
   "source": []
  },
  {
   "cell_type": "code",
   "execution_count": null,
   "id": "91710580",
   "metadata": {},
   "outputs": [],
   "source": [
    "field_types = ['address',\n",
    "               'annote',\n",
    "               'author',\n",
    "               'booktitle',\n",
    "               'chapter',\n",
    "               'crossref',\n",
    "               'edition',\n",
    "               'editor',\n",
    "               'howpublished',\n",
    "               'institution',\n",
    "               'journal',\n",
    "               'key',\n",
    "               'month',\n",
    "               'note',\n",
    "               'number',\n",
    "               'organization',\n",
    "               'pages',\n",
    "               'publisher',\n",
    "               'school',\n",
    "               'series',\n",
    "               'title',\n",
    "               'type',\n",
    "               'volume',\n",
    "               'year']"
   ]
  },
  {
   "cell_type": "markdown",
   "id": "d4005cb5",
   "metadata": {},
   "source": [
    "***"
   ]
  }
 ],
 "metadata": {
  "kernelspec": {
   "display_name": "Python 3",
   "language": "python",
   "name": "python3"
  },
  "language_info": {
   "codemirror_mode": {
    "name": "ipython",
    "version": 3
   },
   "file_extension": ".py",
   "mimetype": "text/x-python",
   "name": "python",
   "nbconvert_exporter": "python",
   "pygments_lexer": "ipython3",
   "version": "3.7.6"
  }
 },
 "nbformat": 4,
 "nbformat_minor": 5
}
