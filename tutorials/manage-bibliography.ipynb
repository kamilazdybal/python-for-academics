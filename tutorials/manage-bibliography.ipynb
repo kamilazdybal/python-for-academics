{
 "cells": [
  {
   "cell_type": "markdown",
   "id": "956cf0d3",
   "metadata": {},
   "source": [
    "# `Python for academics` : Managing your bibliography\n",
    "\n",
    "by **Kamila Zdybał**\n",
    "\n",
    "[`https://kamilazdybal.github.io`](https://kamilazdybal.github.io)"
   ]
  },
  {
   "cell_type": "markdown",
   "id": "fe8a52fc",
   "metadata": {},
   "source": [
    "In this notebook, we explore various ways in which Python can help us manage bibliographic files, citations, and literature reviews."
   ]
  },
  {
   "cell_type": "markdown",
   "id": "78930ac5",
   "metadata": {},
   "source": [
    "<a id=top-page></a>\n",
    "***\n",
    "\n",
    "## Table of contents\n",
    "\n",
    "- [**Operations on `.bib` files**](#bib)\n",
    "    - [Exercise 1](#bib-ex-1)\n",
    "    - [Exercise 2](#bib-ex-2)\n",
    "    - [Exercise 3](#bib-ex-3)\n",
    "    - [Exercise 4](#bib-ex-4)\n",
    "    - [Exercise 5](#bib-ex-5)\n",
    "    - [Exercise 6](#bib-ex-6)"
   ]
  },
  {
   "cell_type": "markdown",
   "id": "36e76bf9",
   "metadata": {},
   "source": [
    "<a id=bib></a>\n",
    "***\n",
    "\n",
    "## Operations on `.bib` files\n",
    "\n",
    "[**Go to the top ↑**](#top-page)"
   ]
  },
  {
   "cell_type": "markdown",
   "id": "372b2466",
   "metadata": {},
   "source": [
    "<a id=bib-ex-1></a>\n",
    "***\n",
    "### Exercise 1\n",
    "\n",
    "[**Go to the top ↑**](#top-page)\n",
    "\n",
    "<a href=\"https://youtu.be/6S-o_TRQMn4\">\n",
    "  <img src=\"https://img.shields.io/badge/youtube-firebrick?style=for-the-badge&logo=youtube&logoColor=white\" alt=\"YouTube Badge\"/>\n",
    "</a>\n",
    "\n",
    "We want to count how many bibliography items are included in the `.bib` file and get a detailed description of how many of each entry type we have.\n",
    "\n",
    "Given the `bibliography.bib` file, we want to accomplish:\n",
    "\n",
    "```\n",
    "Total bibliography items: 8\n",
    "- - - - - - - - - - - - - - - - - - - - \n",
    "           article: 4\n",
    "              book: 2\n",
    "           booklet: 0\n",
    "            inbook: 0\n",
    "      incollection: 0\n",
    "     inproceedings: 1\n",
    "            manual: 0\n",
    "     mastersthesis: 0\n",
    "              misc: 0\n",
    "         phdthesis: 1\n",
    "       proceedings: 0\n",
    "        techreport: 0\n",
    "       unpublished: 0\n",
    "- - - - - - - - - - - - - - - - - - - - \n",
    "```"
   ]
  },
  {
   "cell_type": "code",
   "execution_count": 1,
   "id": "96002250",
   "metadata": {},
   "outputs": [],
   "source": [
    "entry_types = ['article',\n",
    "               'book',\n",
    "               'booklet',\n",
    "               'inbook',\n",
    "               'incollection',\n",
    "               'inproceedings',\n",
    "               'manual',\n",
    "               'mastersthesis',\n",
    "               'misc',\n",
    "               'phdthesis',\n",
    "               'proceedings',\n",
    "               'techreport',\n",
    "               'unpublished']"
   ]
  },
  {
   "cell_type": "code",
   "execution_count": 2,
   "id": "9b81351f",
   "metadata": {},
   "outputs": [],
   "source": [
    "import re"
   ]
  },
  {
   "cell_type": "code",
   "execution_count": 3,
   "id": "e6ee4112",
   "metadata": {},
   "outputs": [],
   "source": [
    "directory = './'"
   ]
  },
  {
   "cell_type": "code",
   "execution_count": 4,
   "id": "4dbe338a",
   "metadata": {},
   "outputs": [],
   "source": [
    "filename = 'bibliography.bib'"
   ]
  },
  {
   "cell_type": "code",
   "execution_count": 5,
   "id": "7f3ce063",
   "metadata": {},
   "outputs": [],
   "source": [
    "file = open(directory + filename, 'r')"
   ]
  },
  {
   "cell_type": "code",
   "execution_count": 6,
   "id": "9a8ad080",
   "metadata": {},
   "outputs": [],
   "source": [
    "file_content = file.read()"
   ]
  },
  {
   "cell_type": "code",
   "execution_count": 7,
   "id": "5f7070f9",
   "metadata": {},
   "outputs": [],
   "source": [
    "file_list = file_content.split('\\n')"
   ]
  },
  {
   "cell_type": "code",
   "execution_count": 8,
   "id": "c0b84281",
   "metadata": {},
   "outputs": [],
   "source": [
    "count_entry_types = {}\n",
    "\n",
    "for i in entry_types:\n",
    "    count_entry_types[i] = 0\n",
    "    \n",
    "for item in file_list:\n",
    "    match = re.search(r'@(.*)\\{', item)\n",
    "    if match is not None:\n",
    "        \n",
    "        entry_type = match.group(1)\n",
    "        count_entry_types[entry_type] += 1"
   ]
  },
  {
   "cell_type": "markdown",
   "id": "776e9d72",
   "metadata": {},
   "source": [
    "<img src=\"../figures/managing-bibliography-exercise-1-regexp.png\" style=\"width:400px\">\n",
    "\n",
    "<img src=\"../figures/managing-bibliography-exercise-1-match.png\" style=\"width:600px\">"
   ]
  },
  {
   "cell_type": "code",
   "execution_count": 9,
   "id": "34f481b6",
   "metadata": {},
   "outputs": [],
   "source": [
    "n_items = sum(count_entry_types.values())"
   ]
  },
  {
   "cell_type": "code",
   "execution_count": 10,
   "id": "c233bf40",
   "metadata": {},
   "outputs": [],
   "source": [
    "file.close()"
   ]
  },
  {
   "cell_type": "code",
   "execution_count": 11,
   "id": "79a1b9fa",
   "metadata": {},
   "outputs": [
    {
     "name": "stdout",
     "output_type": "stream",
     "text": [
      "Total bibliography items: 9\n",
      "- - - - - - - - - - - - - - - - - - - - \n",
      "           article: 5\n",
      "              book: 2\n",
      "           booklet: 0\n",
      "            inbook: 0\n",
      "      incollection: 0\n",
      "     inproceedings: 1\n",
      "            manual: 0\n",
      "     mastersthesis: 0\n",
      "              misc: 0\n",
      "         phdthesis: 1\n",
      "       proceedings: 0\n",
      "        techreport: 0\n",
      "       unpublished: 0\n",
      "- - - - - - - - - - - - - - - - - - - - \n"
     ]
    }
   ],
   "source": [
    "print('Total bibliography items: ' + str(n_items))\n",
    "print('- '*20)\n",
    "for entry_type, value in count_entry_types.items():\n",
    "    print('%20s%i' % (entry_type + ': ', value) )\n",
    "print('- '*20)"
   ]
  },
  {
   "cell_type": "markdown",
   "id": "c026bd2d",
   "metadata": {},
   "source": [
    "<a id=bib-ex-2></a>\n",
    "***\n",
    "### Exercise 2\n",
    "\n",
    "[**Go to the top ↑**](#top-page)\n",
    "\n",
    "<a href=\"https://youtu.be/KgqliCnm9ek\">\n",
    "  <img src=\"https://img.shields.io/badge/youtube-firebrick?style=for-the-badge&logo=youtube&logoColor=white\" alt=\"YouTube Badge\"/>\n",
    "</a>\n",
    "\n",
    "We want to list all tags to items from the `.bib` file.\n",
    "\n",
    "Given the `bibliography.bib` file, we want to accomplish:\n",
    "\n",
    "```text\n",
    "breiman2001statistical\n",
    "lusch2018deep\n",
    "kobak2019art\n",
    "nilsson2007regression\n",
    "goodfellow2016deep\n",
    "zdybal2023dissertation\n",
    "breiman2001statistical\n",
    "goodfellow2016deep\n",
    "```"
   ]
  },
  {
   "cell_type": "code",
   "execution_count": 12,
   "id": "a754a56d",
   "metadata": {
    "tags": []
   },
   "outputs": [],
   "source": [
    "import re"
   ]
  },
  {
   "cell_type": "code",
   "execution_count": 13,
   "id": "6e04f02c",
   "metadata": {
    "tags": []
   },
   "outputs": [],
   "source": [
    "directory = './'"
   ]
  },
  {
   "cell_type": "code",
   "execution_count": 14,
   "id": "d01eed70",
   "metadata": {
    "tags": []
   },
   "outputs": [],
   "source": [
    "filename = 'bibliography.bib'"
   ]
  },
  {
   "cell_type": "code",
   "execution_count": 15,
   "id": "78432b0b",
   "metadata": {
    "tags": []
   },
   "outputs": [],
   "source": [
    "file = open(directory + filename, 'r')"
   ]
  },
  {
   "cell_type": "code",
   "execution_count": 16,
   "id": "9452318f",
   "metadata": {
    "tags": []
   },
   "outputs": [],
   "source": [
    "file_content = file.read()"
   ]
  },
  {
   "cell_type": "code",
   "execution_count": 17,
   "id": "ec21db63",
   "metadata": {
    "tags": []
   },
   "outputs": [],
   "source": [
    "file_list = file_content.split('\\n')"
   ]
  },
  {
   "cell_type": "code",
   "execution_count": 18,
   "id": "8e17ef4a",
   "metadata": {
    "tags": []
   },
   "outputs": [
    {
     "name": "stdout",
     "output_type": "stream",
     "text": [
      "\\cite{breiman2001statistical}\n",
      "\\cite{lusch2018deep}\n",
      "\\cite{kobak2019art}\n",
      "\\cite{kobak2019art}\n",
      "\\cite{nilsson2007regression}\n",
      "\\cite{goodfellow2016deep}\n",
      "\\cite{zdybal2023dissertation}\n",
      "\\cite{breiman2001statistical}\n",
      "\\cite{goodfellow2016deep}\n"
     ]
    }
   ],
   "source": [
    "for item in file_list:\n",
    "    \n",
    "    match = re.search(r'@.*\\{(.*),', item)\n",
    "    \n",
    "    if match is not None:\n",
    "        \n",
    "        tag = match.group(1)\n",
    "        print('\\cite{' + tag + '}')"
   ]
  },
  {
   "cell_type": "markdown",
   "id": "499cb64b",
   "metadata": {},
   "source": [
    "<img src=\"../figures/managing-bibliography-exercise-2-regexp.png\" style=\"width:400px\">\n",
    "\n",
    "<img src=\"../figures/managing-bibliography-exercise-2-match.png\" style=\"width:600px\">"
   ]
  },
  {
   "cell_type": "code",
   "execution_count": 19,
   "id": "6dcc953f",
   "metadata": {},
   "outputs": [],
   "source": [
    "file.close()"
   ]
  },
  {
   "cell_type": "markdown",
   "id": "17937dc3",
   "metadata": {},
   "source": [
    "<a id=bib-ex-3></a>\n",
    "***\n",
    "### Exercise 3\n",
    "\n",
    "[**Go to the top ↑**](#top-page)\n",
    "\n",
    "<a href=\"https://youtu.be/OBfpPYhHVhs\">\n",
    "  <img src=\"https://img.shields.io/badge/youtube-firebrick?style=for-the-badge&logo=youtube&logoColor=white\" alt=\"YouTube Badge\"/>\n",
    "</a>\n",
    "\n",
    "We want to list all tags that are present more than once in a `.bib` file.\n",
    "\n",
    "Given the `bibliography.bib` file, we want to accomplish:\n",
    "\n",
    "```text\n",
    "Duplicate tags found: 2\n",
    "- - - - - - - - - - - - - - - - - - - - \n",
    "breiman2001statistical\n",
    "goodfellow2016deep\n",
    "- - - - - - - - - - - - - - - - - - - - \n",
    "```"
   ]
  },
  {
   "cell_type": "code",
   "execution_count": 20,
   "id": "f50f5789",
   "metadata": {
    "tags": []
   },
   "outputs": [],
   "source": [
    "import re"
   ]
  },
  {
   "cell_type": "code",
   "execution_count": 21,
   "id": "62dc6cc0",
   "metadata": {
    "tags": []
   },
   "outputs": [],
   "source": [
    "directory = './'"
   ]
  },
  {
   "cell_type": "code",
   "execution_count": 22,
   "id": "32017a8c",
   "metadata": {
    "tags": []
   },
   "outputs": [],
   "source": [
    "filename = 'bibliography.bib'"
   ]
  },
  {
   "cell_type": "code",
   "execution_count": 23,
   "id": "77b17e3e",
   "metadata": {
    "tags": []
   },
   "outputs": [],
   "source": [
    "file = open(directory + filename, 'r')"
   ]
  },
  {
   "cell_type": "code",
   "execution_count": 24,
   "id": "28d8db76",
   "metadata": {
    "tags": []
   },
   "outputs": [],
   "source": [
    "file_content = file.read()"
   ]
  },
  {
   "cell_type": "code",
   "execution_count": 25,
   "id": "83b17401",
   "metadata": {
    "tags": []
   },
   "outputs": [],
   "source": [
    "file_list = file_content.split('\\n')"
   ]
  },
  {
   "cell_type": "code",
   "execution_count": 26,
   "id": "83f27f3a",
   "metadata": {
    "tags": []
   },
   "outputs": [],
   "source": [
    "tags_list = []\n",
    "\n",
    "for item in file_list:\n",
    "    \n",
    "    match = re.search(r'@.*\\{(.*),', item)\n",
    "    \n",
    "    if match is not None:\n",
    "        \n",
    "        tag = match.group(1)\n",
    "        tags_list.append(tag)"
   ]
  },
  {
   "cell_type": "code",
   "execution_count": 27,
   "id": "ee3d571f",
   "metadata": {
    "tags": []
   },
   "outputs": [],
   "source": [
    "file.close()"
   ]
  },
  {
   "cell_type": "code",
   "execution_count": 28,
   "id": "f59fee11",
   "metadata": {
    "tags": []
   },
   "outputs": [
    {
     "data": {
      "text/plain": [
       "['breiman2001statistical',\n",
       " 'lusch2018deep',\n",
       " 'kobak2019art',\n",
       " 'kobak2019art',\n",
       " 'nilsson2007regression',\n",
       " 'goodfellow2016deep',\n",
       " 'zdybal2023dissertation',\n",
       " 'breiman2001statistical',\n",
       " 'goodfellow2016deep']"
      ]
     },
     "execution_count": 28,
     "metadata": {},
     "output_type": "execute_result"
    }
   ],
   "source": [
    "tags_list"
   ]
  },
  {
   "cell_type": "code",
   "execution_count": 29,
   "id": "4760fb04",
   "metadata": {
    "tags": []
   },
   "outputs": [
    {
     "data": {
      "text/plain": [
       "{'breiman2001statistical',\n",
       " 'goodfellow2016deep',\n",
       " 'kobak2019art',\n",
       " 'lusch2018deep',\n",
       " 'nilsson2007regression',\n",
       " 'zdybal2023dissertation'}"
      ]
     },
     "execution_count": 29,
     "metadata": {},
     "output_type": "execute_result"
    }
   ],
   "source": [
    "set(tags_list)"
   ]
  },
  {
   "cell_type": "code",
   "execution_count": 30,
   "id": "d7b0d8b8",
   "metadata": {
    "tags": []
   },
   "outputs": [
    {
     "data": {
      "text/plain": [
       "2"
      ]
     },
     "execution_count": 30,
     "metadata": {},
     "output_type": "execute_result"
    }
   ],
   "source": [
    "tags_list.count('kobak2019art')"
   ]
  },
  {
   "cell_type": "code",
   "execution_count": 31,
   "id": "4269f19e",
   "metadata": {
    "tags": []
   },
   "outputs": [
    {
     "name": "stdout",
     "output_type": "stream",
     "text": [
      "Duplicate tags found: 3\n",
      "- - - - - - - - - - - - - - - - - - - - \n",
      "kobak2019art\n",
      "goodfellow2016deep\n",
      "breiman2001statistical\n",
      "- - - - - - - - - - - - - - - - - - - - \n"
     ]
    }
   ],
   "source": [
    "if len(tags_list) != len(set(tags_list)):\n",
    "    \n",
    "    duplicates = set([item for item in tags_list if tags_list.count(item) > 1])\n",
    " \n",
    "    print('Duplicate tags found: ' + str(len(duplicates)))\n",
    "    \n",
    "    print('- '*20)\n",
    "    for item in duplicates:\n",
    "        print(item)\n",
    "    print('- '*20)\n",
    "    \n",
    "else:\n",
    "    \n",
    "    print('No duplicates found.')"
   ]
  },
  {
   "cell_type": "markdown",
   "id": "20a4a1d9-7fb3-4c3b-b4c8-33ace4cc83f1",
   "metadata": {},
   "source": [
    "<a id=bib-ex-4></a>\n",
    "***\n",
    "### Exercise 4\n",
    "\n",
    "[**Go to the top ↑**](#top-page)\n",
    "\n",
    "<a href=\"https://youtu.be/JtSoU6dHtog\">\n",
    "  <img src=\"https://img.shields.io/badge/youtube-firebrick?style=for-the-badge&logo=youtube&logoColor=white\" alt=\"YouTube Badge\"/>\n",
    "</a>\n",
    "\n",
    "We would like to remove duplicate BibTeX items from the `.bib` file."
   ]
  },
  {
   "cell_type": "code",
   "execution_count": 32,
   "id": "cf63f671-93d0-4722-a16e-ace40bee5634",
   "metadata": {
    "tags": []
   },
   "outputs": [],
   "source": [
    "import re"
   ]
  },
  {
   "cell_type": "code",
   "execution_count": 33,
   "id": "e32f1fb3-8e19-47e2-a30a-59585112ee2b",
   "metadata": {
    "tags": []
   },
   "outputs": [],
   "source": [
    "directory = './'"
   ]
  },
  {
   "cell_type": "code",
   "execution_count": 34,
   "id": "f4b0b645-24e2-4d00-ae17-587e46c73df8",
   "metadata": {
    "tags": []
   },
   "outputs": [],
   "source": [
    "filename = 'bibliography.bib'"
   ]
  },
  {
   "cell_type": "code",
   "execution_count": 35,
   "id": "b409c012-9689-471a-b653-802dcf586957",
   "metadata": {
    "tags": []
   },
   "outputs": [],
   "source": [
    "file = open(directory + filename, 'r')"
   ]
  },
  {
   "cell_type": "code",
   "execution_count": 36,
   "id": "03e71a31-87c1-4e45-bcc4-3c0cc405a35b",
   "metadata": {
    "tags": []
   },
   "outputs": [],
   "source": [
    "file_content = file.read()"
   ]
  },
  {
   "cell_type": "code",
   "execution_count": 37,
   "id": "091b1658-b69d-4376-bf3d-1b4a612a99dd",
   "metadata": {
    "tags": []
   },
   "outputs": [],
   "source": [
    "file_list = file_content.split('\\n')"
   ]
  },
  {
   "cell_type": "code",
   "execution_count": 38,
   "id": "1eb80b48-2d3c-4321-845a-795eb74ffe6f",
   "metadata": {
    "tags": []
   },
   "outputs": [],
   "source": [
    "tags_list = []\n",
    "\n",
    "for item in file_list:\n",
    "    \n",
    "    match = re.search(r'@.*\\{(.*),', item)\n",
    "    \n",
    "    if match is not None:\n",
    "        \n",
    "        tag = match.group(1)\n",
    "        tags_list.append(tag)"
   ]
  },
  {
   "cell_type": "code",
   "execution_count": 39,
   "id": "ab075ee6-c0d5-497c-ba3e-182cd3dc963a",
   "metadata": {
    "tags": []
   },
   "outputs": [],
   "source": [
    "file.close()"
   ]
  },
  {
   "cell_type": "code",
   "execution_count": 40,
   "id": "b2e8b886-64b2-4f2c-9687-3851013bcf17",
   "metadata": {},
   "outputs": [
    {
     "data": {
      "text/plain": [
       "['breiman2001statistical',\n",
       " 'lusch2018deep',\n",
       " 'kobak2019art',\n",
       " 'kobak2019art',\n",
       " 'nilsson2007regression',\n",
       " 'goodfellow2016deep',\n",
       " 'zdybal2023dissertation',\n",
       " 'breiman2001statistical',\n",
       " 'goodfellow2016deep']"
      ]
     },
     "execution_count": 40,
     "metadata": {},
     "output_type": "execute_result"
    }
   ],
   "source": [
    "tags_list"
   ]
  },
  {
   "cell_type": "code",
   "execution_count": 41,
   "id": "b8d1e75c-9349-42f6-83f7-d050f0cc01e0",
   "metadata": {},
   "outputs": [],
   "source": [
    "unique_tags = list(set(tags_list))"
   ]
  },
  {
   "cell_type": "code",
   "execution_count": 42,
   "id": "ae9427da-9992-49bc-bc2c-d06c265a4c6c",
   "metadata": {},
   "outputs": [
    {
     "data": {
      "text/plain": [
       "['breiman2001statistical',\n",
       " 'kobak2019art',\n",
       " 'zdybal2023dissertation',\n",
       " 'lusch2018deep',\n",
       " 'nilsson2007regression',\n",
       " 'goodfellow2016deep']"
      ]
     },
     "execution_count": 42,
     "metadata": {},
     "output_type": "execute_result"
    }
   ],
   "source": [
    "unique_tags"
   ]
  },
  {
   "cell_type": "code",
   "execution_count": 43,
   "id": "9be43067-dff1-4cab-97e0-5c824818a42e",
   "metadata": {},
   "outputs": [],
   "source": [
    "bib_items = file_content.split('@')[1::]"
   ]
  },
  {
   "cell_type": "code",
   "execution_count": 44,
   "id": "7b5c2440-7bf3-4f9a-8106-c9db6ffc4bc3",
   "metadata": {},
   "outputs": [],
   "source": [
    "bib_items = ['@' + item for item in bib_items]"
   ]
  },
  {
   "cell_type": "code",
   "execution_count": 45,
   "id": "8b6a51eb-f398-486d-ae1b-a59be733cc5e",
   "metadata": {},
   "outputs": [
    {
     "name": "stdout",
     "output_type": "stream",
     "text": [
      "@article{lusch2018deep,\n",
      "  title={Deep learning for universal linear embeddings of nonlinear dynamics},\n",
      "  author={Lusch, B. and Kutz, J.N. and Brunton, S.L.},\n",
      "  journal={Nature Communications},\n",
      "  volume={9},\n",
      "  number={1},\n",
      "  pages={1--10},\n",
      "  year={2018},\n",
      "  publisher={Nature Publishing Group}\n",
      "}\n",
      "\n",
      "\n"
     ]
    }
   ],
   "source": [
    "print(bib_items[1])"
   ]
  },
  {
   "cell_type": "code",
   "execution_count": 46,
   "id": "47726616-0aa5-48bd-9fda-a97f213fb31c",
   "metadata": {},
   "outputs": [],
   "source": [
    "new_file = open(directory + 'unique-bibliography.bib', 'w')"
   ]
  },
  {
   "cell_type": "code",
   "execution_count": 47,
   "id": "c682092c-5eba-4b29-8d08-e543ad8eba55",
   "metadata": {},
   "outputs": [],
   "source": [
    "for item in bib_items:\n",
    "\n",
    "    match = re.search(r'@.*\\{(.*),', item)\n",
    "    \n",
    "    if match is not None:\n",
    "        \n",
    "        tag = match.group(1)\n",
    "\n",
    "    if tag in unique_tags:\n",
    "\n",
    "        new_file.write(item)\n",
    "        unique_tags.remove(tag)"
   ]
  },
  {
   "cell_type": "code",
   "execution_count": 48,
   "id": "6eb8e283-8144-42bf-beab-906a36176b5a",
   "metadata": {},
   "outputs": [],
   "source": [
    "new_file.close()"
   ]
  },
  {
   "cell_type": "markdown",
   "id": "d7f0643c",
   "metadata": {},
   "source": [
    "<a id=bib-ex-5></a>\n",
    "***\n",
    "### Exercise 5\n",
    "\n",
    "[**Go to the top ↑**](#top-page)\n",
    "\n",
    "<a href=\"\">\n",
    "  <img src=\"https://img.shields.io/badge/youtube-firebrick?style=for-the-badge&logo=youtube&logoColor=white\" alt=\"YouTube Badge\"/>\n",
    "</a>\n",
    "\n",
    "We want to order items in the `.bib` file according to the year of publishing."
   ]
  },
  {
   "cell_type": "code",
   "execution_count": null,
   "id": "a96acb26",
   "metadata": {},
   "outputs": [],
   "source": []
  },
  {
   "cell_type": "code",
   "execution_count": null,
   "id": "031d2960",
   "metadata": {},
   "outputs": [],
   "source": []
  },
  {
   "cell_type": "code",
   "execution_count": null,
   "id": "fd0d7b86",
   "metadata": {},
   "outputs": [],
   "source": []
  },
  {
   "cell_type": "code",
   "execution_count": null,
   "id": "4be59ca1",
   "metadata": {},
   "outputs": [],
   "source": []
  },
  {
   "cell_type": "code",
   "execution_count": null,
   "id": "715f9d79",
   "metadata": {},
   "outputs": [],
   "source": []
  },
  {
   "cell_type": "code",
   "execution_count": null,
   "id": "5c9f0225",
   "metadata": {},
   "outputs": [],
   "source": []
  },
  {
   "cell_type": "code",
   "execution_count": null,
   "id": "88bfbfff",
   "metadata": {},
   "outputs": [],
   "source": []
  },
  {
   "cell_type": "code",
   "execution_count": null,
   "id": "2a3266cd",
   "metadata": {},
   "outputs": [],
   "source": []
  },
  {
   "cell_type": "code",
   "execution_count": null,
   "id": "e5c3d9a9",
   "metadata": {},
   "outputs": [],
   "source": []
  },
  {
   "cell_type": "code",
   "execution_count": null,
   "id": "d4256091",
   "metadata": {},
   "outputs": [],
   "source": []
  },
  {
   "cell_type": "code",
   "execution_count": null,
   "id": "ba61ee0a",
   "metadata": {},
   "outputs": [],
   "source": []
  },
  {
   "cell_type": "code",
   "execution_count": null,
   "id": "eec8d258",
   "metadata": {},
   "outputs": [],
   "source": []
  },
  {
   "cell_type": "code",
   "execution_count": null,
   "id": "d90b8c14",
   "metadata": {},
   "outputs": [],
   "source": []
  },
  {
   "cell_type": "markdown",
   "id": "0e76c1a8",
   "metadata": {},
   "source": [
    "<a id=bib-ex-6></a>\n",
    "***\n",
    "### Exercise 6\n",
    "\n",
    "[**Go to the top ↑**](#top-page)\n",
    "\n",
    "<a href=\"\">\n",
    "  <img src=\"https://img.shields.io/badge/youtube-firebrick?style=for-the-badge&logo=youtube&logoColor=white\" alt=\"YouTube Badge\"/>\n",
    "</a>"
   ]
  },
  {
   "cell_type": "code",
   "execution_count": null,
   "id": "2b5811c5",
   "metadata": {},
   "outputs": [],
   "source": []
  },
  {
   "cell_type": "code",
   "execution_count": null,
   "id": "e76d3796",
   "metadata": {},
   "outputs": [],
   "source": []
  },
  {
   "cell_type": "code",
   "execution_count": null,
   "id": "76fa9b6b",
   "metadata": {},
   "outputs": [],
   "source": []
  },
  {
   "cell_type": "code",
   "execution_count": null,
   "id": "6f80be8b",
   "metadata": {},
   "outputs": [],
   "source": []
  },
  {
   "cell_type": "code",
   "execution_count": null,
   "id": "2808f94f",
   "metadata": {},
   "outputs": [],
   "source": []
  },
  {
   "cell_type": "code",
   "execution_count": null,
   "id": "490b5363",
   "metadata": {},
   "outputs": [],
   "source": []
  },
  {
   "cell_type": "code",
   "execution_count": null,
   "id": "94004cbe",
   "metadata": {},
   "outputs": [],
   "source": []
  },
  {
   "cell_type": "code",
   "execution_count": null,
   "id": "20042dfa",
   "metadata": {},
   "outputs": [],
   "source": []
  },
  {
   "cell_type": "code",
   "execution_count": null,
   "id": "06eec0b1",
   "metadata": {},
   "outputs": [],
   "source": []
  },
  {
   "cell_type": "code",
   "execution_count": null,
   "id": "f451b430",
   "metadata": {},
   "outputs": [],
   "source": []
  },
  {
   "cell_type": "code",
   "execution_count": null,
   "id": "1d153211",
   "metadata": {},
   "outputs": [],
   "source": []
  },
  {
   "cell_type": "code",
   "execution_count": null,
   "id": "03098613",
   "metadata": {},
   "outputs": [],
   "source": []
  },
  {
   "cell_type": "code",
   "execution_count": null,
   "id": "5dd0058c",
   "metadata": {},
   "outputs": [],
   "source": []
  },
  {
   "cell_type": "code",
   "execution_count": null,
   "id": "1c8e839c",
   "metadata": {},
   "outputs": [],
   "source": []
  },
  {
   "cell_type": "code",
   "execution_count": null,
   "id": "229062c9",
   "metadata": {},
   "outputs": [],
   "source": []
  },
  {
   "cell_type": "code",
   "execution_count": null,
   "id": "292c9a32",
   "metadata": {},
   "outputs": [],
   "source": []
  },
  {
   "cell_type": "code",
   "execution_count": null,
   "id": "fdd74fa5",
   "metadata": {},
   "outputs": [],
   "source": [
    "field_types = ['address',\n",
    "               'annote',\n",
    "               'author',\n",
    "               'booktitle',\n",
    "               'chapter',\n",
    "               'crossref',\n",
    "               'edition',\n",
    "               'editor',\n",
    "               'howpublished',\n",
    "               'institution',\n",
    "               'journal',\n",
    "               'key',\n",
    "               'month',\n",
    "               'note',\n",
    "               'number',\n",
    "               'organization',\n",
    "               'pages',\n",
    "               'publisher',\n",
    "               'school',\n",
    "               'series',\n",
    "               'title',\n",
    "               'type',\n",
    "               'volume',\n",
    "               'year']"
   ]
  },
  {
   "cell_type": "markdown",
   "id": "0c891764",
   "metadata": {},
   "source": [
    "***"
   ]
  }
 ],
 "metadata": {
  "kernelspec": {
   "display_name": "Python 3 (ipykernel)",
   "language": "python",
   "name": "python3"
  },
  "language_info": {
   "codemirror_mode": {
    "name": "ipython",
    "version": 3
   },
   "file_extension": ".py",
   "mimetype": "text/x-python",
   "name": "python",
   "nbconvert_exporter": "python",
   "pygments_lexer": "ipython3",
   "version": "3.10.12"
  }
 },
 "nbformat": 4,
 "nbformat_minor": 5
}
