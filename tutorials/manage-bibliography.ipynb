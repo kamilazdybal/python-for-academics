{
 "cells": [
  {
   "cell_type": "markdown",
   "id": "956cf0d3",
   "metadata": {},
   "source": [
    "# `Python for academics` : Managing your bibliography\n",
    "\n",
    "by **Kamila Zdybał**\n",
    "\n",
    "[`https://kamilazdybal.github.io`](https://kamilazdybal.github.io)"
   ]
  },
  {
   "cell_type": "markdown",
   "id": "fe8a52fc",
   "metadata": {},
   "source": [
    "In this notebook, we explore various ways in which Python can help us manage bibliographic files, citations, and literature reviews."
   ]
  },
  {
   "cell_type": "markdown",
   "id": "78930ac5",
   "metadata": {},
   "source": [
    "<a id=top-page></a>\n",
    "***\n",
    "\n",
    "## Table of contents\n",
    "\n",
    "- [**Operations on `.bib` files**](#bib)\n",
    "    - [Exercise 1](#bib-ex-1)\n",
    "    - [Exercise 2](#bib-ex-2)\n",
    "    - [Exercise 3](#bib-ex-3)\n",
    "    - [Exercise 4](#bib-ex-4)\n",
    "    - [Exercise 5](#bib-ex-5)\n",
    "    - [Exercise 6](#bib-ex-6)"
   ]
  },
  {
   "cell_type": "markdown",
   "id": "36e76bf9",
   "metadata": {},
   "source": [
    "<a id=bib></a>\n",
    "***\n",
    "\n",
    "## Operations on `.bib` files\n",
    "\n",
    "[**Go to the top ↑**](#top-page)"
   ]
  },
  {
   "cell_type": "markdown",
   "id": "372b2466",
   "metadata": {},
   "source": [
    "<a id=bib-ex-1></a>\n",
    "***\n",
    "### Exercise 1\n",
    "\n",
    "[**Go to the top ↑**](#top-page)\n",
    "\n",
    "<a href=\"https://youtu.be/6S-o_TRQMn4\">\n",
    "  <img src=\"https://img.shields.io/badge/youtube-firebrick?style=for-the-badge&logo=youtube&logoColor=white\" alt=\"YouTube Badge\"/>\n",
    "</a>\n",
    "\n",
    "We want to count how many bibliography items are included in the `.bib` file and get a detailed description of how many of each entry type we have.\n",
    "\n",
    "Given the `bibliography.bib` file, we want to accomplish:\n",
    "\n",
    "```\n",
    "Total bibliography items: 8\n",
    "- - - - - - - - - - - - - - - - - - - - \n",
    "           article: 4\n",
    "              book: 2\n",
    "           booklet: 0\n",
    "            inbook: 0\n",
    "      incollection: 0\n",
    "     inproceedings: 1\n",
    "            manual: 0\n",
    "     mastersthesis: 0\n",
    "              misc: 0\n",
    "         phdthesis: 1\n",
    "       proceedings: 0\n",
    "        techreport: 0\n",
    "       unpublished: 0\n",
    "- - - - - - - - - - - - - - - - - - - - \n",
    "```"
   ]
  },
  {
   "cell_type": "code",
   "execution_count": 1,
   "id": "96002250",
   "metadata": {},
   "outputs": [],
   "source": [
    "entry_types = ['article',\n",
    "               'book',\n",
    "               'booklet',\n",
    "               'inbook',\n",
    "               'incollection',\n",
    "               'inproceedings',\n",
    "               'manual',\n",
    "               'mastersthesis',\n",
    "               'misc',\n",
    "               'phdthesis',\n",
    "               'proceedings',\n",
    "               'techreport',\n",
    "               'unpublished']"
   ]
  },
  {
   "cell_type": "code",
   "execution_count": 2,
   "id": "9b81351f",
   "metadata": {},
   "outputs": [],
   "source": [
    "import re"
   ]
  },
  {
   "cell_type": "code",
   "execution_count": 3,
   "id": "e6ee4112",
   "metadata": {},
   "outputs": [],
   "source": [
    "directory = './'"
   ]
  },
  {
   "cell_type": "code",
   "execution_count": 4,
   "id": "4dbe338a",
   "metadata": {},
   "outputs": [],
   "source": [
    "filename = 'bibliography.bib'"
   ]
  },
  {
   "cell_type": "code",
   "execution_count": 5,
   "id": "7f3ce063",
   "metadata": {},
   "outputs": [],
   "source": [
    "file = open(directory + filename, 'r')"
   ]
  },
  {
   "cell_type": "code",
   "execution_count": 6,
   "id": "9a8ad080",
   "metadata": {},
   "outputs": [],
   "source": [
    "file_content = file.read()"
   ]
  },
  {
   "cell_type": "code",
   "execution_count": 7,
   "id": "5f7070f9",
   "metadata": {},
   "outputs": [],
   "source": [
    "file_list = file_content.split('\\n')"
   ]
  },
  {
   "cell_type": "code",
   "execution_count": 8,
   "id": "c0b84281",
   "metadata": {},
   "outputs": [],
   "source": [
    "count_entry_types = {}\n",
    "\n",
    "for i in entry_types:\n",
    "    count_entry_types[i] = 0\n",
    "    \n",
    "for item in file_list:\n",
    "    match = re.search(r'@(.*)\\{', item)\n",
    "    if match is not None:\n",
    "        \n",
    "        entry_type = match.group(1)\n",
    "        count_entry_types[entry_type] += 1"
   ]
  },
  {
   "cell_type": "markdown",
   "id": "776e9d72",
   "metadata": {},
   "source": [
    "<img src=\"../figures/managing-bibliography-exercise-1-regexp.png\" style=\"width:400px\">\n",
    "\n",
    "<img src=\"../figures/managing-bibliography-exercise-1-match.png\" style=\"width:600px\">"
   ]
  },
  {
   "cell_type": "code",
   "execution_count": 9,
   "id": "34f481b6",
   "metadata": {},
   "outputs": [],
   "source": [
    "n_items = sum(count_entry_types.values())"
   ]
  },
  {
   "cell_type": "code",
   "execution_count": 10,
   "id": "c233bf40",
   "metadata": {},
   "outputs": [],
   "source": [
    "file.close()"
   ]
  },
  {
   "cell_type": "code",
   "execution_count": 11,
   "id": "79a1b9fa",
   "metadata": {},
   "outputs": [
    {
     "name": "stdout",
     "output_type": "stream",
     "text": [
      "Total bibliography items: 9\n",
      "- - - - - - - - - - - - - - - - - - - - \n",
      "           article: 5\n",
      "              book: 2\n",
      "           booklet: 0\n",
      "            inbook: 0\n",
      "      incollection: 0\n",
      "     inproceedings: 1\n",
      "            manual: 0\n",
      "     mastersthesis: 0\n",
      "              misc: 0\n",
      "         phdthesis: 1\n",
      "       proceedings: 0\n",
      "        techreport: 0\n",
      "       unpublished: 0\n",
      "- - - - - - - - - - - - - - - - - - - - \n"
     ]
    }
   ],
   "source": [
    "print('Total bibliography items: ' + str(n_items))\n",
    "print('- '*20)\n",
    "for entry_type, value in count_entry_types.items():\n",
    "    print('%20s%i' % (entry_type + ': ', value) )\n",
    "print('- '*20)"
   ]
  },
  {
   "cell_type": "markdown",
   "id": "c026bd2d",
   "metadata": {},
   "source": [
    "<a id=bib-ex-2></a>\n",
    "***\n",
    "### Exercise 2\n",
    "\n",
    "[**Go to the top ↑**](#top-page)\n",
    "\n",
    "<a href=\"https://youtu.be/KgqliCnm9ek\">\n",
    "  <img src=\"https://img.shields.io/badge/youtube-firebrick?style=for-the-badge&logo=youtube&logoColor=white\" alt=\"YouTube Badge\"/>\n",
    "</a>\n",
    "\n",
    "We want to list all tags to items from the `.bib` file.\n",
    "\n",
    "Given the `bibliography.bib` file, we want to accomplish:\n",
    "\n",
    "```text\n",
    "breiman2001statistical\n",
    "lusch2018deep\n",
    "kobak2019art\n",
    "nilsson2007regression\n",
    "goodfellow2016deep\n",
    "zdybal2023dissertation\n",
    "breiman2001statistical\n",
    "goodfellow2016deep\n",
    "```"
   ]
  },
  {
   "cell_type": "code",
   "execution_count": 12,
   "id": "a754a56d",
   "metadata": {
    "tags": []
   },
   "outputs": [],
   "source": [
    "import re"
   ]
  },
  {
   "cell_type": "code",
   "execution_count": 13,
   "id": "6e04f02c",
   "metadata": {
    "tags": []
   },
   "outputs": [],
   "source": [
    "directory = './'"
   ]
  },
  {
   "cell_type": "code",
   "execution_count": 14,
   "id": "d01eed70",
   "metadata": {
    "tags": []
   },
   "outputs": [],
   "source": [
    "filename = 'bibliography.bib'"
   ]
  },
  {
   "cell_type": "code",
   "execution_count": 15,
   "id": "78432b0b",
   "metadata": {
    "tags": []
   },
   "outputs": [],
   "source": [
    "file = open(directory + filename, 'r')"
   ]
  },
  {
   "cell_type": "code",
   "execution_count": 16,
   "id": "9452318f",
   "metadata": {
    "tags": []
   },
   "outputs": [],
   "source": [
    "file_content = file.read()"
   ]
  },
  {
   "cell_type": "code",
   "execution_count": 17,
   "id": "ec21db63",
   "metadata": {
    "tags": []
   },
   "outputs": [],
   "source": [
    "file_list = file_content.split('\\n')"
   ]
  },
  {
   "cell_type": "code",
   "execution_count": 18,
   "id": "8e17ef4a",
   "metadata": {
    "tags": []
   },
   "outputs": [
    {
     "name": "stdout",
     "output_type": "stream",
     "text": [
      "\\cite{breiman2001statistical}\n",
      "\\cite{lusch2018deep}\n",
      "\\cite{kobak2019art}\n",
      "\\cite{kobak2019art}\n",
      "\\cite{nilsson2007regression}\n",
      "\\cite{goodfellow2016deep}\n",
      "\\cite{zdybal2023dissertation}\n",
      "\\cite{breiman2001statistical}\n",
      "\\cite{goodfellow2016deep}\n"
     ]
    }
   ],
   "source": [
    "for item in file_list:\n",
    "    \n",
    "    match = re.search(r'@.*\\{(.*),', item)\n",
    "    \n",
    "    if match is not None:\n",
    "        \n",
    "        tag = match.group(1)\n",
    "        print('\\cite{' + tag + '}')"
   ]
  },
  {
   "cell_type": "markdown",
   "id": "499cb64b",
   "metadata": {},
   "source": [
    "<img src=\"../figures/managing-bibliography-exercise-2-regexp.png\" style=\"width:400px\">\n",
    "\n",
    "<img src=\"../figures/managing-bibliography-exercise-2-match.png\" style=\"width:600px\">"
   ]
  },
  {
   "cell_type": "code",
   "execution_count": 19,
   "id": "6dcc953f",
   "metadata": {},
   "outputs": [],
   "source": [
    "file.close()"
   ]
  },
  {
   "cell_type": "markdown",
   "id": "17937dc3",
   "metadata": {},
   "source": [
    "<a id=bib-ex-3></a>\n",
    "***\n",
    "### Exercise 3\n",
    "\n",
    "[**Go to the top ↑**](#top-page)\n",
    "\n",
    "<a href=\"https://youtu.be/OBfpPYhHVhs\">\n",
    "  <img src=\"https://img.shields.io/badge/youtube-firebrick?style=for-the-badge&logo=youtube&logoColor=white\" alt=\"YouTube Badge\"/>\n",
    "</a>\n",
    "\n",
    "We want to list all tags that are present more than once in a `.bib` file.\n",
    "\n",
    "Given the `bibliography.bib` file, we want to accomplish:\n",
    "\n",
    "```text\n",
    "Duplicate tags found: 2\n",
    "- - - - - - - - - - - - - - - - - - - - \n",
    "breiman2001statistical\n",
    "goodfellow2016deep\n",
    "- - - - - - - - - - - - - - - - - - - - \n",
    "```"
   ]
  },
  {
   "cell_type": "code",
   "execution_count": 20,
   "id": "f50f5789",
   "metadata": {
    "tags": []
   },
   "outputs": [],
   "source": [
    "import re"
   ]
  },
  {
   "cell_type": "code",
   "execution_count": 21,
   "id": "62dc6cc0",
   "metadata": {
    "tags": []
   },
   "outputs": [],
   "source": [
    "directory = './'"
   ]
  },
  {
   "cell_type": "code",
   "execution_count": 22,
   "id": "32017a8c",
   "metadata": {
    "tags": []
   },
   "outputs": [],
   "source": [
    "filename = 'bibliography.bib'"
   ]
  },
  {
   "cell_type": "code",
   "execution_count": 23,
   "id": "77b17e3e",
   "metadata": {
    "tags": []
   },
   "outputs": [],
   "source": [
    "file = open(directory + filename, 'r')"
   ]
  },
  {
   "cell_type": "code",
   "execution_count": 24,
   "id": "28d8db76",
   "metadata": {
    "tags": []
   },
   "outputs": [],
   "source": [
    "file_content = file.read()"
   ]
  },
  {
   "cell_type": "code",
   "execution_count": 25,
   "id": "83b17401",
   "metadata": {
    "tags": []
   },
   "outputs": [],
   "source": [
    "file_list = file_content.split('\\n')"
   ]
  },
  {
   "cell_type": "code",
   "execution_count": 26,
   "id": "83f27f3a",
   "metadata": {
    "tags": []
   },
   "outputs": [],
   "source": [
    "tags_list = []\n",
    "\n",
    "for item in file_list:\n",
    "    \n",
    "    match = re.search(r'@.*\\{(.*),', item)\n",
    "    \n",
    "    if match is not None:\n",
    "        \n",
    "        tag = match.group(1)\n",
    "        tags_list.append(tag)"
   ]
  },
  {
   "cell_type": "code",
   "execution_count": 27,
   "id": "ee3d571f",
   "metadata": {
    "tags": []
   },
   "outputs": [],
   "source": [
    "file.close()"
   ]
  },
  {
   "cell_type": "code",
   "execution_count": 28,
   "id": "f59fee11",
   "metadata": {
    "tags": []
   },
   "outputs": [
    {
     "data": {
      "text/plain": [
       "['breiman2001statistical',\n",
       " 'lusch2018deep',\n",
       " 'kobak2019art',\n",
       " 'kobak2019art',\n",
       " 'nilsson2007regression',\n",
       " 'goodfellow2016deep',\n",
       " 'zdybal2023dissertation',\n",
       " 'breiman2001statistical',\n",
       " 'goodfellow2016deep']"
      ]
     },
     "execution_count": 28,
     "metadata": {},
     "output_type": "execute_result"
    }
   ],
   "source": [
    "tags_list"
   ]
  },
  {
   "cell_type": "code",
   "execution_count": 29,
   "id": "4760fb04",
   "metadata": {
    "tags": []
   },
   "outputs": [
    {
     "data": {
      "text/plain": [
       "{'breiman2001statistical',\n",
       " 'goodfellow2016deep',\n",
       " 'kobak2019art',\n",
       " 'lusch2018deep',\n",
       " 'nilsson2007regression',\n",
       " 'zdybal2023dissertation'}"
      ]
     },
     "execution_count": 29,
     "metadata": {},
     "output_type": "execute_result"
    }
   ],
   "source": [
    "set(tags_list)"
   ]
  },
  {
   "cell_type": "code",
   "execution_count": 30,
   "id": "d7b0d8b8",
   "metadata": {
    "tags": []
   },
   "outputs": [
    {
     "data": {
      "text/plain": [
       "2"
      ]
     },
     "execution_count": 30,
     "metadata": {},
     "output_type": "execute_result"
    }
   ],
   "source": [
    "tags_list.count('kobak2019art')"
   ]
  },
  {
   "cell_type": "code",
   "execution_count": 31,
   "id": "4269f19e",
   "metadata": {
    "tags": []
   },
   "outputs": [
    {
     "name": "stdout",
     "output_type": "stream",
     "text": [
      "Duplicate tags found: 3\n",
      "- - - - - - - - - - - - - - - - - - - - \n",
      "kobak2019art\n",
      "goodfellow2016deep\n",
      "breiman2001statistical\n",
      "- - - - - - - - - - - - - - - - - - - - \n"
     ]
    }
   ],
   "source": [
    "if len(tags_list) != len(set(tags_list)):\n",
    "    \n",
    "    duplicates = set([item for item in tags_list if tags_list.count(item) > 1])\n",
    " \n",
    "    print('Duplicate tags found: ' + str(len(duplicates)))\n",
    "    \n",
    "    print('- '*20)\n",
    "    for item in duplicates:\n",
    "        print(item)\n",
    "    print('- '*20)\n",
    "    \n",
    "else:\n",
    "    \n",
    "    print('No duplicates found.')"
   ]
  },
  {
   "cell_type": "markdown",
   "id": "20a4a1d9-7fb3-4c3b-b4c8-33ace4cc83f1",
   "metadata": {},
   "source": [
    "<a id=bib-ex-4></a>\n",
    "***\n",
    "### Exercise 4\n",
    "\n",
    "[**Go to the top ↑**](#top-page)\n",
    "\n",
    "<a href=\"https://youtu.be/JtSoU6dHtog\">\n",
    "  <img src=\"https://img.shields.io/badge/youtube-firebrick?style=for-the-badge&logo=youtube&logoColor=white\" alt=\"YouTube Badge\"/>\n",
    "</a>\n",
    "\n",
    "We would like to remove duplicate BibTeX items from the `.bib` file."
   ]
  },
  {
   "cell_type": "code",
   "execution_count": 32,
   "id": "cf63f671-93d0-4722-a16e-ace40bee5634",
   "metadata": {
    "tags": []
   },
   "outputs": [],
   "source": [
    "import re"
   ]
  },
  {
   "cell_type": "code",
   "execution_count": 33,
   "id": "e32f1fb3-8e19-47e2-a30a-59585112ee2b",
   "metadata": {
    "tags": []
   },
   "outputs": [],
   "source": [
    "directory = './'"
   ]
  },
  {
   "cell_type": "code",
   "execution_count": 34,
   "id": "f4b0b645-24e2-4d00-ae17-587e46c73df8",
   "metadata": {
    "tags": []
   },
   "outputs": [],
   "source": [
    "filename = 'bibliography.bib'"
   ]
  },
  {
   "cell_type": "code",
   "execution_count": 35,
   "id": "b409c012-9689-471a-b653-802dcf586957",
   "metadata": {
    "tags": []
   },
   "outputs": [],
   "source": [
    "file = open(directory + filename, 'r')"
   ]
  },
  {
   "cell_type": "code",
   "execution_count": 36,
   "id": "03e71a31-87c1-4e45-bcc4-3c0cc405a35b",
   "metadata": {
    "tags": []
   },
   "outputs": [],
   "source": [
    "file_content = file.read()"
   ]
  },
  {
   "cell_type": "code",
   "execution_count": 37,
   "id": "091b1658-b69d-4376-bf3d-1b4a612a99dd",
   "metadata": {
    "tags": []
   },
   "outputs": [],
   "source": [
    "file_list = file_content.split('\\n')"
   ]
  },
  {
   "cell_type": "code",
   "execution_count": 38,
   "id": "1eb80b48-2d3c-4321-845a-795eb74ffe6f",
   "metadata": {
    "tags": []
   },
   "outputs": [],
   "source": [
    "tags_list = []\n",
    "\n",
    "for item in file_list:\n",
    "    \n",
    "    match = re.search(r'@.*\\{(.*),', item)\n",
    "    \n",
    "    if match is not None:\n",
    "        \n",
    "        tag = match.group(1)\n",
    "        tags_list.append(tag)"
   ]
  },
  {
   "cell_type": "code",
   "execution_count": 39,
   "id": "ab075ee6-c0d5-497c-ba3e-182cd3dc963a",
   "metadata": {
    "tags": []
   },
   "outputs": [],
   "source": [
    "file.close()"
   ]
  },
  {
   "cell_type": "code",
   "execution_count": 40,
   "id": "b2e8b886-64b2-4f2c-9687-3851013bcf17",
   "metadata": {},
   "outputs": [
    {
     "data": {
      "text/plain": [
       "['breiman2001statistical',\n",
       " 'lusch2018deep',\n",
       " 'kobak2019art',\n",
       " 'kobak2019art',\n",
       " 'nilsson2007regression',\n",
       " 'goodfellow2016deep',\n",
       " 'zdybal2023dissertation',\n",
       " 'breiman2001statistical',\n",
       " 'goodfellow2016deep']"
      ]
     },
     "execution_count": 40,
     "metadata": {},
     "output_type": "execute_result"
    }
   ],
   "source": [
    "tags_list"
   ]
  },
  {
   "cell_type": "code",
   "execution_count": 41,
   "id": "b8d1e75c-9349-42f6-83f7-d050f0cc01e0",
   "metadata": {},
   "outputs": [],
   "source": [
    "unique_tags = list(set(tags_list))"
   ]
  },
  {
   "cell_type": "code",
   "execution_count": 42,
   "id": "ae9427da-9992-49bc-bc2c-d06c265a4c6c",
   "metadata": {},
   "outputs": [
    {
     "data": {
      "text/plain": [
       "['lusch2018deep',\n",
       " 'kobak2019art',\n",
       " 'breiman2001statistical',\n",
       " 'zdybal2023dissertation',\n",
       " 'nilsson2007regression',\n",
       " 'goodfellow2016deep']"
      ]
     },
     "execution_count": 42,
     "metadata": {},
     "output_type": "execute_result"
    }
   ],
   "source": [
    "unique_tags"
   ]
  },
  {
   "cell_type": "code",
   "execution_count": 43,
   "id": "9be43067-dff1-4cab-97e0-5c824818a42e",
   "metadata": {},
   "outputs": [],
   "source": [
    "bib_items = file_content.split('@')[1::]"
   ]
  },
  {
   "cell_type": "code",
   "execution_count": 44,
   "id": "7b5c2440-7bf3-4f9a-8106-c9db6ffc4bc3",
   "metadata": {},
   "outputs": [],
   "source": [
    "bib_items = ['@' + item for item in bib_items]"
   ]
  },
  {
   "cell_type": "code",
   "execution_count": 45,
   "id": "8b6a51eb-f398-486d-ae1b-a59be733cc5e",
   "metadata": {},
   "outputs": [
    {
     "name": "stdout",
     "output_type": "stream",
     "text": [
      "@article{lusch2018deep,\n",
      "  title={Deep learning for universal linear embeddings of nonlinear dynamics},\n",
      "  author={Lusch, B. and Kutz, J.N. and Brunton, S.L.},\n",
      "  journal={Nature Communications},\n",
      "  volume={9},\n",
      "  number={1},\n",
      "  pages={1--10},\n",
      "  year={2018},\n",
      "  publisher={Nature Publishing Group}\n",
      "}\n",
      "\n",
      "\n"
     ]
    }
   ],
   "source": [
    "print(bib_items[1])"
   ]
  },
  {
   "cell_type": "code",
   "execution_count": 46,
   "id": "47726616-0aa5-48bd-9fda-a97f213fb31c",
   "metadata": {},
   "outputs": [],
   "source": [
    "new_file = open(directory + 'unique-bibliography.bib', 'w')"
   ]
  },
  {
   "cell_type": "code",
   "execution_count": 47,
   "id": "c682092c-5eba-4b29-8d08-e543ad8eba55",
   "metadata": {},
   "outputs": [],
   "source": [
    "for item in bib_items:\n",
    "\n",
    "    match = re.search(r'@.*\\{(.*),', item)\n",
    "    \n",
    "    if match is not None:\n",
    "        \n",
    "        tag = match.group(1)\n",
    "\n",
    "    if tag in unique_tags:\n",
    "\n",
    "        new_file.write(item)\n",
    "        unique_tags.remove(tag)"
   ]
  },
  {
   "cell_type": "code",
   "execution_count": 48,
   "id": "6eb8e283-8144-42bf-beab-906a36176b5a",
   "metadata": {},
   "outputs": [],
   "source": [
    "new_file.close()"
   ]
  },
  {
   "cell_type": "markdown",
   "id": "d7f0643c",
   "metadata": {},
   "source": [
    "<a id=bib-ex-5></a>\n",
    "***\n",
    "### Exercise 5\n",
    "\n",
    "[**Go to the top ↑**](#top-page)\n",
    "\n",
    "<a href=\"\">\n",
    "  <img src=\"https://img.shields.io/badge/youtube-firebrick?style=for-the-badge&logo=youtube&logoColor=white\" alt=\"YouTube Badge\"/>\n",
    "</a>\n",
    "\n",
    "We want to count how many times each BibTeX item from the `.bib` file has been cited in the LaTeX source file.\n",
    "\n",
    "We assume that citations inside the LaTeX source file can be made through\n",
    "\n",
    "```tex\n",
    "\\cite{}\n",
    "```\n",
    "\n",
    "or\n",
    "\n",
    "```tex\n",
    "\\citep{}\n",
    "```\n",
    "\n",
    "When ``\\citep{}`` is used, multiple, comma-separated tags can be present inside.\n",
    "\n",
    "We also need to account for cases when additional whitespace surrounds the tag to the BibTeX item, e.g.:\n",
    "\n",
    "```tex\n",
    "\\cite{ author2024}\n",
    "```\n",
    "\n",
    "or\n",
    "\n",
    "```tex\n",
    "\\citep{author2024,  author2024,author2024 }\n",
    "```"
   ]
  },
  {
   "cell_type": "code",
   "execution_count": 49,
   "id": "b9232443-ab8a-4c35-a7fb-40dcdf45821c",
   "metadata": {
    "tags": []
   },
   "outputs": [],
   "source": [
    "import re"
   ]
  },
  {
   "cell_type": "code",
   "execution_count": 50,
   "id": "d4df977e-3455-410b-8238-6c1ea0867933",
   "metadata": {
    "tags": []
   },
   "outputs": [],
   "source": [
    "directory = './'"
   ]
  },
  {
   "cell_type": "code",
   "execution_count": 51,
   "id": "427e0048-9bf7-4eb1-b94f-e7ad57df09b5",
   "metadata": {},
   "outputs": [],
   "source": [
    "filename = 'unique-bibliography.bib'"
   ]
  },
  {
   "cell_type": "code",
   "execution_count": 52,
   "id": "e3b4610e-9a46-453d-8333-45f8ab402935",
   "metadata": {
    "tags": []
   },
   "outputs": [],
   "source": [
    "file = open(directory + filename, 'r')"
   ]
  },
  {
   "cell_type": "code",
   "execution_count": 53,
   "id": "d598c521-e75e-4c8e-bda4-371780fccfdf",
   "metadata": {
    "tags": []
   },
   "outputs": [],
   "source": [
    "file_content = file.read()"
   ]
  },
  {
   "cell_type": "code",
   "execution_count": 54,
   "id": "a54a0603-e6f0-401f-ad6f-a1459186092d",
   "metadata": {
    "tags": []
   },
   "outputs": [],
   "source": [
    "file_list = file_content.split('\\n')"
   ]
  },
  {
   "cell_type": "code",
   "execution_count": 55,
   "id": "b44828e5-009c-4144-8cb0-fba53a3bfa87",
   "metadata": {
    "tags": []
   },
   "outputs": [],
   "source": [
    "tags_list = []\n",
    "\n",
    "for item in file_list:\n",
    "    \n",
    "    match = re.search(r'@.*\\{(.*),', item)\n",
    "    \n",
    "    if match is not None:\n",
    "        \n",
    "        tag = match.group(1)\n",
    "        tags_list.append(tag)"
   ]
  },
  {
   "cell_type": "code",
   "execution_count": 56,
   "id": "a0c7a06f-4d46-421f-a4f6-fa5ffcd7e1c6",
   "metadata": {
    "tags": []
   },
   "outputs": [],
   "source": [
    "file.close()"
   ]
  },
  {
   "cell_type": "code",
   "execution_count": 57,
   "id": "60a5afc8-70ba-4d57-8166-2a4e0b159c3f",
   "metadata": {},
   "outputs": [
    {
     "data": {
      "text/plain": [
       "['breiman2001statistical',\n",
       " 'lusch2018deep',\n",
       " 'kobak2019art',\n",
       " 'nilsson2007regression',\n",
       " 'goodfellow2016deep',\n",
       " 'zdybal2023dissertation']"
      ]
     },
     "execution_count": 57,
     "metadata": {},
     "output_type": "execute_result"
    }
   ],
   "source": [
    "tags_list"
   ]
  },
  {
   "cell_type": "code",
   "execution_count": 58,
   "id": "d2e6a1ee-4759-4fa8-acfa-5c8e6bed3384",
   "metadata": {},
   "outputs": [],
   "source": [
    "latex_source_file = open(directory + 'latex-source.tex', 'r').read()"
   ]
  },
  {
   "cell_type": "code",
   "execution_count": 59,
   "id": "3665996e-773f-4f45-8e76-ae7d57919488",
   "metadata": {},
   "outputs": [],
   "source": [
    "citation_pattern = re.compile(r'\\\\cite[p]*\\{([^\\}]*)\\}')"
   ]
  },
  {
   "cell_type": "markdown",
   "id": "8741361e-6533-4053-89d7-700d32aca25d",
   "metadata": {},
   "source": [
    "<img src=\"../figures/managing-bibliography-exercise-5-regexp.png\" style=\"width:500px\">\n"
   ]
  },
  {
   "cell_type": "code",
   "execution_count": 60,
   "id": "a422af0b-cd5e-4136-bf6d-c771f61c1f1a",
   "metadata": {},
   "outputs": [
    {
     "data": {
      "text/plain": [
       "['breiman2001statistical',\n",
       " ' breiman2001statistical,  lusch2018deep',\n",
       " '  kobak2019art',\n",
       " 'kobak2019art,lusch2018deep',\n",
       " 'nilsson2007regression',\n",
       " ' zdybal2023dissertation',\n",
       " 'kobak2019art,lusch2018deep, zdybal2023dissertation']"
      ]
     },
     "execution_count": 60,
     "metadata": {},
     "output_type": "execute_result"
    }
   ],
   "source": [
    "re.findall(citation_pattern, latex_source_file)"
   ]
  },
  {
   "cell_type": "code",
   "execution_count": 61,
   "id": "0b573e17-b81e-48dd-976e-ab9545c8def5",
   "metadata": {},
   "outputs": [
    {
     "name": "stdout",
     "output_type": "stream",
     "text": [
      "breiman2001statistical\n",
      "breiman2001statistical\n",
      "lusch2018deep\n",
      "kobak2019art\n",
      "kobak2019art\n",
      "lusch2018deep\n",
      "nilsson2007regression\n",
      "zdybal2023dissertation\n",
      "kobak2019art\n",
      "lusch2018deep\n",
      "zdybal2023dissertation\n"
     ]
    }
   ],
   "source": [
    "citations = []\n",
    "\n",
    "for match in re.findall(citation_pattern, latex_source_file):\n",
    "\n",
    "    for tag in match.split(','):\n",
    "\n",
    "        citation = tag.strip()\n",
    "\n",
    "        print(citation)\n",
    "        citations.append(citation)"
   ]
  },
  {
   "cell_type": "code",
   "execution_count": 62,
   "id": "c33fdea4-4166-452e-beee-8da1c25d0a18",
   "metadata": {},
   "outputs": [],
   "source": [
    "citations_dictionary = {}\n",
    "\n",
    "for tag in tags_list:\n",
    "    citations_dictionary[tag] = citations.count(tag)"
   ]
  },
  {
   "cell_type": "code",
   "execution_count": 63,
   "id": "03bac5d5-5e0d-4902-8d47-b17eff31f7ad",
   "metadata": {},
   "outputs": [
    {
     "data": {
      "text/plain": [
       "{'breiman2001statistical': 2,\n",
       " 'lusch2018deep': 3,\n",
       " 'kobak2019art': 3,\n",
       " 'nilsson2007regression': 1,\n",
       " 'goodfellow2016deep': 0,\n",
       " 'zdybal2023dissertation': 2}"
      ]
     },
     "execution_count": 63,
     "metadata": {},
     "output_type": "execute_result"
    }
   ],
   "source": [
    "citations_dictionary"
   ]
  },
  {
   "cell_type": "code",
   "execution_count": 64,
   "id": "29cc1d33-e05c-4afb-9d63-0997ec84d251",
   "metadata": {},
   "outputs": [],
   "source": [
    "sorted_citations_dictionary = {key: value for key, value in sorted(citations_dictionary.items(), key=lambda item: item[1], reverse=True)}"
   ]
  },
  {
   "cell_type": "code",
   "execution_count": 65,
   "id": "969e9ee2-51b6-4798-b304-e5da87769a61",
   "metadata": {},
   "outputs": [
    {
     "name": "stdout",
     "output_type": "stream",
     "text": [
      "                    lusch2018deep: 3\n",
      "                     kobak2019art: 3\n",
      "           breiman2001statistical: 2\n",
      "           zdybal2023dissertation: 2\n",
      "            nilsson2007regression: 1\n",
      "               goodfellow2016deep: 0\n"
     ]
    }
   ],
   "source": [
    "for item, value in sorted_citations_dictionary.items():\n",
    "    print('%35s%i' % (item + ': ', value))"
   ]
  },
  {
   "cell_type": "code",
   "execution_count": null,
   "id": "d062e935-65c2-4c02-8178-99b6976e1b90",
   "metadata": {},
   "outputs": [],
   "source": []
  },
  {
   "cell_type": "code",
   "execution_count": null,
   "id": "d6d77558-8313-441d-bc2b-d8bb930fa8da",
   "metadata": {},
   "outputs": [],
   "source": []
  },
  {
   "cell_type": "code",
   "execution_count": null,
   "id": "a2fb08cc-4a4f-4314-a2ce-273f055883b1",
   "metadata": {},
   "outputs": [],
   "source": []
  },
  {
   "cell_type": "code",
   "execution_count": null,
   "id": "c8b2a255-f6b7-4666-9f64-45772f4f7475",
   "metadata": {},
   "outputs": [],
   "source": []
  },
  {
   "cell_type": "code",
   "execution_count": null,
   "id": "1584d394-6e56-4d7f-9e8e-fd630e39a2c0",
   "metadata": {},
   "outputs": [],
   "source": []
  },
  {
   "cell_type": "code",
   "execution_count": null,
   "id": "7d24cdbc-c0cc-4773-bfdc-aad482aede0e",
   "metadata": {},
   "outputs": [],
   "source": []
  },
  {
   "cell_type": "code",
   "execution_count": null,
   "id": "17a937cf-06b7-4d4d-99a4-638305a1a3fb",
   "metadata": {},
   "outputs": [],
   "source": []
  },
  {
   "cell_type": "code",
   "execution_count": null,
   "id": "c0c5d813-7b26-4a83-a63b-cc6af5ec0198",
   "metadata": {},
   "outputs": [],
   "source": []
  },
  {
   "cell_type": "code",
   "execution_count": null,
   "id": "74002da7-62de-4896-bd90-c9699617f70b",
   "metadata": {},
   "outputs": [],
   "source": []
  },
  {
   "cell_type": "code",
   "execution_count": null,
   "id": "4353fbbc-ac2a-44b1-8fde-06cce006b05d",
   "metadata": {},
   "outputs": [],
   "source": []
  },
  {
   "cell_type": "code",
   "execution_count": null,
   "id": "82536dd3-eff6-4f40-8650-7ce11f97d488",
   "metadata": {},
   "outputs": [],
   "source": []
  },
  {
   "cell_type": "code",
   "execution_count": null,
   "id": "810d9ea0-38c0-4ee2-a39e-350a1dc98b18",
   "metadata": {},
   "outputs": [],
   "source": []
  },
  {
   "cell_type": "code",
   "execution_count": null,
   "id": "cf99489b-4d85-436c-8267-1be0a7bb79a6",
   "metadata": {},
   "outputs": [],
   "source": []
  },
  {
   "cell_type": "code",
   "execution_count": null,
   "id": "92178e97-e7c7-4224-81e6-10ea1b61c750",
   "metadata": {},
   "outputs": [],
   "source": []
  },
  {
   "cell_type": "code",
   "execution_count": null,
   "id": "a1b89466-f528-4b97-bd72-42630ad72410",
   "metadata": {},
   "outputs": [],
   "source": []
  },
  {
   "cell_type": "code",
   "execution_count": null,
   "id": "df520949-44d9-45d5-9c49-b2294580a6e1",
   "metadata": {},
   "outputs": [],
   "source": []
  },
  {
   "cell_type": "code",
   "execution_count": null,
   "id": "1270fcdb-08f3-42c3-84fe-676034969c85",
   "metadata": {},
   "outputs": [],
   "source": []
  },
  {
   "cell_type": "code",
   "execution_count": null,
   "id": "1012acff-9605-4fb5-b6a3-90d0fb03364c",
   "metadata": {},
   "outputs": [],
   "source": []
  },
  {
   "cell_type": "code",
   "execution_count": null,
   "id": "3f5b0fab-a4f9-4972-96f2-b68f70d3da14",
   "metadata": {},
   "outputs": [],
   "source": []
  },
  {
   "cell_type": "code",
   "execution_count": null,
   "id": "bfe9a116-2bf2-44bb-b2fa-7bf003756b6c",
   "metadata": {},
   "outputs": [],
   "source": []
  },
  {
   "cell_type": "code",
   "execution_count": null,
   "id": "2ca2b65c-b895-4f89-a81b-db9f1c07ff7f",
   "metadata": {},
   "outputs": [],
   "source": []
  },
  {
   "cell_type": "code",
   "execution_count": null,
   "id": "84bcb466-c525-4f7b-94f0-bd5f39ac0267",
   "metadata": {},
   "outputs": [],
   "source": []
  },
  {
   "cell_type": "code",
   "execution_count": null,
   "id": "cf50635a-5f0d-4584-9129-22e6d8317b06",
   "metadata": {},
   "outputs": [],
   "source": []
  },
  {
   "cell_type": "code",
   "execution_count": null,
   "id": "15c0efa1-fc44-4d92-9039-2939817d13a5",
   "metadata": {},
   "outputs": [],
   "source": []
  },
  {
   "cell_type": "code",
   "execution_count": null,
   "id": "36c8cae1-73ad-4124-a801-f01e211e30ad",
   "metadata": {},
   "outputs": [],
   "source": []
  },
  {
   "cell_type": "code",
   "execution_count": null,
   "id": "efabf88a-c1da-4e6f-b25e-2c9df8ebd2d4",
   "metadata": {},
   "outputs": [],
   "source": []
  },
  {
   "cell_type": "code",
   "execution_count": null,
   "id": "dbeb678b-0996-4c60-8c87-60b7213687e6",
   "metadata": {},
   "outputs": [],
   "source": []
  },
  {
   "cell_type": "code",
   "execution_count": null,
   "id": "799ce5d4-5e06-4db6-ac94-302e473c5a13",
   "metadata": {},
   "outputs": [],
   "source": []
  },
  {
   "cell_type": "code",
   "execution_count": null,
   "id": "6fd04a7e-168e-472b-b242-78be2b12f6f0",
   "metadata": {},
   "outputs": [],
   "source": []
  },
  {
   "cell_type": "code",
   "execution_count": null,
   "id": "b95fb67d-e013-4024-b386-d2f40bdeaa9d",
   "metadata": {},
   "outputs": [],
   "source": []
  },
  {
   "cell_type": "code",
   "execution_count": null,
   "id": "35b5b204-a63c-4755-bb9c-f5ffac593bb4",
   "metadata": {},
   "outputs": [],
   "source": []
  },
  {
   "cell_type": "code",
   "execution_count": null,
   "id": "cb9af0c6-0967-4cdb-aef6-037efa8b3bfa",
   "metadata": {},
   "outputs": [],
   "source": []
  },
  {
   "cell_type": "code",
   "execution_count": null,
   "id": "931845fd-df92-47b1-aab3-21c9ee8d0ca3",
   "metadata": {},
   "outputs": [],
   "source": []
  },
  {
   "cell_type": "code",
   "execution_count": null,
   "id": "ed0e13ee-d87c-4521-901b-256a859a4ff4",
   "metadata": {},
   "outputs": [],
   "source": []
  },
  {
   "cell_type": "markdown",
   "id": "0e76c1a8",
   "metadata": {},
   "source": [
    "<a id=bib-ex-6></a>\n",
    "***\n",
    "### Exercise 6\n",
    "\n",
    "[**Go to the top ↑**](#top-page)\n",
    "\n",
    "<a href=\"\">\n",
    "  <img src=\"https://img.shields.io/badge/youtube-firebrick?style=for-the-badge&logo=youtube&logoColor=white\" alt=\"YouTube Badge\"/>\n",
    "</a>\n",
    "\n",
    "We want to order items in the `.bib` file according to the year of publishing."
   ]
  },
  {
   "cell_type": "code",
   "execution_count": null,
   "id": "2b5811c5",
   "metadata": {},
   "outputs": [],
   "source": []
  },
  {
   "cell_type": "code",
   "execution_count": null,
   "id": "e76d3796",
   "metadata": {},
   "outputs": [],
   "source": []
  },
  {
   "cell_type": "code",
   "execution_count": null,
   "id": "76fa9b6b",
   "metadata": {},
   "outputs": [],
   "source": []
  },
  {
   "cell_type": "code",
   "execution_count": null,
   "id": "6f80be8b",
   "metadata": {},
   "outputs": [],
   "source": []
  },
  {
   "cell_type": "code",
   "execution_count": null,
   "id": "2808f94f",
   "metadata": {},
   "outputs": [],
   "source": []
  },
  {
   "cell_type": "code",
   "execution_count": null,
   "id": "490b5363",
   "metadata": {},
   "outputs": [],
   "source": []
  },
  {
   "cell_type": "code",
   "execution_count": null,
   "id": "94004cbe",
   "metadata": {},
   "outputs": [],
   "source": []
  },
  {
   "cell_type": "code",
   "execution_count": null,
   "id": "20042dfa",
   "metadata": {},
   "outputs": [],
   "source": []
  },
  {
   "cell_type": "code",
   "execution_count": null,
   "id": "06eec0b1",
   "metadata": {},
   "outputs": [],
   "source": []
  },
  {
   "cell_type": "code",
   "execution_count": null,
   "id": "f451b430",
   "metadata": {},
   "outputs": [],
   "source": []
  },
  {
   "cell_type": "code",
   "execution_count": null,
   "id": "1d153211",
   "metadata": {},
   "outputs": [],
   "source": []
  },
  {
   "cell_type": "code",
   "execution_count": null,
   "id": "03098613",
   "metadata": {},
   "outputs": [],
   "source": []
  },
  {
   "cell_type": "code",
   "execution_count": null,
   "id": "5dd0058c",
   "metadata": {},
   "outputs": [],
   "source": []
  },
  {
   "cell_type": "code",
   "execution_count": null,
   "id": "1c8e839c",
   "metadata": {},
   "outputs": [],
   "source": []
  },
  {
   "cell_type": "code",
   "execution_count": null,
   "id": "229062c9",
   "metadata": {},
   "outputs": [],
   "source": []
  },
  {
   "cell_type": "code",
   "execution_count": null,
   "id": "292c9a32",
   "metadata": {},
   "outputs": [],
   "source": []
  },
  {
   "cell_type": "code",
   "execution_count": 66,
   "id": "fdd74fa5",
   "metadata": {},
   "outputs": [],
   "source": [
    "field_types = ['address',\n",
    "               'annote',\n",
    "               'author',\n",
    "               'booktitle',\n",
    "               'chapter',\n",
    "               'crossref',\n",
    "               'edition',\n",
    "               'editor',\n",
    "               'howpublished',\n",
    "               'institution',\n",
    "               'journal',\n",
    "               'key',\n",
    "               'month',\n",
    "               'note',\n",
    "               'number',\n",
    "               'organization',\n",
    "               'pages',\n",
    "               'publisher',\n",
    "               'school',\n",
    "               'series',\n",
    "               'title',\n",
    "               'type',\n",
    "               'volume',\n",
    "               'year']"
   ]
  },
  {
   "cell_type": "markdown",
   "id": "0c891764",
   "metadata": {},
   "source": [
    "***"
   ]
  }
 ],
 "metadata": {
  "kernelspec": {
   "display_name": "Python 3 (ipykernel)",
   "language": "python",
   "name": "python3"
  },
  "language_info": {
   "codemirror_mode": {
    "name": "ipython",
    "version": 3
   },
   "file_extension": ".py",
   "mimetype": "text/x-python",
   "name": "python",
   "nbconvert_exporter": "python",
   "pygments_lexer": "ipython3",
   "version": "3.10.13"
  }
 },
 "nbformat": 4,
 "nbformat_minor": 5
}
