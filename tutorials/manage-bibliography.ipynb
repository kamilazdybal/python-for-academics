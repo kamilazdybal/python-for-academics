{
 "cells": [
  {
   "cell_type": "markdown",
   "id": "1775c5b6",
   "metadata": {},
   "source": [
    "# `Python for academics` : Managing your bibliography\n",
    "\n",
    "by **Kamila Zdybał**\n",
    "\n",
    "[`https://kamilazdybal.github.io`](https://kamilazdybal.github.io)"
   ]
  },
  {
   "cell_type": "markdown",
   "id": "4fc43608",
   "metadata": {},
   "source": [
    "In this notebook, we explore various ways in which Python can help us manage bibliographic files, citations, and literature reviews."
   ]
  },
  {
   "cell_type": "markdown",
   "id": "50f8fe68",
   "metadata": {},
   "source": [
    "<a id=top-page></a>\n",
    "***\n",
    "\n",
    "## Table of contents\n",
    "\n",
    "- [**Operations on `.bib` files**](#bib)\n",
    "    - [Exercise 1](#bib-ex-1)\n",
    "    - [Exercise 2](#bib-ex-2)\n",
    "    - [Exercise 3](#bib-ex-3)"
   ]
  },
  {
   "cell_type": "markdown",
   "id": "42113d4e",
   "metadata": {},
   "source": [
    "<a id=bib></a>\n",
    "***\n",
    "\n",
    "## Operations on `.bib` files\n",
    "\n",
    "[**Go to the top ↑**](#top-page)"
   ]
  },
  {
   "cell_type": "code",
   "execution_count": 1,
   "id": "4f068a78",
   "metadata": {},
   "outputs": [],
   "source": [
    "entry_types = ['article',\n",
    "               'book',\n",
    "               'booklet',\n",
    "               'inbook',\n",
    "               'incollection',\n",
    "               'inproceedings',\n",
    "               'manual',\n",
    "               'mastersthesis',\n",
    "               'misc',\n",
    "               'phdthesis',\n",
    "               'proceedings',\n",
    "               'techreport',\n",
    "               'unpublished']"
   ]
  },
  {
   "cell_type": "code",
   "execution_count": 2,
   "id": "4b3400e3",
   "metadata": {},
   "outputs": [],
   "source": [
    "field_types = ['address',\n",
    "               'annote',\n",
    "               'author',\n",
    "               'booktitle',\n",
    "               'chapter',\n",
    "               'crossref',\n",
    "               'edition',\n",
    "               'editor',\n",
    "               'howpublished',\n",
    "               'institution',\n",
    "               'journal',\n",
    "               'key',\n",
    "               'month',\n",
    "               'note',\n",
    "               'number',\n",
    "               'organization',\n",
    "               'pages',\n",
    "               'publisher',\n",
    "               'school',\n",
    "               'series',\n",
    "               'title',\n",
    "               'type',\n",
    "               'volume',\n",
    "               'year']"
   ]
  },
  {
   "cell_type": "markdown",
   "id": "8ea60d46",
   "metadata": {},
   "source": [
    "<a id=bib-ex-1></a>\n",
    "***\n",
    "### Exercise 1\n",
    "\n",
    "[**Go to the top ↑**](#top-page)\n",
    "\n",
    "<a href=\"\">\n",
    "  <img src=\"https://img.shields.io/badge/youtube-firebrick?style=for-the-badge&logo=youtube&logoColor=white\" alt=\"YouTube Badge\"/>\n",
    "</a>\n",
    "\n",
    "We want to count how many bibliography items are included in the `.bib` file and get a detailed description of how many of each entry type we have."
   ]
  },
  {
   "cell_type": "code",
   "execution_count": 3,
   "id": "d074c246",
   "metadata": {},
   "outputs": [],
   "source": [
    "import re"
   ]
  },
  {
   "cell_type": "code",
   "execution_count": 4,
   "id": "dc2e939a",
   "metadata": {},
   "outputs": [],
   "source": [
    "directory = './'"
   ]
  },
  {
   "cell_type": "code",
   "execution_count": 5,
   "id": "755b655a",
   "metadata": {},
   "outputs": [],
   "source": [
    "filename = 'bibliography.bib'"
   ]
  },
  {
   "cell_type": "code",
   "execution_count": 6,
   "id": "258720a8",
   "metadata": {},
   "outputs": [],
   "source": [
    "file = open(directory + filename, 'r+')\n",
    "file_content = file.read()\n",
    "file_list = file_content.split('\\n')"
   ]
  },
  {
   "cell_type": "code",
   "execution_count": 7,
   "id": "16661a1e",
   "metadata": {},
   "outputs": [],
   "source": [
    "n_entry_types = {}\n",
    "for i in entry_types:\n",
    "    n_entry_types[i] = 0"
   ]
  },
  {
   "cell_type": "code",
   "execution_count": 8,
   "id": "144147ef",
   "metadata": {},
   "outputs": [],
   "source": [
    "n_items = 0\n",
    "\n",
    "for item in file_list:\n",
    "    if len(item) != 0:\n",
    "        if item[0] == '@':\n",
    "            n_items += 1\n",
    "            match = re.search(r'.*?\\@(.*){.*', item)\n",
    "            entry_type = match.group(1)   \n",
    "            n_entry_types[entry_type] += 1"
   ]
  },
  {
   "cell_type": "code",
   "execution_count": 9,
   "id": "ca216cec",
   "metadata": {},
   "outputs": [
    {
     "name": "stdout",
     "output_type": "stream",
     "text": [
      "Total bibliography items: 4\n",
      "- - - - - - - - - - - - - - - - - - - - \n",
      "      article:\t2   \n",
      "         book:\t1   \n",
      "      booklet:\t0   \n",
      "       inbook:\t0   \n",
      " incollection:\t0   \n",
      "inproceedings:\t1   \n",
      "       manual:\t0   \n",
      "mastersthesis:\t0   \n",
      "         misc:\t0   \n",
      "    phdthesis:\t0   \n",
      "  proceedings:\t0   \n",
      "   techreport:\t0   \n",
      "  unpublished:\t0   \n",
      "- - - - - - - - - - - - - - - - - - - - \n"
     ]
    }
   ],
   "source": [
    "print('Total bibliography items: ' + str(n_items))\n",
    "print('- '*20)\n",
    "for entry_type, i in n_entry_types.items():\n",
    "    print('%15s%-4i' % (entry_type + ':\\t', i))\n",
    "print('- '*20)"
   ]
  },
  {
   "cell_type": "markdown",
   "id": "f86ff32d",
   "metadata": {},
   "source": [
    "<a id=bib-ex-2></a>\n",
    "***\n",
    "### Exercise 2\n",
    "\n",
    "[**Go to the top ↑**](#top-page)\n",
    "\n",
    "<a href=\"\">\n",
    "  <img src=\"https://img.shields.io/badge/youtube-firebrick?style=for-the-badge&logo=youtube&logoColor=white\" alt=\"YouTube Badge\"/>\n",
    "</a>"
   ]
  },
  {
   "cell_type": "code",
   "execution_count": null,
   "id": "31b3c1ff",
   "metadata": {},
   "outputs": [],
   "source": []
  },
  {
   "cell_type": "code",
   "execution_count": null,
   "id": "42013efb",
   "metadata": {},
   "outputs": [],
   "source": []
  },
  {
   "cell_type": "code",
   "execution_count": null,
   "id": "e6b1609c",
   "metadata": {},
   "outputs": [],
   "source": []
  },
  {
   "cell_type": "code",
   "execution_count": null,
   "id": "5cedea85",
   "metadata": {},
   "outputs": [],
   "source": []
  },
  {
   "cell_type": "code",
   "execution_count": null,
   "id": "51efc3b5",
   "metadata": {},
   "outputs": [],
   "source": []
  },
  {
   "cell_type": "code",
   "execution_count": null,
   "id": "f443619e",
   "metadata": {},
   "outputs": [],
   "source": []
  },
  {
   "cell_type": "code",
   "execution_count": null,
   "id": "8f4c3711",
   "metadata": {},
   "outputs": [],
   "source": []
  },
  {
   "cell_type": "code",
   "execution_count": null,
   "id": "a35d0917",
   "metadata": {},
   "outputs": [],
   "source": []
  },
  {
   "cell_type": "code",
   "execution_count": null,
   "id": "a4e14050",
   "metadata": {},
   "outputs": [],
   "source": []
  },
  {
   "cell_type": "code",
   "execution_count": null,
   "id": "f66d40cc",
   "metadata": {},
   "outputs": [],
   "source": []
  },
  {
   "cell_type": "code",
   "execution_count": null,
   "id": "a2285137",
   "metadata": {},
   "outputs": [],
   "source": []
  },
  {
   "cell_type": "code",
   "execution_count": null,
   "id": "1cefd8e4",
   "metadata": {},
   "outputs": [],
   "source": []
  },
  {
   "cell_type": "code",
   "execution_count": null,
   "id": "65508687",
   "metadata": {},
   "outputs": [],
   "source": []
  },
  {
   "cell_type": "code",
   "execution_count": null,
   "id": "cbc420b7",
   "metadata": {},
   "outputs": [],
   "source": []
  },
  {
   "cell_type": "code",
   "execution_count": null,
   "id": "cf2c6b27",
   "metadata": {},
   "outputs": [],
   "source": []
  },
  {
   "cell_type": "code",
   "execution_count": null,
   "id": "1490f8b0",
   "metadata": {},
   "outputs": [],
   "source": []
  },
  {
   "cell_type": "code",
   "execution_count": null,
   "id": "a0506cc0",
   "metadata": {},
   "outputs": [],
   "source": []
  },
  {
   "cell_type": "markdown",
   "id": "9e21f0c2",
   "metadata": {},
   "source": [
    "<a id=bib-ex-3></a>\n",
    "***\n",
    "### Exercise 3\n",
    "\n",
    "[**Go to the top ↑**](#top-page)\n",
    "\n",
    "<a href=\"\">\n",
    "  <img src=\"https://img.shields.io/badge/youtube-firebrick?style=for-the-badge&logo=youtube&logoColor=white\" alt=\"YouTube Badge\"/>\n",
    "</a>"
   ]
  },
  {
   "cell_type": "code",
   "execution_count": null,
   "id": "92689cf8",
   "metadata": {},
   "outputs": [],
   "source": []
  },
  {
   "cell_type": "code",
   "execution_count": null,
   "id": "5e0c3edb",
   "metadata": {},
   "outputs": [],
   "source": []
  },
  {
   "cell_type": "code",
   "execution_count": null,
   "id": "9def412e",
   "metadata": {},
   "outputs": [],
   "source": []
  },
  {
   "cell_type": "code",
   "execution_count": null,
   "id": "16e90cb1",
   "metadata": {},
   "outputs": [],
   "source": []
  },
  {
   "cell_type": "code",
   "execution_count": null,
   "id": "97d73ec8",
   "metadata": {},
   "outputs": [],
   "source": []
  },
  {
   "cell_type": "code",
   "execution_count": null,
   "id": "95a410bd",
   "metadata": {},
   "outputs": [],
   "source": []
  },
  {
   "cell_type": "code",
   "execution_count": null,
   "id": "87bbad92",
   "metadata": {},
   "outputs": [],
   "source": []
  },
  {
   "cell_type": "code",
   "execution_count": null,
   "id": "f252130b",
   "metadata": {},
   "outputs": [],
   "source": []
  },
  {
   "cell_type": "code",
   "execution_count": null,
   "id": "20cad470",
   "metadata": {},
   "outputs": [],
   "source": []
  },
  {
   "cell_type": "code",
   "execution_count": null,
   "id": "0b74e17d",
   "metadata": {},
   "outputs": [],
   "source": []
  },
  {
   "cell_type": "code",
   "execution_count": null,
   "id": "718bd539",
   "metadata": {},
   "outputs": [],
   "source": []
  },
  {
   "cell_type": "code",
   "execution_count": null,
   "id": "c336a2ee",
   "metadata": {},
   "outputs": [],
   "source": []
  },
  {
   "cell_type": "code",
   "execution_count": null,
   "id": "dc060ffb",
   "metadata": {},
   "outputs": [],
   "source": []
  },
  {
   "cell_type": "code",
   "execution_count": null,
   "id": "3d8bd052",
   "metadata": {},
   "outputs": [],
   "source": []
  },
  {
   "cell_type": "code",
   "execution_count": null,
   "id": "c2797554",
   "metadata": {},
   "outputs": [],
   "source": []
  },
  {
   "cell_type": "code",
   "execution_count": null,
   "id": "6da7c710",
   "metadata": {},
   "outputs": [],
   "source": []
  },
  {
   "cell_type": "code",
   "execution_count": null,
   "id": "5ce35985",
   "metadata": {},
   "outputs": [],
   "source": []
  },
  {
   "cell_type": "code",
   "execution_count": null,
   "id": "f2984ab9",
   "metadata": {},
   "outputs": [],
   "source": []
  },
  {
   "cell_type": "markdown",
   "id": "ef23a175",
   "metadata": {},
   "source": [
    "***"
   ]
  }
 ],
 "metadata": {
  "kernelspec": {
   "display_name": "Python 3",
   "language": "python",
   "name": "python3"
  },
  "language_info": {
   "codemirror_mode": {
    "name": "ipython",
    "version": 3
   },
   "file_extension": ".py",
   "mimetype": "text/x-python",
   "name": "python",
   "nbconvert_exporter": "python",
   "pygments_lexer": "ipython3",
   "version": "3.7.6"
  }
 },
 "nbformat": 4,
 "nbformat_minor": 5
}
