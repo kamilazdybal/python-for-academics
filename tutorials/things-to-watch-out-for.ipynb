{
 "cells": [
  {
   "cell_type": "markdown",
   "id": "957ddf8e",
   "metadata": {},
   "source": [
    "# `Python for academics` : Things to watch out for\n",
    "\n",
    "by **Kamila Zdybał**\n",
    "\n",
    "[`https://kamilazdybal.github.io`](https://kamilazdybal.github.io)"
   ]
  },
  {
   "cell_type": "markdown",
   "id": "75df42e3",
   "metadata": {},
   "source": [
    "In this notebook, we learn how to be careful with setting up your Python code to avoid errors and bugs."
   ]
  },
  {
   "cell_type": "markdown",
   "id": "1eb04193",
   "metadata": {},
   "source": [
    "<a id=top-page></a>\n",
    "\n",
    "***\n",
    "\n",
    "## Table of contents\n",
    "\n",
    "- [**Using Jupyter Notebooks**](#jupyter-notebooks)\n",
    "    - [Exercise 1](#appending-to-list-1)\n",
    "    \n",
    "***"
   ]
  },
  {
   "cell_type": "code",
   "execution_count": 1,
   "id": "63e058b3",
   "metadata": {},
   "outputs": [],
   "source": [
    "import numpy as np\n",
    "import matplotlib.pyplot as plt"
   ]
  },
  {
   "cell_type": "markdown",
   "id": "54fccd9f",
   "metadata": {},
   "source": [
    "<a id=large-headers></a>\n",
    "***\n",
    "\n",
    "## Using Jupyter Notebooks\n",
    "\n",
    "[**Go to the top ↑**](#top-page)"
   ]
  },
  {
   "cell_type": "markdown",
   "id": "fb138b02",
   "metadata": {},
   "source": [
    "<a id=file-naming-ex-1></a>\n",
    "***\n",
    "### Exercise 1\n",
    "\n",
    "[**Go to the top ↑**](#top-page)\n",
    "\n",
    "<a href=\"https://youtu.be/kRFA_wwLE2E\">\n",
    "  <img src=\"https://img.shields.io/badge/youtube-firebrick?style=for-the-badge&logo=youtube&logoColor=white\" alt=\"YouTube Badge\"/>\n",
    "</a>\n",
    "\n",
    "We learn how to append results to a list in a safe way when using a Jupyter notebook.\n",
    "\n",
    "We will create a list of 10 elements, based on some parameter that can take values $5$ or $10$."
   ]
  },
  {
   "cell_type": "code",
   "execution_count": 2,
   "id": "3853ec1c",
   "metadata": {},
   "outputs": [],
   "source": [
    "results_list = []\n",
    "\n",
    "parameter = 10\n",
    "\n",
    "for i in range(1,11):\n",
    "    results_list.append(i*parameter)"
   ]
  },
  {
   "cell_type": "markdown",
   "id": "407f06ac-6039-4ed2-b4d9-41b55e2f61b7",
   "metadata": {},
   "source": [
    "First element in the list is:"
   ]
  },
  {
   "cell_type": "code",
   "execution_count": 3,
   "id": "0582838c-eefa-4bab-beea-eaebf0b6c1b0",
   "metadata": {},
   "outputs": [
    {
     "data": {
      "text/plain": [
       "10"
      ]
     },
     "execution_count": 3,
     "metadata": {},
     "output_type": "execute_result"
    }
   ],
   "source": [
    "results_list[0]"
   ]
  },
  {
   "cell_type": "code",
   "execution_count": 4,
   "id": "9f62c433",
   "metadata": {},
   "outputs": [
    {
     "data": {
      "image/png": "[encoded data removed]",
      "text/plain": [
       "<Figure size 1000x200 with 1 Axes>"
      ]
     },
     "metadata": {},
     "output_type": "display_data"
    }
   ],
   "source": [
    "plt.figure(figsize=(10,2))\n",
    "plt.scatter([i for i in range(0,len(results_list))], results_list, c='k');"
   ]
  },
  {
   "cell_type": "code",
   "execution_count": null,
   "id": "2574258f",
   "metadata": {},
   "outputs": [],
   "source": []
  },
  {
   "cell_type": "code",
   "execution_count": null,
   "id": "1dbbe1c5",
   "metadata": {},
   "outputs": [],
   "source": []
  },
  {
   "cell_type": "code",
   "execution_count": null,
   "id": "16170847",
   "metadata": {},
   "outputs": [],
   "source": []
  },
  {
   "cell_type": "code",
   "execution_count": null,
   "id": "41286420",
   "metadata": {},
   "outputs": [],
   "source": []
  },
  {
   "cell_type": "code",
   "execution_count": null,
   "id": "294e6a91",
   "metadata": {},
   "outputs": [],
   "source": []
  },
  {
   "cell_type": "code",
   "execution_count": null,
   "id": "ef80705d",
   "metadata": {},
   "outputs": [],
   "source": []
  },
  {
   "cell_type": "code",
   "execution_count": null,
   "id": "05025b1c",
   "metadata": {},
   "outputs": [],
   "source": []
  },
  {
   "cell_type": "code",
   "execution_count": null,
   "id": "f9c7ff5d",
   "metadata": {},
   "outputs": [],
   "source": []
  },
  {
   "cell_type": "code",
   "execution_count": null,
   "id": "e0f9a9ea",
   "metadata": {},
   "outputs": [],
   "source": []
  },
  {
   "cell_type": "code",
   "execution_count": null,
   "id": "95a17454",
   "metadata": {},
   "outputs": [],
   "source": []
  },
  {
   "cell_type": "markdown",
   "id": "225c8e9e",
   "metadata": {},
   "source": [
    "***"
   ]
  }
 ],
 "metadata": {
  "kernelspec": {
   "display_name": "Python 3 (ipykernel)",
   "language": "python",
   "name": "python3"
  },
  "language_info": {
   "codemirror_mode": {
    "name": "ipython",
    "version": 3
   },
   "file_extension": ".py",
   "mimetype": "text/x-python",
   "name": "python",
   "nbconvert_exporter": "python",
   "pygments_lexer": "ipython3",
   "version": "3.10.13"
  }
 },
 "nbformat": 4,
 "nbformat_minor": 5
}
