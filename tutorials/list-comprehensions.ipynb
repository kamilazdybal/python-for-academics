{
 "cells": [
  {
   "cell_type": "markdown",
   "id": "f340af1c",
   "metadata": {},
   "source": [
    "# `Python for academics` : Automate your life with list comprehensions\n",
    "\n",
    "by **Kamila Zdybał**\n",
    "\n",
    "[`https://kamilazdybal.github.io`](https://kamilazdybal.github.io)"
   ]
  },
  {
   "cell_type": "markdown",
   "id": "0f0f8ea7",
   "metadata": {},
   "source": [
    "In this notebook, we use list comprehensions to quickly generate large pieces of text and `tex` code. "
   ]
  },
  {
   "cell_type": "markdown",
   "id": "288411a1",
   "metadata": {},
   "source": [
    "<a id=top-page></a>\n",
    "\n",
    "***\n",
    "\n",
    "## Table of contents\n",
    "\n",
    "- [**Generate large headers**](#large-headers)\n",
    "    - [Exercise 1](#large-headers-ex-1)\n",
    "    - [Exercise 2](#large-headers-ex-2)\n",
    "    - [Exercise 3](#large-headers-ex-3)\n",
    "- [**Organize your results into LaTeX tables**](#latex-tables)\n",
    "\n",
    "***"
   ]
  },
  {
   "cell_type": "code",
   "execution_count": null,
   "id": "ef6c0a6a",
   "metadata": {},
   "outputs": [],
   "source": [
    "import numpy as np"
   ]
  },
  {
   "cell_type": "markdown",
   "id": "f093ed62",
   "metadata": {},
   "source": [
    "<a id=large-headers></a>\n",
    "***\n",
    "\n",
    "## Generate headers\n",
    "\n",
    "[**Go to the top ↑**](#top-page)"
   ]
  },
  {
   "cell_type": "markdown",
   "id": "81034bab",
   "metadata": {},
   "source": [
    "<a id=large-headers-ex-1></a>\n",
    "***\n",
    "### Exercise 1\n",
    "\n",
    "[**Go to the top ↑**](#top-page)\n",
    "\n",
    "<a href=\"https://youtu.be/2EPNJytD3dU\">\n",
    "  <img src=\"https://img.shields.io/badge/youtube-firebrick?style=for-the-badge&logo=youtube&logoColor=white\" alt=\"YouTube Badge\"/>\n",
    "</a>\n",
    "\n",
    "We want to accomplish:\n",
    "\n",
    "![Screenshot](generate-headers-example-01.png)\n",
    "\n",
    "For this, we need to generate the following `tex` code:\n",
    "\n",
    "> ``$A_{1}$ & $A_{2}$ & $A_{3}$ & $A_{4}$ & $A_{5}$ & $A_{6}$ & $A_{7}$ & $A_{8}$ & $A_{9}$ & $A_{10}$ & $A_{11}$ & $A_{12}$ & $A_{13}$ & $A_{14}$ & $A_{15}$ & $A_{16}$ & $A_{17}$ & $A_{18}$ & $A_{19}$ & $A_{20}$``"
   ]
  },
  {
   "cell_type": "code",
   "execution_count": null,
   "id": "4f2f82d8",
   "metadata": {},
   "outputs": [],
   "source": [
    "' & '.join(['$A_{' + str(i) + '}$' for i in range(1,21)])"
   ]
  },
  {
   "cell_type": "code",
   "execution_count": null,
   "id": "9b392b31",
   "metadata": {},
   "outputs": [],
   "source": [
    "'l|'*20"
   ]
  },
  {
   "cell_type": "code",
   "execution_count": null,
   "id": "600239d2",
   "metadata": {},
   "outputs": [],
   "source": [
    "' &'*19"
   ]
  },
  {
   "cell_type": "markdown",
   "id": "aff2d81f",
   "metadata": {},
   "source": [
    "<a id=large-headers-ex-2></a>\n",
    "***\n",
    "### Exercise 2\n",
    "\n",
    "[**Go to the top ↑**](#top-page)\n",
    "\n",
    "<a href=\"https://youtu.be/tXkwV-zyqB8\">\n",
    "  <img src=\"https://img.shields.io/badge/youtube-firebrick?style=for-the-badge&logo=youtube&logoColor=white\" alt=\"YouTube Badge\"/>\n",
    "</a>\n",
    "\n",
    "We want to accomplish:\n",
    "\n",
    "<img src=\"generate-headers-example-02.png\" style=\"height:300px\">\n",
    "\n",
    "For this, we need to generate the following `tex` code:\n",
    "\n",
    "```tex\n",
    "$m_1$: Apple & \\\\ \\midrule \n",
    "$m_2$: Orange & \\\\ \\midrule \n",
    "$m_3$: Banana & \\\\ \\midrule \n",
    "$m_4$: Watermelon & \\\\ \\midrule \n",
    "$m_5$: Berries & \\\\ \\bottomrule\n",
    "```"
   ]
  },
  {
   "cell_type": "code",
   "execution_count": null,
   "id": "1887f865",
   "metadata": {},
   "outputs": [],
   "source": [
    "variable_names = ['Apple', 'Orange', 'Banana', 'Watermelon', 'Berries']"
   ]
  },
  {
   "cell_type": "code",
   "execution_count": null,
   "id": "2528eacf",
   "metadata": {},
   "outputs": [],
   "source": [
    "print(' & \\t \\\\\\\\ \\\\midrule \\n'.join(['$m_' + str(i+1) + '$: ' + variable_names[i] for i in range(0, len(variable_names))]) + ' & \\t \\\\\\\\ \\\\bottomrule' )"
   ]
  },
  {
   "cell_type": "markdown",
   "id": "d52dc3ae",
   "metadata": {},
   "source": [
    "<a id=large-headers-ex-3></a>\n",
    "***\n",
    "### Exercise 3\n",
    "\n",
    "[**Go to the top ↑**](#top-page)\n",
    "\n",
    "<a href=\"https://youtu.be/EuH22EUc31Y\">\n",
    "  <img src=\"https://img.shields.io/badge/youtube-firebrick?style=for-the-badge&logo=youtube&logoColor=white\" alt=\"YouTube Badge\"/>\n",
    "</a>\n",
    "\n",
    "We want to accomplish:\n",
    "\n",
    "<img src=\"generate-headers-example-03.png\" style=\"height:300px\">\n",
    "\n",
    "For this, we need to generate the following `tex` code:\n",
    "\n",
    "```tex\n",
    "\\ch{H2} & \t \\\\ \\midrule \n",
    "\\ch{H} & \t \\\\ \\midrule \n",
    "\\ch{O} & \t \\\\ \\midrule \n",
    "\\ch{O2} & \t \\\\ \\midrule \n",
    "\\ch{OH} & \t \\\\ \\midrule \n",
    "\\ch{H2O} & \t \\\\ \\midrule \n",
    "\\ch{HO2} & \t \\\\ \\midrule \n",
    "\\ch{H2O2} & \t \\\\ \\midrule \n",
    "\\ch{C} & \t \\\\ \\midrule \n",
    "\\ch{CH} & \t \\\\ \\midrule \n",
    "\\ch{CH2} & \t \\\\ \\midrule \n",
    "\\ch{CH2(S)} & \t \\\\ \\midrule \n",
    "\\ch{CH3} & \t \\\\ \\midrule \n",
    "\\ch{CH4} & \t \\\\ \\midrule \n",
    "\\ch{CO} & \t \\\\ \\midrule \n",
    "\\ch{CO2} & \t \\\\ \\midrule \n",
    "\\ch{HCO} & \t \\\\ \\midrule \n",
    "\\ch{CH2O} & \t \\\\ \\midrule \n",
    "\\ch{CH2OH} & \t \\\\ \\midrule \n",
    "\\ch{CH3O} & \t \\\\ \\midrule \n",
    "\\ch{CH3OH} & \t \\\\ \\midrule \n",
    "\\ch{C2H} & \t \\\\ \\midrule \n",
    "\\ch{C2H2} & \t \\\\ \\midrule \n",
    "\\ch{C2H3} & \t \\\\ \\midrule \n",
    "\\ch{C2H4} & \t \\\\ \\midrule \n",
    "\\ch{C2H5} & \t \\\\ \\midrule \n",
    "\\ch{C2H6} & \t \\\\ \\midrule \n",
    "\\ch{HCCO} & \t \\\\ \\midrule \n",
    "\\ch{CH2CO} & \t \\\\ \\midrule \n",
    "\\ch{HCCOH} & \t \\\\ \\midrule \n",
    "\\ch{C3H7} & \t \\\\ \\midrule \n",
    "\\ch{C3H8} & \t \\\\ \\midrule \n",
    "\\ch{CH2CHO} & \t \\\\ \\midrule \n",
    "\\ch{CH3CHO} & \t \\\\ \\bottomrule\n",
    "```\n",
    "\n",
    "\n",
    "and use:\n",
    "\n",
    "```tex\n",
    "\\usepackage{chemformula}\n",
    "```"
   ]
  },
  {
   "cell_type": "code",
   "execution_count": 1,
   "id": "eb267cb6",
   "metadata": {},
   "outputs": [],
   "source": [
    "import pandas as pd"
   ]
  },
  {
   "cell_type": "code",
   "execution_count": 2,
   "id": "399663cd",
   "metadata": {},
   "outputs": [],
   "source": [
    "variable_names = list(pd.read_csv('variable-names.csv', header=None).to_numpy().flatten())"
   ]
  },
  {
   "cell_type": "code",
   "execution_count": 6,
   "id": "4c8ef7b0",
   "metadata": {},
   "outputs": [
    {
     "name": "stdout",
     "output_type": "stream",
     "text": [
      "\\ch{H2} & \t \\\\ \\midrule \n",
      "\\ch{H} & \t \\\\ \\midrule \n",
      "\\ch{O} & \t \\\\ \\midrule \n",
      "\\ch{O2} & \t \\\\ \\midrule \n",
      "\\ch{OH} & \t \\\\ \\midrule \n",
      "\\ch{H2O} & \t \\\\ \\midrule \n",
      "\\ch{HO2} & \t \\\\ \\midrule \n",
      "\\ch{H2O2} & \t \\\\ \\midrule \n",
      "\\ch{C} & \t \\\\ \\midrule \n",
      "\\ch{CH} & \t \\\\ \\midrule \n",
      "\\ch{CH2} & \t \\\\ \\midrule \n",
      "\\ch{CH2(S)} & \t \\\\ \\midrule \n",
      "\\ch{CH3} & \t \\\\ \\midrule \n",
      "\\ch{CH4} & \t \\\\ \\midrule \n",
      "\\ch{CO} & \t \\\\ \\midrule \n",
      "\\ch{CO2} & \t \\\\ \\midrule \n",
      "\\ch{HCO} & \t \\\\ \\midrule \n",
      "\\ch{CH2O} & \t \\\\ \\midrule \n",
      "\\ch{CH2OH} & \t \\\\ \\midrule \n",
      "\\ch{CH3O} & \t \\\\ \\midrule \n",
      "\\ch{CH3OH} & \t \\\\ \\midrule \n",
      "\\ch{C2H} & \t \\\\ \\midrule \n",
      "\\ch{C2H2} & \t \\\\ \\midrule \n",
      "\\ch{C2H3} & \t \\\\ \\midrule \n",
      "\\ch{C2H4} & \t \\\\ \\midrule \n",
      "\\ch{C2H5} & \t \\\\ \\midrule \n",
      "\\ch{C2H6} & \t \\\\ \\midrule \n",
      "\\ch{HCCO} & \t \\\\ \\midrule \n",
      "\\ch{CH2CO} & \t \\\\ \\midrule \n",
      "\\ch{HCCOH} & \t \\\\ \\midrule \n",
      "\\ch{C3H7} & \t \\\\ \\midrule \n",
      "\\ch{C3H8} & \t \\\\ \\midrule \n",
      "\\ch{CH2CHO} & \t \\\\ \\midrule \n",
      "\\ch{CH3CHO} & \t \\\\ \\bottomrule\n"
     ]
    }
   ],
   "source": [
    "print(' & \\t \\\\\\\\ \\\\midrule \\n'.join(['\\\\ch{' + variable_names[i] + '}' for i in range(0, len(variable_names)) if ('N' not in variable_names[i]) and (variable_names[i] != 'AR') ]) + ' & \\t \\\\\\\\ \\\\bottomrule' )"
   ]
  },
  {
   "cell_type": "markdown",
   "id": "4a6352b2",
   "metadata": {},
   "source": [
    "***\n",
    "\n",
    "We want to accomplish:\n",
    "\n",
    "```tex\n",
    "Group 1: Apple\n",
    "Group 1: Orange\n",
    "Group 1: Banana\n",
    "Group 1: Watermelon\n",
    "Group 1: Berries\n",
    "Group 2: Apple\n",
    "Group 2: Orange\n",
    "Group 2: Banana\n",
    "Group 2: Watermelon\n",
    "Group 2: Berries\n",
    "Group 3: Apple\n",
    "Group 3: Orange\n",
    "Group 3: Banana\n",
    "Group 3: Watermelon\n",
    "Group 3: Berries\n",
    "Group 4: Apple\n",
    "Group 4: Orange\n",
    "Group 4: Banana\n",
    "Group 4: Watermelon\n",
    "Group 4: Berries\n",
    "Group 5: Apple\n",
    "Group 5: Orange\n",
    "Group 5: Banana\n",
    "Group 5: Watermelon\n",
    "Group 5: Berries\n",
    "```"
   ]
  },
  {
   "cell_type": "code",
   "execution_count": null,
   "id": "75890a0c",
   "metadata": {},
   "outputs": [],
   "source": [
    "variable_names = ['Apple', 'Orange', 'Banana', 'Watermelon', 'Berries']"
   ]
  },
  {
   "cell_type": "code",
   "execution_count": null,
   "id": "faeb1c12",
   "metadata": {},
   "outputs": [],
   "source": [
    "print('\\n'.join(['\\item Group ' + str(i) + ': ' + j for i in range(1,len(variable_names)+1) for j in variable_names]))"
   ]
  },
  {
   "cell_type": "markdown",
   "id": "088075fb",
   "metadata": {},
   "source": [
    "<a id=latex-tables></a>\n",
    "***\n",
    "\n",
    "## Organize your results into `LaTeX` tables\n",
    "\n",
    "[**Go to the top ↑**](#top-page)"
   ]
  },
  {
   "cell_type": "code",
   "execution_count": null,
   "id": "17bc5169",
   "metadata": {},
   "outputs": [],
   "source": []
  },
  {
   "cell_type": "code",
   "execution_count": null,
   "id": "089a62f4",
   "metadata": {},
   "outputs": [],
   "source": []
  },
  {
   "cell_type": "code",
   "execution_count": null,
   "id": "f487eb9a",
   "metadata": {},
   "outputs": [],
   "source": []
  },
  {
   "cell_type": "code",
   "execution_count": null,
   "id": "ac6c1cf1",
   "metadata": {},
   "outputs": [],
   "source": []
  },
  {
   "cell_type": "code",
   "execution_count": null,
   "id": "875b1dde",
   "metadata": {},
   "outputs": [],
   "source": []
  },
  {
   "cell_type": "markdown",
   "id": "730b4a92",
   "metadata": {},
   "source": [
    "***"
   ]
  }
 ],
 "metadata": {
  "kernelspec": {
   "display_name": "Python 3",
   "language": "python",
   "name": "python3"
  },
  "language_info": {
   "codemirror_mode": {
    "name": "ipython",
    "version": 3
   },
   "file_extension": ".py",
   "mimetype": "text/x-python",
   "name": "python",
   "nbconvert_exporter": "python",
   "pygments_lexer": "ipython3",
   "version": "3.7.6"
  }
 },
 "nbformat": 4,
 "nbformat_minor": 5
}
