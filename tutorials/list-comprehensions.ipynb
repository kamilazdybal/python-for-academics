{
 "cells": [
  {
   "cell_type": "markdown",
   "id": "c2a89668",
   "metadata": {},
   "source": [
    "# `Python for academics` : Automate your life with list comprehensions\n",
    "\n",
    "by **Kamila Zdybał**\n",
    "\n",
    "[`https://kamilazdybal.github.io`](https://kamilazdybal.github.io)"
   ]
  },
  {
   "cell_type": "markdown",
   "id": "f0a81e05",
   "metadata": {},
   "source": [
    "In this notebook, we use list comprehensions to quickly generate large pieces of text and `tex` code. "
   ]
  },
  {
   "cell_type": "markdown",
   "id": "4b921426",
   "metadata": {},
   "source": [
    "<a id=top-page></a>\n",
    "\n",
    "***\n",
    "\n",
    "## Table of contents\n",
    "\n",
    "- [**Generate large headers**](#large-headers)\n",
    "    - [Exercise 1](#large-headers-ex-1)\n",
    "    - [Exercise 2](#large-headers-ex-2)\n",
    "    - [Exercise 3](#large-headers-ex-3)\n",
    "- [**Generate text**](#generate-text)\n",
    "    - [Exercise 1](#generate-text-ex-1)\n",
    "    \n",
    "***"
   ]
  },
  {
   "cell_type": "code",
   "execution_count": 1,
   "id": "c5bfbfd0",
   "metadata": {},
   "outputs": [],
   "source": [
    "import numpy as np"
   ]
  },
  {
   "cell_type": "markdown",
   "id": "3e0d41ee",
   "metadata": {},
   "source": [
    "<a id=large-headers></a>\n",
    "***\n",
    "\n",
    "## Generate headers\n",
    "\n",
    "[**Go to the top ↑**](#top-page)"
   ]
  },
  {
   "cell_type": "markdown",
   "id": "ed5034cf",
   "metadata": {},
   "source": [
    "<a id=large-headers-ex-1></a>\n",
    "***\n",
    "### Exercise 1\n",
    "\n",
    "[**Go to the top ↑**](#top-page)\n",
    "\n",
    "<a href=\"https://youtu.be/2EPNJytD3dU\">\n",
    "  <img src=\"https://img.shields.io/badge/youtube-firebrick?style=for-the-badge&logo=youtube&logoColor=white\" alt=\"YouTube Badge\"/>\n",
    "</a>\n",
    "\n",
    "We want to accomplish:\n",
    "\n",
    "![Screenshot](generate-headers-example-01.png)\n",
    "\n",
    "For this, we need to generate the following `tex` code:\n",
    "\n",
    "> ``$A_{1}$ & $A_{2}$ & $A_{3}$ & $A_{4}$ & $A_{5}$ & $A_{6}$ & $A_{7}$ & $A_{8}$ & $A_{9}$ & $A_{10}$ & $A_{11}$ & $A_{12}$ & $A_{13}$ & $A_{14}$ & $A_{15}$ & $A_{16}$ & $A_{17}$ & $A_{18}$ & $A_{19}$ & $A_{20}$``"
   ]
  },
  {
   "cell_type": "code",
   "execution_count": 2,
   "id": "9f8c9a4c",
   "metadata": {},
   "outputs": [
    {
     "data": {
      "text/plain": [
       "'$A_{1}$ & $A_{2}$ & $A_{3}$ & $A_{4}$ & $A_{5}$ & $A_{6}$ & $A_{7}$ & $A_{8}$ & $A_{9}$ & $A_{10}$ & $A_{11}$ & $A_{12}$ & $A_{13}$ & $A_{14}$ & $A_{15}$ & $A_{16}$ & $A_{17}$ & $A_{18}$ & $A_{19}$ & $A_{20}$'"
      ]
     },
     "execution_count": 2,
     "metadata": {},
     "output_type": "execute_result"
    }
   ],
   "source": [
    "' & '.join(['$A_{' + str(i) + '}$' for i in range(1,21)])"
   ]
  },
  {
   "cell_type": "code",
   "execution_count": 3,
   "id": "0a9904c9",
   "metadata": {},
   "outputs": [
    {
     "data": {
      "text/plain": [
       "'l|l|l|l|l|l|l|l|l|l|l|l|l|l|l|l|l|l|l|l|'"
      ]
     },
     "execution_count": 3,
     "metadata": {},
     "output_type": "execute_result"
    }
   ],
   "source": [
    "'l|'*20"
   ]
  },
  {
   "cell_type": "code",
   "execution_count": 4,
   "id": "de6552d3",
   "metadata": {},
   "outputs": [
    {
     "data": {
      "text/plain": [
       "' & & & & & & & & & & & & & & & & & & &'"
      ]
     },
     "execution_count": 4,
     "metadata": {},
     "output_type": "execute_result"
    }
   ],
   "source": [
    "' &'*19"
   ]
  },
  {
   "cell_type": "markdown",
   "id": "40f43ba3",
   "metadata": {},
   "source": [
    "<a id=large-headers-ex-2></a>\n",
    "***\n",
    "### Exercise 2\n",
    "\n",
    "[**Go to the top ↑**](#top-page)\n",
    "\n",
    "<a href=\"https://youtu.be/tXkwV-zyqB8\">\n",
    "  <img src=\"https://img.shields.io/badge/youtube-firebrick?style=for-the-badge&logo=youtube&logoColor=white\" alt=\"YouTube Badge\"/>\n",
    "</a>\n",
    "\n",
    "We want to accomplish:\n",
    "\n",
    "<img src=\"generate-headers-example-02.png\" style=\"height:300px\">\n",
    "\n",
    "For this, we need to generate the following `tex` code:\n",
    "\n",
    "```tex\n",
    "$m_1$: Apple & \\\\ \\midrule \n",
    "$m_2$: Orange & \\\\ \\midrule \n",
    "$m_3$: Banana & \\\\ \\midrule \n",
    "$m_4$: Watermelon & \\\\ \\midrule \n",
    "$m_5$: Berries & \\\\ \\bottomrule\n",
    "```"
   ]
  },
  {
   "cell_type": "code",
   "execution_count": 5,
   "id": "0df91ff8",
   "metadata": {},
   "outputs": [],
   "source": [
    "variable_names = ['Apple', 'Orange', 'Banana', 'Watermelon', 'Berries']"
   ]
  },
  {
   "cell_type": "code",
   "execution_count": 6,
   "id": "4f209281",
   "metadata": {},
   "outputs": [
    {
     "name": "stdout",
     "output_type": "stream",
     "text": [
      "$m_1$: Apple & \t \\\\ \\midrule \n",
      "$m_2$: Orange & \t \\\\ \\midrule \n",
      "$m_3$: Banana & \t \\\\ \\midrule \n",
      "$m_4$: Watermelon & \t \\\\ \\midrule \n",
      "$m_5$: Berries & \t \\\\ \\bottomrule\n"
     ]
    }
   ],
   "source": [
    "print(' & \\t \\\\\\\\ \\\\midrule \\n'.join(['$m_' + str(i+1) + '$: ' + variable_names[i] for i in range(0, len(variable_names))]) + ' & \\t \\\\\\\\ \\\\bottomrule' )"
   ]
  },
  {
   "cell_type": "markdown",
   "id": "76ec9f83",
   "metadata": {},
   "source": [
    "<a id=large-headers-ex-3></a>\n",
    "***\n",
    "### Exercise 3\n",
    "\n",
    "[**Go to the top ↑**](#top-page)\n",
    "\n",
    "<a href=\"https://youtu.be/EuH22EUc31Y\">\n",
    "  <img src=\"https://img.shields.io/badge/youtube-firebrick?style=for-the-badge&logo=youtube&logoColor=white\" alt=\"YouTube Badge\"/>\n",
    "</a>\n",
    "\n",
    "We want to accomplish:\n",
    "\n",
    "<img src=\"generate-headers-example-03.png\" style=\"height:300px\">\n",
    "\n",
    "For this, we need to generate the following `tex` code:\n",
    "\n",
    "```tex\n",
    "\\ch{H2} & \t \\\\ \\midrule \n",
    "\\ch{H} & \t \\\\ \\midrule \n",
    "\\ch{O} & \t \\\\ \\midrule \n",
    "\\ch{O2} & \t \\\\ \\midrule \n",
    "\\ch{OH} & \t \\\\ \\midrule \n",
    "\\ch{H2O} & \t \\\\ \\midrule \n",
    "\\ch{HO2} & \t \\\\ \\midrule \n",
    "\\ch{H2O2} & \t \\\\ \\midrule \n",
    "\\ch{C} & \t \\\\ \\midrule \n",
    "\\ch{CH} & \t \\\\ \\midrule \n",
    "\\ch{CH2} & \t \\\\ \\midrule \n",
    "\\ch{CH2(S)} & \t \\\\ \\midrule \n",
    "\\ch{CH3} & \t \\\\ \\midrule \n",
    "\\ch{CH4} & \t \\\\ \\midrule \n",
    "\\ch{CO} & \t \\\\ \\midrule \n",
    "\\ch{CO2} & \t \\\\ \\midrule \n",
    "\\ch{HCO} & \t \\\\ \\midrule \n",
    "\\ch{CH2O} & \t \\\\ \\midrule \n",
    "\\ch{CH2OH} & \t \\\\ \\midrule \n",
    "\\ch{CH3O} & \t \\\\ \\midrule \n",
    "\\ch{CH3OH} & \t \\\\ \\midrule \n",
    "\\ch{C2H} & \t \\\\ \\midrule \n",
    "\\ch{C2H2} & \t \\\\ \\midrule \n",
    "\\ch{C2H3} & \t \\\\ \\midrule \n",
    "\\ch{C2H4} & \t \\\\ \\midrule \n",
    "\\ch{C2H5} & \t \\\\ \\midrule \n",
    "\\ch{C2H6} & \t \\\\ \\midrule \n",
    "\\ch{HCCO} & \t \\\\ \\midrule \n",
    "\\ch{CH2CO} & \t \\\\ \\midrule \n",
    "\\ch{HCCOH} & \t \\\\ \\midrule \n",
    "\\ch{C3H7} & \t \\\\ \\midrule \n",
    "\\ch{C3H8} & \t \\\\ \\midrule \n",
    "\\ch{CH2CHO} & \t \\\\ \\midrule \n",
    "\\ch{CH3CHO} & \t \\\\ \\bottomrule\n",
    "```\n",
    "\n",
    "\n",
    "and use:\n",
    "\n",
    "```tex\n",
    "\\usepackage{chemformula}\n",
    "```"
   ]
  },
  {
   "cell_type": "code",
   "execution_count": 7,
   "id": "a89469e4",
   "metadata": {},
   "outputs": [],
   "source": [
    "import pandas as pd"
   ]
  },
  {
   "cell_type": "code",
   "execution_count": 8,
   "id": "38b06c6c",
   "metadata": {},
   "outputs": [],
   "source": [
    "variable_names = list(pd.read_csv('variable-names.csv', header=None).to_numpy().flatten())"
   ]
  },
  {
   "cell_type": "code",
   "execution_count": 9,
   "id": "95172f3c",
   "metadata": {},
   "outputs": [
    {
     "name": "stdout",
     "output_type": "stream",
     "text": [
      "\\ch{H2} & \t \\\\ \\midrule \n",
      "\\ch{H} & \t \\\\ \\midrule \n",
      "\\ch{O} & \t \\\\ \\midrule \n",
      "\\ch{O2} & \t \\\\ \\midrule \n",
      "\\ch{OH} & \t \\\\ \\midrule \n",
      "\\ch{H2O} & \t \\\\ \\midrule \n",
      "\\ch{HO2} & \t \\\\ \\midrule \n",
      "\\ch{H2O2} & \t \\\\ \\midrule \n",
      "\\ch{C} & \t \\\\ \\midrule \n",
      "\\ch{CH} & \t \\\\ \\midrule \n",
      "\\ch{CH2} & \t \\\\ \\midrule \n",
      "\\ch{CH2(S)} & \t \\\\ \\midrule \n",
      "\\ch{CH3} & \t \\\\ \\midrule \n",
      "\\ch{CH4} & \t \\\\ \\midrule \n",
      "\\ch{CO} & \t \\\\ \\midrule \n",
      "\\ch{CO2} & \t \\\\ \\midrule \n",
      "\\ch{HCO} & \t \\\\ \\midrule \n",
      "\\ch{CH2O} & \t \\\\ \\midrule \n",
      "\\ch{CH2OH} & \t \\\\ \\midrule \n",
      "\\ch{CH3O} & \t \\\\ \\midrule \n",
      "\\ch{CH3OH} & \t \\\\ \\midrule \n",
      "\\ch{C2H} & \t \\\\ \\midrule \n",
      "\\ch{C2H2} & \t \\\\ \\midrule \n",
      "\\ch{C2H3} & \t \\\\ \\midrule \n",
      "\\ch{C2H4} & \t \\\\ \\midrule \n",
      "\\ch{C2H5} & \t \\\\ \\midrule \n",
      "\\ch{C2H6} & \t \\\\ \\midrule \n",
      "\\ch{HCCO} & \t \\\\ \\midrule \n",
      "\\ch{CH2CO} & \t \\\\ \\midrule \n",
      "\\ch{HCCOH} & \t \\\\ \\midrule \n",
      "\\ch{C3H7} & \t \\\\ \\midrule \n",
      "\\ch{C3H8} & \t \\\\ \\midrule \n",
      "\\ch{CH2CHO} & \t \\\\ \\midrule \n",
      "\\ch{CH3CHO} & \t \\\\ \\bottomrule\n"
     ]
    }
   ],
   "source": [
    "print(' & \\t \\\\\\\\ \\\\midrule \\n'.join(['\\\\ch{' + variable_names[i] + '}' for i in range(0, len(variable_names)) if ('N' not in variable_names[i]) and (variable_names[i] != 'AR') ]) + ' & \\t \\\\\\\\ \\\\bottomrule' )"
   ]
  },
  {
   "cell_type": "markdown",
   "id": "49b80dae",
   "metadata": {},
   "source": [
    "<a id=generate-text></a>\n",
    "***\n",
    "\n",
    "## Generate text\n",
    "\n",
    "[**Go to the top ↑**](#top-page)"
   ]
  },
  {
   "cell_type": "markdown",
   "id": "dd445f93",
   "metadata": {},
   "source": [
    "<a id=generate-text-ex-1></a>\n",
    "***\n",
    "### Exercise 1\n",
    "\n",
    "[**Go to the top ↑**](#top-page)\n",
    "\n",
    "<a href=\"https://youtu.be/OroWX2PTU4I\">\n",
    "  <img src=\"https://img.shields.io/badge/youtube-firebrick?style=for-the-badge&logo=youtube&logoColor=white\" alt=\"YouTube Badge\"/>\n",
    "</a>\n",
    "\n",
    "Three groups of patients:\n",
    "\n",
    "`GROUP 1`\n",
    "\n",
    "`GROUP 2`\n",
    "\n",
    "`GROUP 3`\n",
    "\n",
    "And a set of five drugs:\n",
    "\n",
    "`['Apple', 'Orange', 'Banana', 'Watermelon', 'Berries']`\n",
    "\n",
    "We want to accomplish:\n",
    "\n",
    "```text\n",
    "Group 1: Apple, Orange\n",
    "Group 1: Apple, Banana\n",
    "Group 1: Apple, Watermelon\n",
    "Group 1: Apple, Berries\n",
    "Group 1: Orange, Apple\n",
    "Group 1: Orange, Banana\n",
    "Group 1: Orange, Watermelon\n",
    "Group 1: Orange, Berries\n",
    "Group 1: Banana, Apple\n",
    "Group 1: Banana, Orange\n",
    "Group 1: Banana, Watermelon\n",
    "Group 1: Banana, Berries\n",
    "Group 1: Watermelon, Apple\n",
    "Group 1: Watermelon, Orange\n",
    "Group 1: Watermelon, Banana\n",
    "Group 1: Watermelon, Berries\n",
    "Group 1: Berries, Apple\n",
    "Group 1: Berries, Orange\n",
    "Group 1: Berries, Banana\n",
    "Group 1: Berries, Watermelon\n",
    "Group 2: Apple, Orange\n",
    "Group 2: Apple, Banana\n",
    "Group 2: Apple, Watermelon\n",
    "Group 2: Apple, Berries\n",
    "Group 2: Orange, Apple\n",
    "Group 2: Orange, Banana\n",
    "Group 2: Orange, Watermelon\n",
    "Group 2: Orange, Berries\n",
    "Group 2: Banana, Apple\n",
    "Group 2: Banana, Orange\n",
    "Group 2: Banana, Watermelon\n",
    "Group 2: Banana, Berries\n",
    "Group 2: Watermelon, Apple\n",
    "Group 2: Watermelon, Orange\n",
    "Group 2: Watermelon, Banana\n",
    "Group 2: Watermelon, Berries\n",
    "Group 2: Berries, Apple\n",
    "Group 2: Berries, Orange\n",
    "Group 2: Berries, Banana\n",
    "Group 2: Berries, Watermelon\n",
    "Group 3: Apple, Orange\n",
    "Group 3: Apple, Banana\n",
    "Group 3: Apple, Watermelon\n",
    "Group 3: Apple, Berries\n",
    "Group 3: Orange, Apple\n",
    "Group 3: Orange, Banana\n",
    "Group 3: Orange, Watermelon\n",
    "Group 3: Orange, Berries\n",
    "Group 3: Banana, Apple\n",
    "Group 3: Banana, Orange\n",
    "Group 3: Banana, Watermelon\n",
    "Group 3: Banana, Berries\n",
    "Group 3: Watermelon, Apple\n",
    "Group 3: Watermelon, Orange\n",
    "Group 3: Watermelon, Banana\n",
    "Group 3: Watermelon, Berries\n",
    "Group 3: Berries, Apple\n",
    "Group 3: Berries, Orange\n",
    "Group 3: Berries, Banana\n",
    "Group 3: Berries, Watermelon\n",
    "```"
   ]
  },
  {
   "cell_type": "code",
   "execution_count": 10,
   "id": "70acd81d",
   "metadata": {},
   "outputs": [],
   "source": [
    "drug_names = ['Apple', 'Orange', 'Banana', 'Watermelon', 'Berries']"
   ]
  },
  {
   "cell_type": "code",
   "execution_count": 11,
   "id": "dd3b67df",
   "metadata": {},
   "outputs": [
    {
     "name": "stdout",
     "output_type": "stream",
     "text": [
      "Group 1: Apple, Orange\n",
      "Group 1: Apple, Banana\n",
      "Group 1: Apple, Watermelon\n",
      "Group 1: Apple, Berries\n",
      "Group 1: Orange, Apple\n",
      "Group 1: Orange, Banana\n",
      "Group 1: Orange, Watermelon\n",
      "Group 1: Orange, Berries\n",
      "Group 1: Banana, Apple\n",
      "Group 1: Banana, Orange\n",
      "Group 1: Banana, Watermelon\n",
      "Group 1: Banana, Berries\n",
      "Group 1: Watermelon, Apple\n",
      "Group 1: Watermelon, Orange\n",
      "Group 1: Watermelon, Banana\n",
      "Group 1: Watermelon, Berries\n",
      "Group 1: Berries, Apple\n",
      "Group 1: Berries, Orange\n",
      "Group 1: Berries, Banana\n",
      "Group 1: Berries, Watermelon\n",
      "Group 2: Apple, Orange\n",
      "Group 2: Apple, Banana\n",
      "Group 2: Apple, Watermelon\n",
      "Group 2: Apple, Berries\n",
      "Group 2: Orange, Apple\n",
      "Group 2: Orange, Banana\n",
      "Group 2: Orange, Watermelon\n",
      "Group 2: Orange, Berries\n",
      "Group 2: Banana, Apple\n",
      "Group 2: Banana, Orange\n",
      "Group 2: Banana, Watermelon\n",
      "Group 2: Banana, Berries\n",
      "Group 2: Watermelon, Apple\n",
      "Group 2: Watermelon, Orange\n",
      "Group 2: Watermelon, Banana\n",
      "Group 2: Watermelon, Berries\n",
      "Group 2: Berries, Apple\n",
      "Group 2: Berries, Orange\n",
      "Group 2: Berries, Banana\n",
      "Group 2: Berries, Watermelon\n",
      "Group 3: Apple, Orange\n",
      "Group 3: Apple, Banana\n",
      "Group 3: Apple, Watermelon\n",
      "Group 3: Apple, Berries\n",
      "Group 3: Orange, Apple\n",
      "Group 3: Orange, Banana\n",
      "Group 3: Orange, Watermelon\n",
      "Group 3: Orange, Berries\n",
      "Group 3: Banana, Apple\n",
      "Group 3: Banana, Orange\n",
      "Group 3: Banana, Watermelon\n",
      "Group 3: Banana, Berries\n",
      "Group 3: Watermelon, Apple\n",
      "Group 3: Watermelon, Orange\n",
      "Group 3: Watermelon, Banana\n",
      "Group 3: Watermelon, Berries\n",
      "Group 3: Berries, Apple\n",
      "Group 3: Berries, Orange\n",
      "Group 3: Berries, Banana\n",
      "Group 3: Berries, Watermelon\n"
     ]
    }
   ],
   "source": [
    "print('\\n'.join(['Group ' + str(i) + ': ' + j + ', ' + k for i in range(1,4) for j in drug_names for k in drug_names if k != j]))"
   ]
  },
  {
   "cell_type": "markdown",
   "id": "ebbc2561",
   "metadata": {},
   "source": [
    "***"
   ]
  }
 ],
 "metadata": {
  "kernelspec": {
   "display_name": "Python 3",
   "language": "python",
   "name": "python3"
  },
  "language_info": {
   "codemirror_mode": {
    "name": "ipython",
    "version": 3
   },
   "file_extension": ".py",
   "mimetype": "text/x-python",
   "name": "python",
   "nbconvert_exporter": "python",
   "pygments_lexer": "ipython3",
   "version": "3.7.6"
  }
 },
 "nbformat": 4,
 "nbformat_minor": 5
}
