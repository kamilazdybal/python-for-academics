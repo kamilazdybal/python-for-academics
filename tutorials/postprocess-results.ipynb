{
 "cells": [
  {
   "cell_type": "markdown",
   "id": "957ddf8e",
   "metadata": {},
   "source": [
    "# `Python for academics` : Postprocessing results\n",
    "\n",
    "by **Kamila Zdybał**\n",
    "\n",
    "[`https://kamilazdybal.github.io`](https://kamilazdybal.github.io)"
   ]
  },
  {
   "cell_type": "markdown",
   "id": "75df42e3",
   "metadata": {},
   "source": [
    "In this notebook, we explore various ways in which Python can help us postprocess your research results."
   ]
  },
  {
   "cell_type": "markdown",
   "id": "1eb04193",
   "metadata": {},
   "source": [
    "<a id=top-page></a>\n",
    "\n",
    "***\n",
    "\n",
    "## Table of contents\n",
    "\n",
    "- [**Running postprocessing scripts**](#running-scripts)\n",
    "    - [Exercise 1](#running-scripts-ex-1)\n",
    "    - [Exercise 2](#running-scripts-with-argparse-ex-2)\n",
    "    - [Exercise 3](#running-scripts-with-argparse-ex-3)\n",
    "***"
   ]
  },
  {
   "cell_type": "code",
   "execution_count": 1,
   "id": "63e058b3",
   "metadata": {},
   "outputs": [],
   "source": [
    "import numpy as np"
   ]
  },
  {
   "cell_type": "markdown",
   "id": "54fccd9f",
   "metadata": {},
   "source": [
    "<a id=large-headers></a>\n",
    "***\n",
    "\n",
    "## Running postprocessing scripts\n",
    "\n",
    "[**Go to the top ↑**](#top-page)"
   ]
  },
  {
   "cell_type": "markdown",
   "id": "fb138b02",
   "metadata": {},
   "source": [
    "<a id=running-scripts-ex-1></a>\n",
    "***\n",
    "### Exercise 1\n",
    "\n",
    "[**Go to the top ↑**](#top-page)\n",
    "\n",
    "<a href=\"https://youtu.be/fUt7Eshf0lU\">\n",
    "  <img src=\"https://img.shields.io/badge/youtube-firebrick?style=for-the-badge&logo=youtube&logoColor=white\" alt=\"YouTube Badge\"/>\n",
    "</a>\n",
    "\n",
    "In this exercise, we're preparing a Python script for postprocessing asynchronously arriving data.\n",
    "\n",
    "We want to postprocess a set of results that have finished running thus far and run postprocessing only once on each case:\n",
    "\n",
    "```\n",
    "Hydrogen-case-008.csv\n",
    "Hydrogen-case-015.csv\n",
    "Hydrogen-case-007.csv\n",
    "Hydrogen-case-005.csv\n",
    "Hydrogen-case-013.csv\n",
    "Hydrogen-case-014.csv\n",
    "Hydrogen-case-006.csv\n",
    "Hydrogen-case-009.csv\n",
    "Hydrogen-case-003.csv\n",
    "Hydrogen-case-019.csv\n",
    "```"
   ]
  },
  {
   "cell_type": "markdown",
   "id": "9b668d9f-1e07-4cd8-87ae-e3742c675b6b",
   "metadata": {},
   "source": [
    "Generate empty results files:"
   ]
  },
  {
   "cell_type": "code",
   "execution_count": 2,
   "id": "a143f9e3-cab3-4d54-a0a5-b3700930a400",
   "metadata": {},
   "outputs": [],
   "source": [
    "n_cases = 20"
   ]
  },
  {
   "cell_type": "code",
   "execution_count": 3,
   "id": "809684dd-2f1b-4917-b431-716eb2629ca0",
   "metadata": {},
   "outputs": [],
   "source": [
    "completed_runs = np.random.choice(range(1,n_cases+1), 10, replace=False)"
   ]
  },
  {
   "cell_type": "code",
   "execution_count": 5,
   "id": "b6cfaef8-f88c-4f93-be0e-489d649567c3",
   "metadata": {},
   "outputs": [
    {
     "data": {
      "text/plain": [
       "[3, 4, 5, 7, 9, 11, 16, 17, 19, 20]"
      ]
     },
     "execution_count": 5,
     "metadata": {},
     "output_type": "execute_result"
    }
   ],
   "source": [
    "sorted(completed_runs)"
   ]
  },
  {
   "cell_type": "code",
   "execution_count": 6,
   "id": "31701c6d-66a1-4632-979d-5dac26b3dd95",
   "metadata": {},
   "outputs": [],
   "source": [
    "for i in completed_runs:\n",
    "\n",
    "    f = open('../data/Hydrogen-case-' + str(i).zfill(2) + '.csv', 'x')"
   ]
  },
  {
   "cell_type": "code",
   "execution_count": 7,
   "id": "34ab6578-d112-4a5e-9fb4-289efcfc4983",
   "metadata": {},
   "outputs": [],
   "source": [
    "import os"
   ]
  },
  {
   "cell_type": "code",
   "execution_count": 13,
   "id": "df3e867c-376c-44ca-a551-066f9b6d555a",
   "metadata": {},
   "outputs": [
    {
     "name": "stdout",
     "output_type": "stream",
     "text": [
      "Postprocessing case 1\n",
      "Postprocessing case 2\n",
      "Case 3 already postprocessed.\n",
      "Case 4 already postprocessed.\n",
      "Case 5 already postprocessed.\n",
      "Postprocessing case 6\n",
      "Case 7 already postprocessed.\n",
      "Postprocessing case 8\n",
      "Case 9 already postprocessed.\n",
      "Postprocessing case 10\n",
      "Case 11 already postprocessed.\n",
      "Postprocessing case 12\n",
      "Postprocessing case 13\n",
      "Postprocessing case 14\n",
      "Postprocessing case 15\n",
      "Case 16 already postprocessed.\n",
      "Case 17 already postprocessed.\n",
      "Postprocessing case 18\n",
      "Case 19 already postprocessed.\n",
      "Case 20 already postprocessed.\n"
     ]
    }
   ],
   "source": [
    "for case in range(1,n_cases+1):\n",
    "\n",
    "    if os.path.exists('../data/Hydrogen-case-' + str(case).zfill(2) + '.csv'):\n",
    "\n",
    "        if not os.path.exists('../data/postprocessed-Hydrogen-case-' + str(case).zfill(2) + '.csv'):\n",
    "\n",
    "            print('Postprocessing case ' + str(case))\n",
    "        \n",
    "            #\n",
    "            #\n",
    "            #\n",
    "\n",
    "            np.savetxt('../data/postprocessed-Hydrogen-case-' + str(case).zfill(2) + '.csv', ([case]), delimiter=',', fmt='%.16e')\n",
    "\n",
    "        else:\n",
    "\n",
    "            print('Case ' + str(case) + ' already postprocessed.')\n",
    "\n",
    "    else:\n",
    "\n",
    "        print('Case ' + str(case) + ' not there yet!')"
   ]
  },
  {
   "cell_type": "code",
   "execution_count": 10,
   "id": "1e6b54d2-3655-4ba9-97b6-8eb830c4c120",
   "metadata": {},
   "outputs": [],
   "source": [
    "remaining_cases = [i for i in range(1,n_cases+1) if i not in completed_runs]"
   ]
  },
  {
   "cell_type": "code",
   "execution_count": 11,
   "id": "2574258f",
   "metadata": {},
   "outputs": [
    {
     "data": {
      "text/plain": [
       "[1, 2, 6, 8, 10, 12, 13, 14, 15, 18]"
      ]
     },
     "execution_count": 11,
     "metadata": {},
     "output_type": "execute_result"
    }
   ],
   "source": [
    "remaining_cases"
   ]
  },
  {
   "cell_type": "code",
   "execution_count": 12,
   "id": "1dbbe1c5",
   "metadata": {},
   "outputs": [],
   "source": [
    "for i in remaining_cases:\n",
    "\n",
    "    f = open('../data/Hydrogen-case-' + str(i).zfill(2) + '.csv', 'x')"
   ]
  },
  {
   "cell_type": "markdown",
   "id": "f19bb02f-5d4c-4179-a8e9-790c01b06be0",
   "metadata": {},
   "source": [
    "<a id=running-scripts-with-argparse-ex-2></a>\n",
    "***\n",
    "### Exercise 2\n",
    "\n",
    "[**Go to the top ↑**](#top-page)\n",
    "\n",
    "<a href=\"\">\n",
    "  <img src=\"https://img.shields.io/badge/youtube-firebrick?style=for-the-badge&logo=youtube&logoColor=white\" alt=\"YouTube Badge\"/>\n",
    "</a>\n",
    "\n",
    "In this exercise, we're learning to set numeric parameters of a Python script from the command line using the `argparse` library.\n",
    "\n",
    "The naive way to set parameters for your postprocessing script is by hardcoding them in the script:"
   ]
  },
  {
   "cell_type": "markdown",
   "id": "a87c59c4-4aed-4387-992b-bafe0d576adf",
   "metadata": {},
   "source": [
    "```python\n",
    "import numpy as np\n",
    "\n",
    "# - - - - - - - - - - - - - - - - - - - - - - - - - - - - - - - - - - - - \n",
    "# Case settings\n",
    "# - - - - - - - - - - - - - - - - - - - - - - - - - - - - - - - - - - - - \n",
    "\n",
    "# Set parameters:\n",
    "input_variables = [0, 1, 2, 3, 4]\n",
    "n_epochs = 1000\n",
    "learning_rate = 0.001\n",
    "initializer = 'GlorotUniform'\n",
    "min_random_seed, max_random_seed = (0,10)\n",
    "\n",
    "# List of random seeds to loop over:\n",
    "random_seeds_list = [i for i in range(min_random_seed, max_random_seed)]\n",
    "\n",
    "# Names of input variables:\n",
    "input_names = np.array(['X' + str(i+1) for i in range(0,10)])\n",
    "\n",
    "# Create a tag for this training session:\n",
    "case_run_name = 'inputs-' + '-'.join(input_names[input_variables]) + '-n-epochs-' + str(n_epochs) + '-lr-' + str(learning_rate) + '-initializer-' + initializer\n",
    "\n",
    "print(case_run_name)\n",
    "\n",
    "print()\n",
    "\n",
    "# - - - - - - - - - - - - - - - - - - - - - - - - - - - - - - - - - - - - \n",
    "# Neural network training with the current parameters starts here...\n",
    "# - - - - - - - - - - - - - - - - - - - - - - - - - - - - - - - - - - - - \n",
    "\n",
    "# ...\n",
    "\n",
    "# ...\n",
    "\n",
    "# ...\n",
    "\n",
    "\n",
    "```"
   ]
  },
  {
   "cell_type": "markdown",
   "id": "e7614152-0577-42a6-ad1d-7a413a8e897a",
   "metadata": {},
   "source": [
    "With the use of the `argparse` library, we can create default placeholders for those parameters and change their values from the command line when executing the script:"
   ]
  },
  {
   "cell_type": "markdown",
   "id": "ec778912-2a92-43cf-bdca-d016e14f792d",
   "metadata": {},
   "source": [
    "```python\n",
    "import argparse\n",
    "import numpy as np\n",
    "\n",
    "def argument_parser():\n",
    "\n",
    "    parser = argparse.ArgumentParser()\n",
    "    \n",
    "    parser.add_argument('--input_variables',\n",
    "                        type=int,\n",
    "                        default=[0,1,2,3,4],\n",
    "                        nargs=\"+\",\n",
    "                        help='Indices for the input variables')\n",
    "    \n",
    "    parser.add_argument('--n_epochs',\n",
    "                        type=int,\n",
    "                        default=1000,\n",
    "                        help='Number of epochs')\n",
    "    \n",
    "    parser.add_argument('--learning_rate',\n",
    "                        type=float,\n",
    "                        default=0.001,\n",
    "                        help='Learning rate')\n",
    "    \n",
    "    parser.add_argument('--initializer',\n",
    "                        type=str,\n",
    "                        default='GlorotUniform',\n",
    "                        help='Initialization of weights')\n",
    "    \n",
    "    parser.add_argument('--random_seeds',\n",
    "                        type=int,\n",
    "                        default=[0,10],\n",
    "                        nargs=\"+\",\n",
    "                        help='Min and max random seed')\n",
    "    \n",
    "    return parser\n",
    "\n",
    "parser = argument_parser()\n",
    "\n",
    "args = parser.parse_args()\n",
    "\n",
    "print(args)\n",
    "\n",
    "print()\n",
    "\n",
    "# - - - - - - - - - - - - - - - - - - - - - - - - - - - - - - - - - - - - \n",
    "# Case settings\n",
    "# - - - - - - - - - - - - - - - - - - - - - - - - - - - - - - - - - - - - \n",
    "\n",
    "# Populate parameter values from argument parser:\n",
    "input_variables = vars(args).get('input_variables')\n",
    "n_epochs = vars(args).get('n_epochs')\n",
    "learning_rate = vars(args).get('learning_rate')\n",
    "initializer = vars(args).get('initializer')\n",
    "min_random_seed, max_random_seed = tuple(vars(args).get('random_seeds'))\n",
    "\n",
    "# List of random seeds to loop over:\n",
    "random_seeds_list = [i for i in range(min_random_seed, max_random_seed)]\n",
    "\n",
    "# Names of input variables:\n",
    "input_names = np.array(['X' + str(i+1) for i in range(0,10)])\n",
    "\n",
    "# Create a tag for this training session:\n",
    "case_run_name = 'inputs-' + '-'.join(input_names[input_variables]) + '-n-epochs-' + str(n_epochs) + '-lr-' + str(learning_rate) + '-initializer-' + initializer\n",
    "\n",
    "print(case_run_name)\n",
    "\n",
    "print()\n",
    "\n",
    "# - - - - - - - - - - - - - - - - - - - - - - - - - - - - - - - - - - - - \n",
    "# Neural network training with the current parameters starts here...\n",
    "# - - - - - - - - - - - - - - - - - - - - - - - - - - - - - - - - - - - - \n",
    "\n",
    "# ...\n",
    "\n",
    "# ...\n",
    "\n",
    "# ...\n",
    "\n",
    "\n",
    "```"
   ]
  },
  {
   "cell_type": "markdown",
   "id": "a2b3270a-e5c5-4aed-a9d6-957fe128e7d9",
   "metadata": {},
   "source": [
    "An example usage of the latter is by typing in the terminal:\n",
    "\n",
    "```bash\n",
    "python script.py --input_variables 0 2 4 6 8 --n_epochs 2000 --learning_rate 0.1 --initializer 'RandomUniform' --random_seeds 0 5\n",
    "```"
   ]
  },
  {
   "cell_type": "markdown",
   "id": "af48e80d-ca98-4b11-8531-4a69dc421dc4",
   "metadata": {},
   "source": [
    "Executing the above script with these parameters, we should see in the terminal output:"
   ]
  },
  {
   "cell_type": "markdown",
   "id": "f53758e9-3d15-4f66-a927-70c676399c14",
   "metadata": {},
   "source": [
    "```text\n",
    "Namespace(input_variables=[0, 2, 4, 6, 8], n_epochs=2000, learning_rate=0.1, initializer='RandomUniform', random_seeds=[0, 5])\n",
    "\n",
    "inputs-X1-X3-X5-X7-X9-n-epochs-2000-lr-0.1-initializer-RandomUniform\n",
    "\n",
    "Training session for random seed 0...\n",
    "Training session for random seed 1...\n",
    "Training session for random seed 2...\n",
    "Training session for random seed 3...\n",
    "Training session for random seed 4...\n",
    "\n",
    "```"
   ]
  },
  {
   "cell_type": "markdown",
   "id": "6ba44111-5ad6-4e90-9530-504f27d30755",
   "metadata": {},
   "source": [
    "<a id=running-scripts-with-argparse-ex-3></a>\n",
    "***\n",
    "### Exercise 3\n",
    "\n",
    "[**Go to the top ↑**](#top-page)\n",
    "\n",
    "<a href=\"\">\n",
    "  <img src=\"https://img.shields.io/badge/youtube-firebrick?style=for-the-badge&logo=youtube&logoColor=white\" alt=\"YouTube Badge\"/>\n",
    "</a>\n",
    "\n",
    "In this exercise, we're learning to set boolean parameters of a Python script from the command line using the `argparse` library.\n",
    "\n"
   ]
  },
  {
   "cell_type": "code",
   "execution_count": null,
   "id": "6b2d96e5-e4c7-44dd-abba-f529fd67f8b3",
   "metadata": {},
   "outputs": [],
   "source": []
  },
  {
   "cell_type": "code",
   "execution_count": null,
   "id": "0f0e777a-5168-43eb-a0a5-11c1dbfd17c2",
   "metadata": {},
   "outputs": [],
   "source": []
  },
  {
   "cell_type": "code",
   "execution_count": null,
   "id": "e151ecf1-e9af-4213-89b6-0e8999394dd3",
   "metadata": {},
   "outputs": [],
   "source": []
  },
  {
   "cell_type": "code",
   "execution_count": null,
   "id": "09e189c6-ebfc-477b-9c75-2fb33b4cb692",
   "metadata": {},
   "outputs": [],
   "source": []
  },
  {
   "cell_type": "code",
   "execution_count": null,
   "id": "dc7f9319-04ff-463d-b4c9-db4e41df246b",
   "metadata": {},
   "outputs": [],
   "source": []
  },
  {
   "cell_type": "code",
   "execution_count": null,
   "id": "b8219f7b-908d-4947-bde7-56abb829ffea",
   "metadata": {},
   "outputs": [],
   "source": []
  },
  {
   "cell_type": "code",
   "execution_count": null,
   "id": "72f0fefb-50fc-4943-b85f-f61efeebe5b1",
   "metadata": {},
   "outputs": [],
   "source": []
  },
  {
   "cell_type": "code",
   "execution_count": null,
   "id": "6f55fb94-e3c6-4d5a-8051-5fb2789de51f",
   "metadata": {},
   "outputs": [],
   "source": []
  },
  {
   "cell_type": "code",
   "execution_count": null,
   "id": "25d0ffb4-da49-4468-bbbb-f7cedb9af9d0",
   "metadata": {},
   "outputs": [],
   "source": []
  },
  {
   "cell_type": "code",
   "execution_count": null,
   "id": "959198ee-6106-46f8-945b-7636d78de697",
   "metadata": {},
   "outputs": [],
   "source": []
  },
  {
   "cell_type": "code",
   "execution_count": null,
   "id": "3b4abb80-b3c1-468e-bf03-4d6d6825a7b3",
   "metadata": {},
   "outputs": [],
   "source": []
  },
  {
   "cell_type": "markdown",
   "id": "225c8e9e",
   "metadata": {},
   "source": [
    "***"
   ]
  }
 ],
 "metadata": {
  "kernelspec": {
   "display_name": "Python 3 (ipykernel)",
   "language": "python",
   "name": "python3"
  },
  "language_info": {
   "codemirror_mode": {
    "name": "ipython",
    "version": 3
   },
   "file_extension": ".py",
   "mimetype": "text/x-python",
   "name": "python",
   "nbconvert_exporter": "python",
   "pygments_lexer": "ipython3",
   "version": "3.10.13"
  }
 },
 "nbformat": 4,
 "nbformat_minor": 5
}
