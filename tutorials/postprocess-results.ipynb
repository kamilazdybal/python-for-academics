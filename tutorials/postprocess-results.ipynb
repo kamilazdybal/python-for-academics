{
 "cells": [
  {
   "cell_type": "markdown",
   "id": "957ddf8e",
   "metadata": {},
   "source": [
    "# `Python for academics` : Postprocessing results\n",
    "\n",
    "by **Kamila Zdybał**\n",
    "\n",
    "[`https://kamilazdybal.github.io`](https://kamilazdybal.github.io)"
   ]
  },
  {
   "cell_type": "markdown",
   "id": "75df42e3",
   "metadata": {},
   "source": [
    "In this notebook, we explore various ways in which Python can help us postprocess your research results."
   ]
  },
  {
   "cell_type": "markdown",
   "id": "1eb04193",
   "metadata": {},
   "source": [
    "<a id=top-page></a>\n",
    "\n",
    "***\n",
    "\n",
    "## Table of contents\n",
    "\n",
    "- [**Running postprocessing scripts**](#running-scripts)\n",
    "    - [Exercise 1](#running-scripts-ex-1)\n",
    "    \n",
    "***"
   ]
  },
  {
   "cell_type": "code",
   "execution_count": null,
   "id": "63e058b3",
   "metadata": {},
   "outputs": [],
   "source": [
    "import numpy as np"
   ]
  },
  {
   "cell_type": "markdown",
   "id": "54fccd9f",
   "metadata": {},
   "source": [
    "<a id=large-headers></a>\n",
    "***\n",
    "\n",
    "## Running postprocessing scripts\n",
    "\n",
    "[**Go to the top ↑**](#top-page)"
   ]
  },
  {
   "cell_type": "markdown",
   "id": "fb138b02",
   "metadata": {},
   "source": [
    "<a id=running-scripts-ex-1></a>\n",
    "***\n",
    "### Exercise 1\n",
    "\n",
    "[**Go to the top ↑**](#top-page)\n",
    "\n",
    "<a href=\"\">\n",
    "  <img src=\"https://img.shields.io/badge/youtube-firebrick?style=for-the-badge&logo=youtube&logoColor=white\" alt=\"YouTube Badge\"/>\n",
    "</a>\n",
    "\n",
    "In this exercise, we're preparing a Python script for postprocessing asynchronously arriving data.\n",
    "\n",
    "We want to postprocess a set of results that have already finished running but run postprocessing only once:\n",
    "\n",
    "```\n",
    "Hydrogen-case-008.csv\n",
    "Hydrogen-case-015.csv\n",
    "Hydrogen-case-007.csv\n",
    "Hydrogen-case-005.csv\n",
    "Hydrogen-case-013.csv\n",
    "Hydrogen-case-014.csv\n",
    "Hydrogen-case-006.csv\n",
    "Hydrogen-case-009.csv\n",
    "Hydrogen-case-003.csv\n",
    "Hydrogen-case-019.csv\n",
    "```"
   ]
  },
  {
   "cell_type": "markdown",
   "id": "9b668d9f-1e07-4cd8-87ae-e3742c675b6b",
   "metadata": {},
   "source": [
    "Generate empty results files:"
   ]
  },
  {
   "cell_type": "code",
   "execution_count": null,
   "id": "73bdb04c-a520-4b9a-b2ce-37a027bed136",
   "metadata": {},
   "outputs": [],
   "source": [
    "n_cases = 20"
   ]
  },
  {
   "cell_type": "code",
   "execution_count": null,
   "id": "f2a95205-cb84-43f6-bbdf-83975b19893d",
   "metadata": {},
   "outputs": [],
   "source": [
    "completed_runs = np.random.choice(range(1,n_cases+1), 10, replace=False)"
   ]
  },
  {
   "cell_type": "code",
   "execution_count": null,
   "id": "562c2b89-279f-48c9-b895-59056efc4f95",
   "metadata": {},
   "outputs": [],
   "source": [
    "sorted(completed_runs)"
   ]
  },
  {
   "cell_type": "code",
   "execution_count": null,
   "id": "5cbcbabe-e4fe-4a23-9e7e-daed5969c981",
   "metadata": {},
   "outputs": [],
   "source": [
    "for i in completed_runs:\n",
    "    f = open('../data/Hydrogen-case-' + str(i).zfill(2) + '.csv', 'x')"
   ]
  },
  {
   "cell_type": "code",
   "execution_count": null,
   "id": "77196c3e-e94a-482d-9d73-90634c94bf77",
   "metadata": {},
   "outputs": [],
   "source": [
    "import os"
   ]
  },
  {
   "cell_type": "code",
   "execution_count": null,
   "id": "b85fa7d0-451b-4119-9e44-662d7463fc63",
   "metadata": {},
   "outputs": [],
   "source": [
    "for case in range(1,n_cases+1):\n",
    "\n",
    "    if os.path.exists('../data/Hydrogen-case-' + str(case).zfill(2) + '.csv'):\n",
    "\n",
    "        if not os.path.exists('../data/postprocessed-Hydrogen-case-' + str(case).zfill(2) + '.csv'):\n",
    "\n",
    "            print('Postprocessing case ' + str(case))\n",
    "            \n",
    "            #\n",
    "            #\n",
    "            #\n",
    "\n",
    "            np.savetxt('../data/postprocessed-Hydrogen-case-' + str(case).zfill(2) + '.csv', ([case]), delimiter=',', fmt='%.16e')\n",
    "        \n",
    "        else:\n",
    "\n",
    "            print('Case ' + str(case) + ' already postprocessed!')\n",
    "\n",
    "    else:\n",
    "\n",
    "        print('Case ' + str(case) + ' not there yet!')"
   ]
  },
  {
   "cell_type": "code",
   "execution_count": null,
   "id": "db0bbb10-2877-4442-81b1-225a96351ad6",
   "metadata": {},
   "outputs": [],
   "source": [
    "remaining_runs = [i for i in range(1, n_cases+1) if i not in completed_runs]"
   ]
  },
  {
   "cell_type": "code",
   "execution_count": null,
   "id": "ebabd8cf-f0ba-4518-8e48-97458d1c608b",
   "metadata": {},
   "outputs": [],
   "source": [
    "remaining_runs"
   ]
  },
  {
   "cell_type": "code",
   "execution_count": null,
   "id": "1201098d-b7f6-430b-9397-56022ef72776",
   "metadata": {},
   "outputs": [],
   "source": [
    "for i in remaining_runs:\n",
    "    f = open('../data/Hydrogen-case-' + str(i).zfill(2) + '.csv', 'x')"
   ]
  },
  {
   "cell_type": "code",
   "execution_count": null,
   "id": "fcdc4669-ae7c-48b8-8d6d-651195c917f4",
   "metadata": {},
   "outputs": [],
   "source": []
  },
  {
   "cell_type": "code",
   "execution_count": null,
   "id": "1e6b54d2-3655-4ba9-97b6-8eb830c4c120",
   "metadata": {},
   "outputs": [],
   "source": []
  },
  {
   "cell_type": "code",
   "execution_count": null,
   "id": "2574258f",
   "metadata": {},
   "outputs": [],
   "source": []
  },
  {
   "cell_type": "code",
   "execution_count": null,
   "id": "1dbbe1c5",
   "metadata": {},
   "outputs": [],
   "source": []
  },
  {
   "cell_type": "code",
   "execution_count": null,
   "id": "16170847",
   "metadata": {},
   "outputs": [],
   "source": []
  },
  {
   "cell_type": "code",
   "execution_count": null,
   "id": "41286420",
   "metadata": {},
   "outputs": [],
   "source": []
  },
  {
   "cell_type": "code",
   "execution_count": null,
   "id": "294e6a91",
   "metadata": {},
   "outputs": [],
   "source": []
  },
  {
   "cell_type": "code",
   "execution_count": null,
   "id": "ef80705d",
   "metadata": {},
   "outputs": [],
   "source": []
  },
  {
   "cell_type": "code",
   "execution_count": null,
   "id": "05025b1c",
   "metadata": {},
   "outputs": [],
   "source": []
  },
  {
   "cell_type": "code",
   "execution_count": null,
   "id": "f9c7ff5d",
   "metadata": {},
   "outputs": [],
   "source": []
  },
  {
   "cell_type": "code",
   "execution_count": null,
   "id": "e0f9a9ea",
   "metadata": {},
   "outputs": [],
   "source": []
  },
  {
   "cell_type": "markdown",
   "id": "225c8e9e",
   "metadata": {},
   "source": [
    "***"
   ]
  }
 ],
 "metadata": {
  "kernelspec": {
   "display_name": "Python 3 (ipykernel)",
   "language": "python",
   "name": "python3"
  },
  "language_info": {
   "codemirror_mode": {
    "name": "ipython",
    "version": 3
   },
   "file_extension": ".py",
   "mimetype": "text/x-python",
   "name": "python",
   "nbconvert_exporter": "python",
   "pygments_lexer": "ipython3",
   "version": "3.10.13"
  }
 },
 "nbformat": 4,
 "nbformat_minor": 5
}
