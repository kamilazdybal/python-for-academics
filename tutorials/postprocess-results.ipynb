{
 "cells": [
  {
   "cell_type": "markdown",
   "id": "957ddf8e",
   "metadata": {},
   "source": [
    "# `Python for academics` : Postprocessing results\n",
    "\n",
    "by **Kamila Zdybał**\n",
    "\n",
    "[`https://kamilazdybal.github.io`](https://kamilazdybal.github.io)"
   ]
  },
  {
   "cell_type": "markdown",
   "id": "75df42e3",
   "metadata": {},
   "source": [
    "In this notebook, we explore various ways in which Python can help us postprocess your research results."
   ]
  },
  {
   "cell_type": "markdown",
   "id": "1eb04193",
   "metadata": {},
   "source": [
    "<a id=top-page></a>\n",
    "\n",
    "***\n",
    "\n",
    "## Table of contents\n",
    "\n",
    "- [**Running postprocessing scripts**](#running-scripts)\n",
    "    - [Exercise 1](#running-scripts-ex-1)\n",
    "    \n",
    "***"
   ]
  },
  {
   "cell_type": "code",
   "execution_count": 1,
   "id": "63e058b3",
   "metadata": {},
   "outputs": [],
   "source": [
    "import numpy as np"
   ]
  },
  {
   "cell_type": "markdown",
   "id": "54fccd9f",
   "metadata": {},
   "source": [
    "<a id=large-headers></a>\n",
    "***\n",
    "\n",
    "## Running postprocessing scripts\n",
    "\n",
    "[**Go to the top ↑**](#top-page)"
   ]
  },
  {
   "cell_type": "markdown",
   "id": "fb138b02",
   "metadata": {},
   "source": [
    "<a id=running-scripts-ex-1></a>\n",
    "***\n",
    "### Exercise 1\n",
    "\n",
    "[**Go to the top ↑**](#top-page)\n",
    "\n",
    "<a href=\"https://youtu.be/fUt7Eshf0lU\">\n",
    "  <img src=\"https://img.shields.io/badge/youtube-firebrick?style=for-the-badge&logo=youtube&logoColor=white\" alt=\"YouTube Badge\"/>\n",
    "</a>\n",
    "\n",
    "In this exercise, we're preparing a Python script for postprocessing asynchronously arriving data.\n",
    "\n",
    "We want to postprocess a set of results that have finished running thus far and run postprocessing only once on each case:\n",
    "\n",
    "```\n",
    "Hydrogen-case-008.csv\n",
    "Hydrogen-case-015.csv\n",
    "Hydrogen-case-007.csv\n",
    "Hydrogen-case-005.csv\n",
    "Hydrogen-case-013.csv\n",
    "Hydrogen-case-014.csv\n",
    "Hydrogen-case-006.csv\n",
    "Hydrogen-case-009.csv\n",
    "Hydrogen-case-003.csv\n",
    "Hydrogen-case-019.csv\n",
    "```"
   ]
  },
  {
   "cell_type": "markdown",
   "id": "9b668d9f-1e07-4cd8-87ae-e3742c675b6b",
   "metadata": {},
   "source": [
    "Generate empty results files:"
   ]
  },
  {
   "cell_type": "code",
   "execution_count": 2,
   "id": "a143f9e3-cab3-4d54-a0a5-b3700930a400",
   "metadata": {},
   "outputs": [],
   "source": [
    "n_cases = 20"
   ]
  },
  {
   "cell_type": "code",
   "execution_count": 3,
   "id": "809684dd-2f1b-4917-b431-716eb2629ca0",
   "metadata": {},
   "outputs": [],
   "source": [
    "completed_runs = np.random.choice(range(1,n_cases+1), 10, replace=False)"
   ]
  },
  {
   "cell_type": "code",
   "execution_count": 5,
   "id": "b6cfaef8-f88c-4f93-be0e-489d649567c3",
   "metadata": {},
   "outputs": [
    {
     "data": {
      "text/plain": [
       "[3, 4, 5, 7, 9, 11, 16, 17, 19, 20]"
      ]
     },
     "execution_count": 5,
     "metadata": {},
     "output_type": "execute_result"
    }
   ],
   "source": [
    "sorted(completed_runs)"
   ]
  },
  {
   "cell_type": "code",
   "execution_count": 6,
   "id": "31701c6d-66a1-4632-979d-5dac26b3dd95",
   "metadata": {},
   "outputs": [],
   "source": [
    "for i in completed_runs:\n",
    "\n",
    "    f = open('../data/Hydrogen-case-' + str(i).zfill(2) + '.csv', 'x')"
   ]
  },
  {
   "cell_type": "code",
   "execution_count": 7,
   "id": "34ab6578-d112-4a5e-9fb4-289efcfc4983",
   "metadata": {},
   "outputs": [],
   "source": [
    "import os"
   ]
  },
  {
   "cell_type": "code",
   "execution_count": 13,
   "id": "df3e867c-376c-44ca-a551-066f9b6d555a",
   "metadata": {},
   "outputs": [
    {
     "name": "stdout",
     "output_type": "stream",
     "text": [
      "Postprocessing case 1\n",
      "Postprocessing case 2\n",
      "Case 3 already postprocessed.\n",
      "Case 4 already postprocessed.\n",
      "Case 5 already postprocessed.\n",
      "Postprocessing case 6\n",
      "Case 7 already postprocessed.\n",
      "Postprocessing case 8\n",
      "Case 9 already postprocessed.\n",
      "Postprocessing case 10\n",
      "Case 11 already postprocessed.\n",
      "Postprocessing case 12\n",
      "Postprocessing case 13\n",
      "Postprocessing case 14\n",
      "Postprocessing case 15\n",
      "Case 16 already postprocessed.\n",
      "Case 17 already postprocessed.\n",
      "Postprocessing case 18\n",
      "Case 19 already postprocessed.\n",
      "Case 20 already postprocessed.\n"
     ]
    }
   ],
   "source": [
    "for case in range(1,n_cases+1):\n",
    "\n",
    "    if os.path.exists('../data/Hydrogen-case-' + str(case).zfill(2) + '.csv'):\n",
    "\n",
    "        if not os.path.exists('../data/postprocessed-Hydrogen-case-' + str(case).zfill(2) + '.csv'):\n",
    "\n",
    "            print('Postprocessing case ' + str(case))\n",
    "        \n",
    "            #\n",
    "            #\n",
    "            #\n",
    "\n",
    "            np.savetxt('../data/postprocessed-Hydrogen-case-' + str(case).zfill(2) + '.csv', ([case]), delimiter=',', fmt='%.16e')\n",
    "\n",
    "        else:\n",
    "\n",
    "            print('Case ' + str(case) + ' already postprocessed.')\n",
    "\n",
    "    else:\n",
    "\n",
    "        print('Case ' + str(case) + ' not there yet!')"
   ]
  },
  {
   "cell_type": "code",
   "execution_count": 10,
   "id": "1e6b54d2-3655-4ba9-97b6-8eb830c4c120",
   "metadata": {},
   "outputs": [],
   "source": [
    "remaining_cases = [i for i in range(1,n_cases+1) if i not in completed_runs]"
   ]
  },
  {
   "cell_type": "code",
   "execution_count": 11,
   "id": "2574258f",
   "metadata": {},
   "outputs": [
    {
     "data": {
      "text/plain": [
       "[1, 2, 6, 8, 10, 12, 13, 14, 15, 18]"
      ]
     },
     "execution_count": 11,
     "metadata": {},
     "output_type": "execute_result"
    }
   ],
   "source": [
    "remaining_cases"
   ]
  },
  {
   "cell_type": "code",
   "execution_count": 12,
   "id": "1dbbe1c5",
   "metadata": {},
   "outputs": [],
   "source": [
    "for i in remaining_cases:\n",
    "\n",
    "    f = open('../data/Hydrogen-case-' + str(i).zfill(2) + '.csv', 'x')"
   ]
  },
  {
   "cell_type": "code",
   "execution_count": null,
   "id": "16170847",
   "metadata": {},
   "outputs": [],
   "source": []
  },
  {
   "cell_type": "code",
   "execution_count": null,
   "id": "41286420",
   "metadata": {},
   "outputs": [],
   "source": []
  },
  {
   "cell_type": "code",
   "execution_count": null,
   "id": "294e6a91",
   "metadata": {},
   "outputs": [],
   "source": []
  },
  {
   "cell_type": "code",
   "execution_count": null,
   "id": "ef80705d",
   "metadata": {},
   "outputs": [],
   "source": []
  },
  {
   "cell_type": "code",
   "execution_count": null,
   "id": "05025b1c",
   "metadata": {},
   "outputs": [],
   "source": []
  },
  {
   "cell_type": "code",
   "execution_count": null,
   "id": "f9c7ff5d",
   "metadata": {},
   "outputs": [],
   "source": []
  },
  {
   "cell_type": "code",
   "execution_count": null,
   "id": "e0f9a9ea",
   "metadata": {},
   "outputs": [],
   "source": []
  },
  {
   "cell_type": "markdown",
   "id": "225c8e9e",
   "metadata": {},
   "source": [
    "***"
   ]
  }
 ],
 "metadata": {
  "kernelspec": {
   "display_name": "Python 3 (ipykernel)",
   "language": "python",
   "name": "python3"
  },
  "language_info": {
   "codemirror_mode": {
    "name": "ipython",
    "version": 3
   },
   "file_extension": ".py",
   "mimetype": "text/x-python",
   "name": "python",
   "nbconvert_exporter": "python",
   "pygments_lexer": "ipython3",
   "version": "3.10.13"
  }
 },
 "nbformat": 4,
 "nbformat_minor": 5
}
